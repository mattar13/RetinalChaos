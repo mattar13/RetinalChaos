{
 "cells": [
  {
   "cell_type": "code",
   "execution_count": null,
   "metadata": {},
   "outputs": [
    {
     "name": "stderr",
     "output_type": "stream",
     "text": [
      "┌ Info: Precompiling DifferentialEquations [0c46a032-eb83-5123-abaf-570d42b7fbaa]\n",
      "└ @ Base loading.jl:1273\n"
     ]
    }
   ],
   "source": [
    "using DifferentialEquations, ParameterizedFunctions\n",
    "using Plots, Colors, LaTeXStrings\n",
    "using ForwardDiff, NLsolve\n",
    "using Plots.Measures\n",
    "\n",
    "font_title = Plots.font(\"Arial\", 24)\n",
    "font_axis = Plots.font(\"Arial\", 12)\n",
    "font_legend = Plots.font(\"Arial\", 8)\n",
    "pyplot(titlefont=font_title, guidefont = font_axis, legendfont = font_legend)"
   ]
  },
  {
   "cell_type": "code",
   "execution_count": null,
   "metadata": {},
   "outputs": [],
   "source": [
    "using RetinalChaos"
   ]
  },
  {
   "cell_type": "markdown",
   "metadata": {},
   "source": [
    "# RetinalChaos.jl: An introduction\n",
    "### In order to understand the code published here, these notebooks will act as simple tutorials on both how the model was designed. \n",
    "\n",
    "## Table of contents:\n",
    "\n",
    "### [1] Introduction, Motivation, and Components\n",
    "#### [1.1] Voltage and Potassium gating components of the model\n",
    "#### [1.2] Calcium and the Biochemical Reactions of the sAHP\n",
    "#### [1.3] Acetylcholine Diffusion and Dynamics\n",
    "#### [1.4] Gaussian White noise and dynamics\n",
    "\n",
    "### _**[2] Analyzing Data Output of the model**_\n",
    "#### **[2.1] Dynamical Analysis**\n",
    "#### [2.2] Fitting Experimental Data (Patch)\n",
    "#### [2.3] Fitting Experimental Data (Multi-electrode array)\n",
    "#### [2.4] Fitting Experimental Data (Calcium Imageing) \n",
    "\n",
    "### [3] Experiments\n",
    "#### [3.1] Dual Eye Correlations\n",
    "#### [3.2] Recapitulations of older papers\n",
    "\n",
    "# Just to recap the model in full is \n",
    "\\begin{align}\n",
    "   C_m\\frac{dV}{dt} &= I_{leak} + I_{Ca} + I_K + I_{app} + I_{noise}\\\\\n",
    "   \\tau_N\\frac{dN}{dt} &= \\Lambda(V)(N_\\infty(V) - N)\\\\\n",
    "   \\tau_C\\frac{d[Ca^{2+}]}{dt} &= C_0 + \\delta I_{Ca}(V) -\\lambda  [Ca^{2+}]\\\\\n",
    "   \\tau_a\\frac{da}{dt} &= \\alpha * [Ca^{2+}]^4 * \\left(1- a\\right) - a\\\\\n",
    "   \\tau_b\\frac{db}{dt} &= \\beta * a^4 * (1 - b) - b\\\\\n",
    "   \\tau_{[ACh]}\\frac{d[ACh]}{dt} &=  \\nabla_{xx}^2 [ACh] + \\rho \\Phi(V) -[ACh]\n",
    "\\end{align}\n"
   ]
  },
  {
   "cell_type": "code",
   "execution_count": null,
   "metadata": {},
   "outputs": [],
   "source": [
    "delta = latexstring(\"\\$\\\\delta\\$\")\n",
    "micro = latexstring(\"\\$\\\\mu\\$\")\n",
    "vt = latexstring(\"\\$V_t\\$\")\n",
    "nt = latexstring(\"\\$N_t\\$\")\n",
    "i_ach = latexstring(\"\\$I_{ACh}\\$\")\n",
    "i_trek = latexstring(\"\\$I_{TREK}\\$\")\n",
    "i_app = latexstring(\"\\$I_{App}\\$\")\n",
    "g_ca = latexstring(\"\\$g_{Ca}\\$\")\n",
    "g_k = latexstring(\"\\$g_{K}\\$\")\n",
    "\n",
    "v_color = :deepskyblue\n",
    "n_color = :magenta\n",
    "c_color = :green\n",
    "a_color = :purple\n",
    "b_color = :red\n",
    "ach_color = :blue"
   ]
  },
  {
   "cell_type": "code",
   "execution_count": null,
   "metadata": {},
   "outputs": [],
   "source": [
    "import RetinalChaos: BurstModel, u_find, p_find \n",
    "import RetinalChaos.phase_plane, RetinalChaos.find_equilibria"
   ]
  },
  {
   "cell_type": "code",
   "execution_count": null,
   "metadata": {},
   "outputs": [],
   "source": [
    "p_dict = read_JSON(\"params.json\", is_type = Dict{Symbol, Float64});\n",
    "u_dict = read_JSON(\"conds.json\", is_type = Dict{Symbol, Float64});\n",
    "#For the bifurcation analysis we can null out the \n",
    "p_dict[:g_TREK] = 0.0\n",
    "p_dict[:g_ACh] = 0.0\n",
    "p_dict[:σ] = 0.0\n",
    "p_dict[:I_app] = -12.0\n",
    "\n",
    "p0 = RetinalChaos.extract_dict(p_dict, model_pars); pi = copy(p0);\n",
    "u0 = RetinalChaos.extract_dict(u_dict, model_conds); ui = copy(u0);\n",
    "\n",
    "tspan = (0.0, 500.0);\n",
    "prob = ODEProblem(BurstModel, u0, tspan, p0);\n",
    "println(\"Time it took to simulate 200ms:\")\n",
    "@time sol = solve(prob);\n",
    "\n",
    "vars = [:v, :n]\n",
    "xlims = (-90.0, 0.0)\n",
    "ylims = (-0.10, 1.0)\n",
    "xspan = LinRange(xlims[1], xlims[2], 100)\n",
    "yspan = LinRange(ylims[1], ylims[2], 100)\n",
    "pp = phase_plane(ui, pi; vars = vars, xlims = xlims, ylims = ylims);\n",
    "equilibria = find_equilibria(ui, pi; vars = vars, xlims = xlims, ylims = ylims, resolution = 3);\n",
    "println(equilibria)\n",
    "sfig2_Aa1 = plot(sol, vars = [(vars[1], vars[2])], \n",
    "    xlims = (xspan[1], xspan[end]), ylims = (yspan[1], yspan[end]), \n",
    "    lw = 2.0, \n",
    "    c = :black, label = \"Trajectory\", title = (\"$(i_app) = $(p_dict[:I_app])pA\"), titlefontsize = 15.0\n",
    ")\n",
    "\n",
    "contour!(sfig2_Aa1, xspan, yspan, pp[:,:,(vars[1]|>u_find)[1]]', label = \"Vt nullcline\",\n",
    "    levels = [0], colorbar = :none,\n",
    "    c = v_color, lw = 2.0\n",
    ")\n",
    "contour!(sfig2_Aa1, xspan, yspan, pp[:,:,(vars[2]|>u_find)[1]]', label = \"Nt nullcline\",\n",
    "    levels = [0], colorbar = :none,\n",
    "    c = n_color, lw = 2.0\n",
    ")\n",
    "\n",
    "plot!(sfig2_Aa1, equilibria)\n",
    "\n",
    "xlabel!(sfig2_Aa1, \"Vt (mV)\")\n",
    "ylabel!(sfig2_Aa1, \"Nt\")\n",
    "sfig2_Aa2 = plot(sol, vars = [:v, :n], layout = grid(2, 1), \n",
    "    c = [v_color n_color], label = \"\", \n",
    "    xlabel = [\"\" \"Time (ms)\"], ylabel = [\"Vt (mV)\" \"Nt\"], \n",
    "    margin = 0mm, lw = 2.0,\n",
    "    xlims = tspan, ylims = [xlims ylims]\n",
    ")\n",
    "sfig2_Aa = plot(sfig2_Aa1, sfig2_Aa2, layout = grid(2, 1, heights = [0.6, 0.4]), size = (400, 600));"
   ]
  },
  {
   "cell_type": "code",
   "execution_count": null,
   "metadata": {},
   "outputs": [],
   "source": [
    "p_dict = read_JSON(\"params.json\", is_type = Dict{Symbol, Float64});\n",
    "u_dict = read_JSON(\"conds.json\", is_type = Dict{Symbol, Float64});\n",
    "#For the bifurcation analysis we can null out the \n",
    "p_dict[:g_TREK] = 0.0\n",
    "p_dict[:g_ACh] = 0.0\n",
    "p_dict[:σ] = 0.0\n",
    "p_dict[:I_app] = 12.0\n",
    "\n",
    "p0 = map(x -> Float64(p_dict[x]), BurstModel.params); pi = copy(p0);\n",
    "u0 = map(x -> Float64(u_dict[x]), BurstModel.syms); ui = copy(u0);\n",
    "tspan = (0.0, 500.0);\n",
    "prob = ODEProblem(BurstModel, u0, tspan, p0);\n",
    "println(\"Time it took to simulate 200ms:\")\n",
    "@time sol = solve(prob);\n",
    "\n",
    "vars = [:v, :n]\n",
    "xlims = (-90.0, 0.0)\n",
    "ylims = (-0.10, 1.0)\n",
    "xspan = LinRange(xlims[1], xlims[2], 100)\n",
    "yspan = LinRange(ylims[1], ylims[2], 100)\n",
    "pp = phase_plane(ui, pi; vars = vars, xlims = xlims, ylims = ylims);\n",
    "equilibria = find_equilibria(ui, pi; vars = vars, xlims = xlims, ylims = ylims, resolution = 3);\n",
    "println(equilibria)\n",
    "sfig2_Ab1 = plot(sol, vars = [(vars[1], vars[2])], \n",
    "    xlims = (xspan[1], xspan[end]), ylims = (yspan[1], yspan[end]), \n",
    "    lw = 2.0, \n",
    "    c = :black, label = \"Trajectory\", title = (\"$(i_app) = $(p_dict[:I_app])pA\"), titlefontsize = 15.0\n",
    ")\n",
    "\n",
    "contour!(sfig2_Ab1, xspan, yspan, pp[:,:,(vars[1]|>u_find)[1]]', label = \"Vt nullcline\",\n",
    "    levels = [0], colorbar = :none,\n",
    "    c = v_color, lw = 2.0\n",
    ")\n",
    "contour!(sfig2_Ab1, xspan, yspan, pp[:,:,(vars[2]|>u_find)[1]]', label = \"Nt nullcline\",\n",
    "    levels = [0], colorbar = :none,\n",
    "    c = n_color, lw = 2.0\n",
    ")\n",
    "\n",
    "plot!(sfig2_Ab1, equilibria)\n",
    "xlabel!(sfig2_Ab1, \"Vt (mV)\")\n",
    "ylabel!(sfig2_Ab1, \"Nt\")\n",
    "sfig2_Ab2 = plot(sol, vars = [:v, :n], layout = grid(2, 1), \n",
    "    c = [v_color n_color], label = \"\", \n",
    "    xlabel = [\"\" \"Time (ms)\"], ylabel = [\"Vt (mV)\" \"Nt\"], \n",
    "    margin = 0mm, lw = 2.0 ,\n",
    "    xlims = tspan, ylims = [xlims ylims]\n",
    ")\n",
    "sfig2_Ab = plot(sfig2_Ab1, sfig2_Ab2, layout = grid(2, 1, heights = [0.6, 0.4]), size = (400, 600));"
   ]
  },
  {
   "cell_type": "code",
   "execution_count": null,
   "metadata": {},
   "outputs": [],
   "source": [
    "sfig2_A = plot(sfig2_Aa, sfig2_Ab, layout = grid(1,2), size = (1000, 600))"
   ]
  },
  {
   "cell_type": "code",
   "execution_count": null,
   "metadata": {},
   "outputs": [],
   "source": [
    "#This calculates the dynamic equilibria along a single point\n",
    "p_dict = read_JSON(\"params.json\", is_type = Dict{Symbol, Float64});\n",
    "u_dict = read_JSON(\"conds.json\", is_type = Dict{Symbol, Float64});\n",
    "#For the bifurcation analysis we can null out the \n",
    "p_dict[:g_TREK] = 0.0\n",
    "p_dict[:σ] = 0.0\n",
    "p_dict[:I_app] = 0.0\n",
    "#p_dict[:V1] = -30.0\n",
    "p0 = map(x -> Float64(p_dict[x]), BurstModel.params); pi = copy(p0);\n",
    "u0 = map(x -> Float64(u_dict[x]), BurstModel.syms); ui = copy(u0);\n",
    "\n",
    "p_dyn = :I_app\n",
    "p_range = LinRange(-30.0, 40.0, 100)\n",
    "println(p_range[16])\n",
    "sfig2_B = plot(size = (1000, 500))\n",
    "for val in p_range\n",
    "    pv = copy(p0)\n",
    "    uv = copy(u0)\n",
    "    pv[(p_dyn |> p_find)...] = val\n",
    "    \n",
    "    equilibria = find_equilibria(uv, pv, resolution = 10)\n",
    "    if equilibria.unstable_focus != [] && equilibria.stable == []\n",
    "        prob = ODEProblem(BurstModel, equilibria.unstable_focus[1], tspan, pv);\n",
    "        sol = solve(prob, saveat = 1.0);\n",
    "    else\n",
    "        prob = ODEProblem(BurstModel, uv, tspan, pv);\n",
    "        sol = solve(prob, saveat = 1.0);\n",
    "    end\n",
    "    vt = map(x -> sol(x)[1], sol.t)\n",
    "    nt = map(x -> sol(x)[2], sol.t)\n",
    "    z = repeat([val], length(nt))\n",
    "    \n",
    "    #plot!(p[1], z, nt, vt, label = \"\", c = :black, xlabel = \"$(i_app)\")\n",
    "    plot!(sfig2_B, z, vt, label = \"\", c = :black)\n",
    "    plot!(sfig2_B, val, equilibria, view = :zx, label = \"\")\n",
    "end\n",
    "\n",
    "ylabel!(sfig2_B, \"Vt (mV)\")\n",
    "#vline!(sfig2_B, [-12.0], c = :black, lw = 4.0, linestyle = :dash, label = \"$(i_app) = -12.0pA\")\n",
    "#vline!(sfig2_B, [8.0], c = :black, lw = 4.0, linestyle = :dash, label = \"$(i_app) = 8.0pA\")\n",
    "title!(sfig2_B, \"B\", titlepos = :left)"
   ]
  },
  {
   "cell_type": "code",
   "execution_count": null,
   "metadata": {},
   "outputs": [],
   "source": [
    "sfig2 = plot(sfig2_A, sfig2_B, layout = grid(2,1, heights = [0.6, 0.4]), size = (800, 1000))"
   ]
  },
  {
   "cell_type": "markdown",
   "metadata": {},
   "source": [
    "### Extracting currents and checking bifurcations"
   ]
  },
  {
   "cell_type": "code",
   "execution_count": null,
   "metadata": {},
   "outputs": [],
   "source": [
    "import RetinalChaos.codim_map, RetinalChaos.extract_thresholds, RetinalChaos.extract_baselines"
   ]
  },
  {
   "cell_type": "code",
   "execution_count": null,
   "metadata": {},
   "outputs": [],
   "source": [
    "#savefig(p, \"bifurcation.png\");"
   ]
  },
  {
   "cell_type": "code",
   "execution_count": null,
   "metadata": {},
   "outputs": [],
   "source": [
    "p_dict = read_JSON(\"params.json\", is_type = Dict{Symbol, Float64});\n",
    "u_dict = read_JSON(\"conds.json\", is_type = Dict{Symbol, Float64});\n",
    "#For the bifurcation analysis we can null out the \n",
    "p_dict[:g_TREK] = 0.0\n",
    "p_dict[:σ] = 0.0\n",
    "p_dict[:I_app] = 0.0\n",
    "p0 = map(x -> Float64(p_dict[x]), BurstModel.params); pi = copy(p0);\n",
    "u0 = map(x -> Float64(u_dict[x]), BurstModel.syms); ui = copy(u0);\n",
    "equilibria = find_equilibria(ui, pi; vars = vars, xlims = xlims, ylims = ylims, resolution = 3);"
   ]
  },
  {
   "cell_type": "code",
   "execution_count": null,
   "metadata": {},
   "outputs": [],
   "source": [
    "codim2 = (:I_app, :k_d)\n",
    "c1_lims = (3.0, 20.0); c2_lims = (-60.0, 60.0) \n",
    "@time c2_map = codim_map(ui, pi, codim2, c1_lims = c1_lims, c2_lims = c2_lims);"
   ]
  },
  {
   "cell_type": "code",
   "execution_count": null,
   "metadata": {},
   "outputs": [],
   "source": [
    "top = plot(c2_map; view = :xyz, \n",
    "    xlabel = \"$(codim2[1])\", ylabel = \"$(codim2[2])\", zlabel = \"Equilibria Voltage\");"
   ]
  },
  {
   "cell_type": "code",
   "execution_count": null,
   "metadata": {},
   "outputs": [],
   "source": [
    "p1 = plot(c2_map; view = :xz, \n",
    "    xlabel = \"$(codim2[1])\", ylabel = \"Equilibria Voltage\")\n",
    "p2 = plot(c2_map; view = :xy, \n",
    "    xlabel = \"$(codim2[1])\", ylabel = \"$(codim2[2])\", zlabel = \"Equilibria Voltage\")\n",
    "p3 = plot(c2_map; view = :yz, \n",
    "    xlabel = \"$(codim2[2])\", ylabel = \"Equilibria Voltage\"\n",
    ")\n",
    "mid = plot(p1, p2, p3, layout = grid(1,3));"
   ]
  },
  {
   "cell_type": "code",
   "execution_count": null,
   "metadata": {},
   "outputs": [],
   "source": [
    "thresholds = extract_thresholds(c2_map)\n",
    "baselines = extract_baselines(c2_map)\n",
    "\n",
    "bottom1 = plot(c2_map; view = :baselines, \n",
    "        xlabel = \"$(codim2[1])\", ylabel = \"$(codim2[2])\", \n",
    "        xticks = collect(c1_lims[1]:1:c1_lims[2]), yticks = collect(c2_lims[1]:1:c2_lims[2])\n",
    "    )\n",
    "bottom1 = contourf!(bottom1, baselines, \n",
    "    levels = [-65.0, -57.0], c = :red, alpha = 0.2, label = \"Physiological baseline\", \n",
    "    title = \"Baseline Voltage (mV)\", titlefontsize = 12.0\n",
    "    );\n",
    "\n",
    "bottom2 = plot(c2_map; view = :thresholds, \n",
    "    xlabel = \"$(codim2[1])\", ylabel = \"$(codim2[2])\", \n",
    "    xticks = collect(c1_lims[1]:1:c1_lims[2]), yticks = collect(c2_lims[1]:1:c2_lims[2])\n",
    ")\n",
    "\n",
    "bottom2 = contourf!(bottom2, thresholds, \n",
    "    levels = [-49.0, -40.0], c = :green, alpha = 0.2, label = \"Physiological baseline\", \n",
    "    title = \"Threshold Voltage (mV)\", titlefontsize = 12.0\n",
    "    \n",
    ")\n",
    "bottom = plot(bottom1, bottom2, layout = grid(1,2));"
   ]
  },
  {
   "cell_type": "code",
   "execution_count": null,
   "metadata": {},
   "outputs": [],
   "source": [
    "plot(top, mid, bottom, layout = grid(3, 1, heights = [0.5, 0.25, 0.25]), size = (800,1000))"
   ]
  },
  {
   "cell_type": "code",
   "execution_count": null,
   "metadata": {},
   "outputs": [],
   "source": [
    "p_dict = read_JSON(\"params.json\", is_type = Dict{Symbol, Float64});\n",
    "u_dict = read_JSON(\"conds.json\", is_type = Dict{Symbol, Float64});\n",
    "#For the bifurcation analysis we can null out the \n",
    "p_dict[:g_TREK] = 0.0\n",
    "p_dict[:σ] = 0.0\n",
    "\n",
    "p_dict[:g_Ca] = 11.0\n",
    "p_dict[:g_K] = 10.0\n",
    "p_dict[:I_app] = 4.0\n",
    "\n",
    "#p_dict[:V3] = -30.0\n",
    "p0 = map(x -> Float64(p_dict[x]), BurstModel.params); pi = copy(p0);\n",
    "u0 = map(x -> Float64(u_dict[x]), BurstModel.syms); ui = copy(u0);\n",
    "tspan = (0.0, 500.0);\n",
    "prob = ODEProblem(BurstModel, u0, tspan, p0);\n",
    "println(\"Time it took to simulate 200ms:\")\n",
    "@time sol = solve(prob);\n",
    "\n",
    "vars = [:v, :n]\n",
    "xlims = (-90.0, 0.0)\n",
    "ylims = (-0.10, 1.0)\n",
    "xspan = LinRange(xlims[1], xlims[2], 100)\n",
    "yspan = LinRange(ylims[1], ylims[2], 100)\n",
    "pp = phase_plane(ui, pi; vars = vars, xlims = xlims, ylims = ylims);\n",
    "equilibria = find_equilibria(ui, pi; vars = vars, xlims = xlims, ylims = ylims, resolution = 3);\n",
    "\n",
    "sfig2_Ab1 = plot(sol, vars = [(vars[1], vars[2])], \n",
    "    xlims = (xspan[1], xspan[end]), ylims = (yspan[1], yspan[end]), \n",
    "    lw = 2.0, \n",
    "    c = :black, label = \"Trajectory\", title = (\"$(i_app) = $(p_dict[:I_app])pA\"), titlefontsize = 15.0\n",
    ")\n",
    "\n",
    "contour!(sfig2_Ab1, xspan, yspan, pp[:,:,(vars[1]|>u_find)[1]]', label = \"Vt nullcline\",\n",
    "    levels = [0], colorbar = :none,\n",
    "    c = v_color, lw = 2.0\n",
    ")\n",
    "contour!(sfig2_Ab1, xspan, yspan, pp[:,:,(vars[2]|>u_find)[1]]', label = \"Nt nullcline\",\n",
    "    levels = [0], colorbar = :none,\n",
    "    c = n_color, lw = 2.0\n",
    ")\n",
    "\n",
    "plot!(sfig2_Ab1, equilibria)\n",
    "xlabel!(sfig2_Ab1, \"Vt (mV)\")\n",
    "ylabel!(sfig2_Ab1, \"Nt\")\n",
    "sfig2_Ab2 = plot(sol, vars = [:v, :n], layout = grid(2, 1), \n",
    "    c = [v_color n_color], label = \"\", \n",
    "    xlabel = [\"\" \"Time (ms)\"], ylabel = [\"Vt (mV)\" \"Nt\"], \n",
    "    margin = 0mm, lw = 2.0 ,\n",
    "    xlims = tspan, ylims = [xlims ylims]\n",
    ")\n",
    "sfig2_Ab = plot(sfig2_Ab1, sfig2_Ab2, layout = grid(2, 1, heights = [0.6, 0.4]), size = (400, 600))"
   ]
  },
  {
   "cell_type": "code",
   "execution_count": null,
   "metadata": {},
   "outputs": [],
   "source": [
    "p_dyn = :g_K\n",
    "p_range = LinRange(1.0, 20.0, 100)\n",
    "sfig2_B = plot(size = (1000, 500), ylabel = \"Nt\", zlabel = \"Vt(mV)\", xlabel = p_dyn, \n",
    "    #xlims = (p_range[1], p_range[end]), ylims = xlims, zlims = ylims\n",
    ")\n",
    "for val in p_range\n",
    "    pv = copy(p0)\n",
    "    uv = copy(u0)\n",
    "    pv[(p_dyn |> p_find)...] = val\n",
    "    \n",
    "    equilibria = find_equilibria(uv, pv, resolution = 10)\n",
    "    if equilibria.unstable_focus != [] && equilibria.stable == []\n",
    "        prob = ODEProblem(BurstModel, equilibria.unstable_focus[1], tspan, pv);\n",
    "        sol = solve(prob, saveat = 1.0);\n",
    "    else\n",
    "        prob = ODEProblem(BurstModel, uv, tspan, pv);\n",
    "        sol = solve(prob, saveat = 1.0);\n",
    "    end\n",
    "    vt = map(x -> sol(x)[1], sol.t)\n",
    "    nt = map(x -> sol(x)[2], sol.t)\n",
    "    z = repeat([val], length(nt))\n",
    "    \n",
    "    plot!(sfig2_B, z, nt, vt, label = \"\", c = :black)\n",
    "    plot!(sfig2_B, val, equilibria, view = :zyx, label = \"\")\n",
    "end\n",
    "sfig2_B"
   ]
  },
  {
   "cell_type": "code",
   "execution_count": null,
   "metadata": {},
   "outputs": [],
   "source": [
    "plot(sfig2_Ab, sfig2_B, layout = grid(1, 2, widths = [0.3, 0.7]))"
   ]
  },
  {
   "cell_type": "markdown",
   "metadata": {},
   "source": [
    "### In order to make sense of a bifurcation analysis we can use the ensemble approach to the model"
   ]
  },
  {
   "cell_type": "code",
   "execution_count": null,
   "metadata": {},
   "outputs": [],
   "source": [
    "n_sims = 50\n",
    "par = :I_app\n",
    "p_range = LinRange(-5.0, 4.0, n_sims)\n",
    "prob_func(prob, i, repeat) = ensemble_func(prob, i, repeat; pars = [par], par_range = p_range)\n",
    "ensemble_prob = EnsembleProblem(prob, prob_func = prob_func)"
   ]
  },
  {
   "cell_type": "code",
   "execution_count": null,
   "metadata": {},
   "outputs": [],
   "source": [
    "@time sim = solve(ensemble_prob, saveat = 100.0, trajectories = n_sims, EnsembleThreads());\n",
    "sim[1] |> size"
   ]
  },
  {
   "cell_type": "code",
   "execution_count": null,
   "metadata": {},
   "outputs": [],
   "source": [
    "p = plot(layout = grid(4, 2), size = (1000, 1000))\n",
    "for (idx, traj) in enumerate(sim)\n",
    "    val = p_range[idx]\n",
    "    t = sol.t\n",
    "    vt = map(t -> traj(t)[1], sol.t)\n",
    "    nt = map(t -> traj(t)[2], sol.t)\n",
    "    ct = map(t -> traj(t)[3], sol.t)\n",
    "    at = map(t -> 1-traj(t)[4], sol.t)\n",
    "    bt = map(t -> traj(t)[5], sol.t)\n",
    "    z = repeat([val], length(vt))\n",
    "    plot!(p[1,1], z, nt, vt,  \n",
    "        line_z = val, c = :delta, clim = (p_range[1], p_range[end]), \n",
    "        xlabel = par, ylabel = :Nt, zlabel = :Vt, legend = :none)\n",
    "    plot!(p[1,2], z, t, vt, \n",
    "        line_z = val, c = :delta, clim = (p_range[1], p_range[end]), \n",
    "        xlabel = par, ylabel = :t, zlabel = :Vt, legend = :none)\n",
    "    \n",
    "    plot!(p[2,1], z, at, ct,  \n",
    "        line_z = val, c = :delta, clim = (p_range[1], p_range[end]), \n",
    "        xlabel = par, ylabel = :At, zlabel = :Ct, legend = :none)\n",
    "    plot!(p[2,2], z, t, ct, \n",
    "        line_z = val, c = :delta, clim = (p_range[1], p_range[end]), \n",
    "        xlabel = par, ylabel = :t, zlabel = :Ct, legend = :none)\n",
    "    \n",
    "    plot!(p[3,1], z, bt, at,  \n",
    "        line_z = val, c = :delta, clim = (p_range[1], p_range[end]), \n",
    "        xlabel = par, ylabel = :Bt, zlabel = :At, legend = :none)\n",
    "    plot!(p[3,2], z, t, at, \n",
    "        line_z = val, c = :delta, clim = (p_range[1], p_range[end]), \n",
    "        xlabel = par, ylabel = :t, zlabel = :At, legend = :none)\n",
    "    \n",
    "    plot!(p[4,1], z, ct, bt,  \n",
    "        line_z = val, c = :delta, clim = (p_range[1], p_range[end]), \n",
    "        xlabel = par, ylabel = :Ct, zlabel = :Bt, legend = :none)\n",
    "    plot!(p[4,2], z, t, bt, \n",
    "        line_z = val, c = :delta, clim = (p_range[1], p_range[end]), \n",
    "        xlabel = par, ylabel = :t, zlabel = :Bt, legend = :none)\n",
    "end\n",
    "p"
   ]
  },
  {
   "cell_type": "code",
   "execution_count": null,
   "metadata": {},
   "outputs": [],
   "source": [
    "p = plot(layout = grid(1, 2), size = (1000, 500))\n",
    "for (idx, traj) in enumerate(sim)\n",
    "    val = p_range[idx]\n",
    "    t = sol.t\n",
    "    vt = map(t -> traj(t)[1], sol.t)\n",
    "    nt = map(t -> traj(t)[2], sol.t)\n",
    "    ct = map(t -> traj(t)[3], sol.t)\n",
    "    at = map(t -> 1-traj(t)[4], sol.t)\n",
    "    bt = map(t -> traj(t)[5], sol.t)\n",
    "    z = repeat([val], length(vt))    \n",
    "    plot!(p[1,1], z, nt, vt,  \n",
    "        line_z = val, c = :delta, clim = (p_range[1], p_range[end]), \n",
    "        xlabel = :alpha, ylabel = :Nt, zlabel = :Vt, legend = :none)\n",
    "    plot!(p[1,2], z, t, vt, \n",
    "        line_z = val, c = :delta, clim = (p_range[1], p_range[end]), \n",
    "        xlabel = :alpha, ylabel = :t, zlabel = :Vt, legend = :none)\n",
    "end\n",
    "p"
   ]
  },
  {
   "cell_type": "code",
   "execution_count": null,
   "metadata": {},
   "outputs": [],
   "source": [
    "vars = [(:v, :n)]\n",
    "p = plot(layout = grid(length(vars),1), size = (800, 800))\n",
    "for (idx, traj) in enumerate(sim)\n",
    "    val = p_range[idx]\n",
    "    plot!(p, traj, vars = vars, c = :delta, line_z = val, clim = (p_range[1], p_range[end]), legend = :none)\n",
    "end\n",
    "#p"
   ]
  },
  {
   "cell_type": "code",
   "execution_count": null,
   "metadata": {},
   "outputs": [],
   "source": []
  },
  {
   "cell_type": "code",
   "execution_count": null,
   "metadata": {},
   "outputs": [],
   "source": []
  }
 ],
 "metadata": {
  "kernelspec": {
   "display_name": "Julia 1.3.0",
   "language": "julia",
   "name": "julia-1.3"
  },
  "language_info": {
   "file_extension": ".jl",
   "mimetype": "application/julia",
   "name": "julia",
   "version": "1.3.0"
  }
 },
 "nbformat": 4,
 "nbformat_minor": 4
}
