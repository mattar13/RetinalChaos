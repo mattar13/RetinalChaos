{
 "cells": [
  {
   "cell_type": "code",
   "execution_count": null,
   "metadata": {},
   "outputs": [],
   "source": [
    "#If you have a GPU available, you can run the code using \n",
    "using CuArrays\n",
    "gpu = true; CuArrays.allowscalar(false)"
   ]
  },
  {
   "cell_type": "code",
   "execution_count": 1,
   "metadata": {},
   "outputs": [],
   "source": [
    "#otherwise set gpu to false\n",
    "gpu = false;"
   ]
  },
  {
   "cell_type": "code",
   "execution_count": 2,
   "metadata": {},
   "outputs": [],
   "source": [
    "using Dates\n",
    "import RetinalChaos\n",
    "import RetinalChaos: Network, extract_dict, params_to_datasheet, read_JSON\n",
    "import RetinalChaos: tar_conds, tar_pars\n",
    "import RetinalChaos: SDEProblem, noise_2D, SOSRI, solve"
   ]
  },
  {
   "cell_type": "code",
   "execution_count": null,
   "metadata": {},
   "outputs": [],
   "source": [
    "dt = 10.0; tspan = (0.0, 300e3)\n",
    "nx = 96; ny = 96; μ = 1.0"
   ]
  },
  {
   "cell_type": "code",
   "execution_count": null,
   "metadata": {},
   "outputs": [],
   "source": [
    "SACnet = Network(nx, ny; μ = μ, gpu = gpu, version = :gACh)\n",
    "p_dict = read_JSON(\"params.json\");\n",
    "u_dict = read_JSON(\"conds.json\");\n",
    "u0 = extract_dict(u_dict, tar_conds, (nx, ny));\n",
    "p0 = extract_dict(p_dict, tar_pars);"
   ]
  },
  {
   "cell_type": "code",
   "execution_count": null,
   "metadata": {},
   "outputs": [],
   "source": [
    "#It makes the data analysis easier when we do a quick minute warmup to add some variability to the model\n",
    "SDE_mat_prob = SDEProblem(SACnet, noise_2D, u0, (0.0, 60e3), p0);\n",
    "#Log the data\n",
    "with_logger(TerminalLogger()) do\n",
    "    SDE_mat_sol = solve(\n",
    "        SDE_mat_prob,\n",
    "        SOSRI(),\n",
    "        abstol = 0.2,\n",
    "        reltol = 2e-2,\n",
    "        maxiters = 1e7,\n",
    "        progress = true, \n",
    "        saveat = dt,\n",
    "    )\n",
    "end\n",
    "#Take the last solution to the ODE and use it as the initial conditions\n",
    "u0_new = SDE_mat_sol[end]\n",
    "SDE_mat_prob = SDEProblem(SACnet, noise_2D, u0_new, tspan, p0);"
   ]
  },
  {
   "cell_type": "code",
   "execution_count": null,
   "metadata": {},
   "outputs": [],
   "source": [
    "#Run the analysis\n",
    "with_logger(TerminalLogger()) do\n",
    "    SDE_mat_sol = solve(\n",
    "        SDE_mat_prob,\n",
    "        SOSRI(),\n",
    "        abstol = 0.2,\n",
    "        reltol = 2e-2,\n",
    "        maxiters = 1e7,\n",
    "        progress = true, \n",
    "        saveat = dt,\n",
    "    )\n",
    "end"
   ]
  }
 ],
 "metadata": {
  "kernelspec": {
   "display_name": "Julia 1.4.2",
   "language": "julia",
   "name": "julia-1.4"
  },
  "language_info": {
   "file_extension": ".jl",
   "mimetype": "application/julia",
   "name": "julia",
   "version": "1.4.2"
  }
 },
 "nbformat": 4,
 "nbformat_minor": 4
}
