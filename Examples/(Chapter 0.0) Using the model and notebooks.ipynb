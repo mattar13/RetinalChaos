{
 "cells": [
  {
   "cell_type": "code",
   "execution_count": 1,
   "metadata": {},
   "outputs": [],
   "source": [
    "#TODO: We should go back and alter the initial two notebooks to make them more consistant with the useage here\n",
    "#TODO: We need to include a intro on how to actually use the code and how to edit it\n",
    "#TODO: Read through all markups and ensure that the markups are actually usable\n",
    "\n",
    "#For right now, having the material is more important than the code, but code will be next"
   ]
  },
  {
   "cell_type": "code",
   "execution_count": null,
   "metadata": {},
   "outputs": [],
   "source": []
  }
 ],
 "metadata": {
  "kernelspec": {
   "display_name": "Julia 1.3.0",
   "language": "julia",
   "name": "julia-1.3"
  },
  "language_info": {
   "file_extension": ".jl",
   "mimetype": "application/julia",
   "name": "julia",
   "version": "1.3.0"
  }
 },
 "nbformat": 4,
 "nbformat_minor": 4
}
