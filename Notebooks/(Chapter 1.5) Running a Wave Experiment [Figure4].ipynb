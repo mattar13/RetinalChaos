{
 "cells": [
  {
   "cell_type": "code",
   "execution_count": 2,
   "metadata": {},
   "outputs": [
    {
     "name": "stderr",
     "output_type": "stream",
     "text": [
      "┌ Info: Precompiling Plots [91a5bcdd-55d7-5caf-9e0b-520d859cae80]\n",
      "└ @ Base loading.jl:1260\n",
      "┌ Info: Precompiling StatsPlots [f3b207a7-027a-5e70-b257-86293d7955fd]\n",
      "└ @ Base loading.jl:1260\n",
      "┌ Info: Precompiling PyPlot [d330b81b-6aea-500a-939a-2ce795aea3ee]\n",
      "└ @ Base loading.jl:1260\n"
     ]
    },
    {
     "data": {
      "text/plain": [
       "\"C:/users/mtarc/JuliaScripts/RetinalChaos/Notebooks/Figures\""
      ]
     },
     "execution_count": 2,
     "metadata": {},
     "output_type": "execute_result"
    }
   ],
   "source": [
    "#using DifferentialEquations\n",
    "using Plots, Colors, LaTeXStrings, StatsPlots, Dates\n",
    "import Dates.now\n",
    "using Plots.Measures\n",
    "font_title = Plots.font(\"Arial\", 24)\n",
    "font_axis = Plots.font(\"Arial\", 12)\n",
    "font_legend = Plots.font(\"Arial\", 8)\n",
    "pyplot(titlefont=font_title, guidefont = font_axis, legendfont = font_legend)\n",
    "\n",
    "#Define different symbols used in the plotting\n",
    "delta = latexstring(\"\\$\\\\delta\\$\")\n",
    "micro = latexstring(\"\\$\\\\mu\\$\")\n",
    "vt = latexstring(\"\\$V_t\\$\")\n",
    "nt = latexstring(\"\\$N_t\\$\")\n",
    "bt = latexstring(\"\\$B_t\\$\")\n",
    "wt = latexstring(\"\\$W_t\\$\")\n",
    "i_ach = latexstring(\"\\$I_{ACh}\\$\")\n",
    "\n",
    "v_color = :deepskyblue\n",
    "n_color = :magenta\n",
    "c_color = :green\n",
    "a_color = :purple\n",
    "b_color = :red\n",
    "e_color = :blue\n",
    "w_color = :gray\n",
    "\n",
    "figure_path = \"C:/users/mtarc/JuliaScripts/RetinalChaos/Notebooks/Figures\""
   ]
  },
  {
   "cell_type": "code",
   "execution_count": 3,
   "metadata": {},
   "outputs": [],
   "source": [
    "#If you have a GPU available, you can run the code using \n",
    "#using CuArrays\n",
    "#gpu = true; CuArrays.allowscalar(false)"
   ]
  },
  {
   "cell_type": "code",
   "execution_count": 4,
   "metadata": {},
   "outputs": [],
   "source": [
    "#otherwise set gpu to false\n",
    "gpu = false;"
   ]
  },
  {
   "cell_type": "code",
   "execution_count": 5,
   "metadata": {},
   "outputs": [],
   "source": [
    "using Logging, TerminalLoggers\n",
    "global_logger(TerminalLogger());"
   ]
  },
  {
   "cell_type": "code",
   "execution_count": 6,
   "metadata": {},
   "outputs": [
    {
     "name": "stderr",
     "output_type": "stream",
     "text": [
      "\u001b[36m\u001b[1m[ \u001b[22m\u001b[39m\u001b[36m\u001b[1mInfo: \u001b[22m\u001b[39mPrecompiling RetinalChaos [3f100aef-eb91-46ae-997e-7902479fb568]\n"
     ]
    }
   ],
   "source": [
    "using RetinalChaos"
   ]
  },
  {
   "cell_type": "code",
   "execution_count": 10,
   "metadata": {},
   "outputs": [],
   "source": [
    "#import RetinalChaos: Network, extract_dict, read_JSON\n",
    "import RetinalChaos: tar_conds, tar_pars\n",
    "import RetinalChaos: calculate_threshold, get_timestamps, extract_burstmap"
   ]
  },
  {
   "cell_type": "code",
   "execution_count": 11,
   "metadata": {},
   "outputs": [],
   "source": [
    "#JLD2 allows you to load and save the interface of the model\n",
    "using JLD2"
   ]
  },
  {
   "cell_type": "code",
   "execution_count": 12,
   "metadata": {},
   "outputs": [],
   "source": [
    "dt = 1.0; nx = 96; ny = 96;\n",
    "net = Network(nx, ny; μ = 0.60, gpu = gpu, version = :gACh)\n",
    "p_dict = read_JSON(\"params.json\");\n",
    "u_dict = read_JSON(\"conds.json\");\n",
    "u0 = extract_dict(u_dict, tar_conds, (nx, ny));\n",
    "p = extract_dict(p_dict, tar_pars);"
   ]
  },
  {
   "cell_type": "markdown",
   "metadata": {},
   "source": [
    "### [2.2.x] Saving large datasets\n",
    "- 2D Lattice simulations are very large, especially at the precision we want them to be. \n",
    "- I will use this strategy to save and access the arrays\n",
    "    - File sizes can range anywhere from 10gb -> 25gb\n",
    "- Threshold calculation will take longer. \n",
    "- After a simulation has been saved, it can be recalled later and used.\n",
    "\n",
    "-[TODO] Try to figure out JLD2, it might work better with DiffEq and have more documentation"
   ]
  },
  {
   "cell_type": "code",
   "execution_count": null,
   "metadata": {},
   "outputs": [
    {
     "name": "stdout",
     "output_type": "stream",
     "text": [
      "[2020-07-20T10:41:08.823]: Path does not yet, exist, creating path\n",
      "[2020-07-20T10:41:08.881]: Beginning simulation 'trial1'\n",
      "[2020-07-20T10:41:12.408]: Warming Up solutiuon for 60000.0 ms\n"
     ]
    },
    {
     "name": "stderr",
     "output_type": "stream",
     "text": [
      "\u001b[32mSDE   0%|█                                              |  ETA: N/A\u001b[39m\n",
      "\u001b[32mSDE   1%|█                                              |  ETA: 0:26:55\u001b[39m\n",
      "\u001b[32mSDE   1%|█                                              |  ETA: 0:38:47\u001b[39m\n",
      "\u001b[32mSDE   1%|█                                              |  ETA: 0:47:20\u001b[39m\n",
      "\u001b[32mSDE   1%|█                                              |  ETA: 0:53:33\u001b[39m\n",
      "\u001b[32mSDE   1%|█                                              |  ETA: 0:58:25\u001b[39m\n",
      "\u001b[32mSDE   1%|█                                              |  ETA: 1:02:17\u001b[39m\n",
      "\u001b[32mSDE   1%|█                                              |  ETA: 1:05:21\u001b[39m\n",
      "\u001b[32mSDE   1%|█                                              |  ETA: 1:07:50\u001b[39m\n",
      "\u001b[32mSDE   2%|█                                              |  ETA: 1:10:01\u001b[39m\n",
      "\u001b[32mSDE   2%|█                                              |  ETA: 1:11:44\u001b[39m\n",
      "\u001b[32mSDE   2%|█                                              |  ETA: 1:12:39\u001b[39m\n",
      "\u001b[32mSDE   2%|█                                              |  ETA: 1:12:56\u001b[39m\n",
      "\u001b[32mSDE   2%|█                                              |  ETA: 1:11:48\u001b[39m\n",
      "\u001b[32mSDE   2%|██                                             |  ETA: 1:08:39\u001b[39m\n",
      "\u001b[32mSDE   3%|██                                             |  ETA: 1:02:37\u001b[39m\n",
      "\u001b[32mSDE   3%|██                                             |  ETA: 0:55:44\u001b[39m\n",
      "\u001b[32mSDE   4%|██                                             |  ETA: 0:49:37\u001b[39m\n",
      "\u001b[32mSDE   5%|███                                            |  ETA: 0:44:23\u001b[39m\n",
      "\u001b[32mSDE   5%|███                                            |  ETA: 0:39:36\u001b[39m\n",
      "\u001b[32mSDE   6%|███                                            |  ETA: 0:35:28\u001b[39m\n",
      "\u001b[32mSDE   7%|████                                           |  ETA: 0:31:51\u001b[39m\n",
      "\u001b[32mSDE   8%|████                                           |  ETA: 0:28:15\u001b[39m\n",
      "\u001b[32mSDE  10%|█████                                          |  ETA: 0:24:33\u001b[39m\n",
      "\u001b[32mSDE  12%|██████                                         |  ETA: 0:20:51\u001b[39m\n",
      "\u001b[32mSDE  15%|███████                                        |  ETA: 0:16:46\u001b[39m\n",
      "\u001b[32mSDE  18%|█████████                                      |  ETA: 0:14:05\u001b[39m\n",
      "\u001b[32mSDE  20%|██████████                                     |  ETA: 0:12:22\u001b[39m\n",
      "\u001b[32mSDE  23%|███████████                                    |  ETA: 0:11:03\u001b[39m\n",
      "\u001b[32mSDE  25%|████████████                                   |  ETA: 0:10:01\u001b[39m\n",
      "\u001b[32mSDE  28%|██████████████                                 |  ETA: 0:09:03\u001b[39m\n",
      "\u001b[32mSDE  30%|███████████████                                |  ETA: 0:08:20\u001b[39m\n",
      "\u001b[32mSDE  33%|████████████████                               |  ETA: 0:07:39\u001b[39m\n",
      "\u001b[32mSDE  35%|█████████████████                              |  ETA: 0:07:06\u001b[39m\n",
      "\u001b[32mSDE  37%|██████████████████                             |  ETA: 0:06:33\u001b[39m\n",
      "\u001b[32mSDE  40%|███████████████████                            |  ETA: 0:06:00\u001b[39m\n",
      "\u001b[32mSDE  41%|████████████████████                           |  ETA: 0:05:56\u001b[39m\n",
      "\u001b[32mSDE  42%|████████████████████                           |  ETA: 0:05:58\u001b[39m\n",
      "\u001b[32mSDE  42%|████████████████████                           |  ETA: 0:06:02\u001b[39m\n",
      "\u001b[32mSDE  42%|████████████████████                           |  ETA: 0:06:08\u001b[39m\n",
      "\u001b[32mSDE  42%|████████████████████                           |  ETA: 0:06:13\u001b[39m\n",
      "\u001b[32mSDE  43%|█████████████████████                          |  ETA: 0:06:19\u001b[39m\n",
      "\u001b[32mSDE  43%|█████████████████████                          |  ETA: 0:06:25\u001b[39m\n",
      "\u001b[32mSDE  43%|█████████████████████                          |  ETA: 0:06:32\u001b[39m\n",
      "\u001b[32mSDE  43%|█████████████████████                          |  ETA: 0:06:38\u001b[39m\n",
      "\u001b[32mSDE  43%|█████████████████████                          |  ETA: 0:06:45\u001b[39m\n",
      "\u001b[32mSDE  43%|█████████████████████                          |  ETA: 0:06:51\u001b[39m\n",
      "\u001b[32mSDE  44%|█████████████████████                          |  ETA: 0:06:57\u001b[39m\n",
      "\u001b[32mSDE  44%|█████████████████████                          |  ETA: 0:07:03\u001b[39m\n",
      "\u001b[32mSDE  44%|█████████████████████                          |  ETA: 0:07:08\u001b[39m\n",
      "\u001b[32mSDE  44%|█████████████████████                          |  ETA: 0:07:13\u001b[39m\n",
      "\u001b[32mSDE  45%|█████████████████████                          |  ETA: 0:07:16\u001b[39m\n",
      "\u001b[32mSDE  45%|██████████████████████                         |  ETA: 0:07:14\u001b[39m\n",
      "\u001b[32mSDE  47%|██████████████████████                         |  ETA: 0:06:55\u001b[39m\n",
      "\u001b[32mSDE  48%|███████████████████████                        |  ETA: 0:06:38\u001b[39m\n",
      "\u001b[32mSDE  50%|████████████████████████                       |  ETA: 0:06:23\u001b[39m\n",
      "\u001b[32mSDE  51%|████████████████████████                       |  ETA: 0:06:11\u001b[39m\n",
      "\u001b[32mSDE  52%|█████████████████████████                      |  ETA: 0:06:01\u001b[39m\n",
      "\u001b[32mSDE  53%|█████████████████████████                      |  ETA: 0:05:51\u001b[39m\n",
      "\u001b[32mSDE  54%|██████████████████████████                     |  ETA: 0:05:42\u001b[39m\n",
      "\u001b[32mSDE  55%|██████████████████████████                     |  ETA: 0:05:33\u001b[39m\n",
      "\u001b[32mSDE  56%|███████████████████████████                    |  ETA: 0:05:25\u001b[39m\n",
      "\u001b[32mSDE  57%|███████████████████████████                    |  ETA: 0:05:18\u001b[39m\n",
      "\u001b[32mSDE  58%|████████████████████████████                   |  ETA: 0:05:09\u001b[39m\n",
      "\u001b[32mSDE  59%|████████████████████████████                   |  ETA: 0:05:01\u001b[39m\n",
      "\u001b[32mSDE  60%|█████████████████████████████                  |  ETA: 0:04:53\u001b[39m\n",
      "\u001b[32mSDE  61%|█████████████████████████████                  |  ETA: 0:04:43\u001b[39m\n",
      "\u001b[32mSDE  63%|██████████████████████████████                 |  ETA: 0:04:34\u001b[39m\n",
      "\u001b[32mSDE  64%|██████████████████████████████                 |  ETA: 0:04:24\u001b[39m\n",
      "\u001b[32mSDE  65%|███████████████████████████████                |  ETA: 0:04:14\u001b[39m\n",
      "\u001b[32mSDE  66%|████████████████████████████████               |  ETA: 0:04:03\u001b[39m\n",
      "\u001b[32mSDE  68%|████████████████████████████████               |  ETA: 0:03:53\u001b[39m\n",
      "\u001b[32mSDE  69%|█████████████████████████████████              |  ETA: 0:03:42\u001b[39m\n",
      "\u001b[32mSDE  70%|██████████████████████████████████             |  ETA: 0:03:29\u001b[39m\n",
      "\u001b[32mSDE  72%|██████████████████████████████████             |  ETA: 0:03:15\u001b[39m\n",
      "\u001b[32mSDE  74%|███████████████████████████████████            |  ETA: 0:02:59\u001b[39m\n",
      "\u001b[32mSDE  76%|████████████████████████████████████           |  ETA: 0:02:42\u001b[39m\n",
      "\u001b[32mSDE  78%|█████████████████████████████████████          |  ETA: 0:02:31\u001b[39m\n",
      "\u001b[32mSDE  78%|█████████████████████████████████████          |  ETA: 0:02:27\u001b[39m\n",
      "\u001b[32mSDE  79%|██████████████████████████████████████         |  ETA: 0:02:24\u001b[39m\n",
      "\u001b[32mSDE  79%|██████████████████████████████████████         |  ETA: 0:02:23\u001b[39m\n",
      "\u001b[32mSDE  80%|██████████████████████████████████████         |  ETA: 0:02:22\u001b[39m\n",
      "\u001b[32mSDE  80%|██████████████████████████████████████         |  ETA: 0:02:21\u001b[39m\n",
      "\u001b[32mSDE  80%|██████████████████████████████████████         |  ETA: 0:02:21\u001b[39m\n",
      "\u001b[32mSDE  80%|██████████████████████████████████████         |  ETA: 0:02:20\u001b[39m\n",
      "\u001b[32mSDE  81%|██████████████████████████████████████         |  ETA: 0:02:20\u001b[39m\n",
      "\u001b[32mSDE  81%|██████████████████████████████████████         |  ETA: 0:02:20\u001b[39m\n",
      "\u001b[32mSDE  81%|███████████████████████████████████████        |  ETA: 0:02:19\u001b[39m\n",
      "\u001b[32mSDE  81%|███████████████████████████████████████        |  ETA: 0:02:19\u001b[39m\n",
      "\u001b[32mSDE  81%|███████████████████████████████████████        |  ETA: 0:02:18\u001b[39m\n",
      "\u001b[32mSDE  82%|███████████████████████████████████████        |  ETA: 0:02:17\u001b[39m\n",
      "\u001b[32mSDE  82%|███████████████████████████████████████        |  ETA: 0:02:17\u001b[39m\n",
      "\u001b[32mSDE  82%|███████████████████████████████████████        |  ETA: 0:02:16\u001b[39m\n",
      "\u001b[32mSDE  83%|███████████████████████████████████████        |  ETA: 0:02:14\u001b[39m\n",
      "\u001b[32mSDE  83%|███████████████████████████████████████        |  ETA: 0:02:12\u001b[39m\n",
      "\u001b[32mSDE  83%|████████████████████████████████████████       |  ETA: 0:02:10\u001b[39m\n",
      "\u001b[32mSDE  84%|████████████████████████████████████████       |  ETA: 0:02:07\u001b[39m\n",
      "\u001b[32mSDE  84%|████████████████████████████████████████       |  ETA: 0:02:03\u001b[39m\n",
      "\u001b[32mSDE  86%|█████████████████████████████████████████      |  ETA: 0:01:53\u001b[39m\n",
      "\u001b[32mSDE  88%|██████████████████████████████████████████     |  ETA: 0:01:29\u001b[39m\n",
      "\u001b[32mSDE  91%|███████████████████████████████████████████    |  ETA: 0:01:08\u001b[39m\n",
      "\u001b[32mSDE  93%|████████████████████████████████████████████   |  ETA: 0:00:51\u001b[39m\n",
      "\u001b[32mSDE  95%|█████████████████████████████████████████████  |  ETA: 0:00:38\u001b[39m\n",
      "\u001b[32mSDE  96%|██████████████████████████████████████████████ |  ETA: 0:00:26\u001b[39m\n",
      "\u001b[32mSDE  98%|███████████████████████████████████████████████|  ETA: 0:00:13\u001b[39m\n",
      "\u001b[32mSDE 100%|███████████████████████████████████████████████|  ETA: 0:00:02\u001b[39m"
     ]
    },
    {
     "name": "stdout",
     "output_type": "stream",
     "text": [
      "746.591802 seconds (120.60 M allocations: 12.114 GiB, 0.39% gc time)\n",
      "[2020-07-20T10:53:39.047]: Saving warmed-up solution"
     ]
    },
    {
     "name": "stderr",
     "output_type": "stream",
     "text": [
      "\n",
      "\u001b[90mSDE 100%|███████████████████████████████████████████████| Time: 0:11:55\u001b[39m\n"
     ]
    },
    {
     "name": "stdout",
     "output_type": "stream",
     "text": [
      "\n",
      "[2020-07-20T10:53:39.995]: Previous solution not found, warmup required\n",
      "false\n",
      "Dataset not yet created\n",
      "Saving timsetps and data size\n",
      "[2020-07-20T10:53:42.871]: Simulating timesteps 1.0 -> 60000.0 -> [dt:1.0]\n"
     ]
    },
    {
     "name": "stderr",
     "output_type": "stream",
     "text": [
      "\u001b[32mSDE   0%|█                                              |  ETA: N/A\u001b[39m\n",
      "\u001b[32mSDE   2%|█                                              |  ETA: 0:08:30\u001b[39m\n",
      "\u001b[32mSDE   3%|██                                             |  ETA: 0:08:27\u001b[39m\n",
      "\u001b[32mSDE   4%|███                                            |  ETA: 0:08:27\u001b[39m\n",
      "\u001b[32mSDE   6%|███                                            |  ETA: 0:08:16\u001b[39m\n",
      "\u001b[32mSDE   7%|████                                           |  ETA: 0:08:05\u001b[39m\n",
      "\u001b[32mSDE   8%|████                                           |  ETA: 0:07:58\u001b[39m\n",
      "\u001b[32mSDE   9%|█████                                          |  ETA: 0:08:06\u001b[39m\n",
      "\u001b[32mSDE  10%|█████                                          |  ETA: 0:08:26\u001b[39m\n",
      "\u001b[32mSDE  11%|█████                                          |  ETA: 0:09:01\u001b[39m\n",
      "\u001b[32mSDE  11%|██████                                         |  ETA: 0:09:30\u001b[39m\n",
      "\u001b[32mSDE  12%|██████                                         |  ETA: 0:09:59\u001b[39m\n",
      "\u001b[32mSDE  12%|██████                                         |  ETA: 0:10:26\u001b[39m\n",
      "\u001b[32mSDE  12%|██████                                         |  ETA: 0:10:53\u001b[39m\n",
      "\u001b[32mSDE  13%|██████                                         |  ETA: 0:11:22\u001b[39m\n",
      "\u001b[32mSDE  13%|███████                                        |  ETA: 0:11:49\u001b[39m\n",
      "\u001b[32mSDE  13%|███████                                        |  ETA: 0:12:17\u001b[39m\n",
      "\u001b[32mSDE  14%|███████                                        |  ETA: 0:12:42\u001b[39m\n",
      "\u001b[32mSDE  14%|███████                                        |  ETA: 0:13:08\u001b[39m\n",
      "\u001b[32mSDE  14%|███████                                        |  ETA: 0:13:33\u001b[39m\n",
      "\u001b[32mSDE  14%|███████                                        |  ETA: 0:13:57\u001b[39m\n",
      "\u001b[32mSDE  15%|███████                                        |  ETA: 0:14:25\u001b[39m\n",
      "\u001b[32mSDE  15%|███████                                        |  ETA: 0:14:46\u001b[39m\n",
      "\u001b[32mSDE  15%|████████                                       |  ETA: 0:15:06\u001b[39m\n",
      "\u001b[32mSDE  15%|████████                                       |  ETA: 0:15:24\u001b[39m\n",
      "\u001b[32mSDE  16%|████████                                       |  ETA: 0:15:38\u001b[39m\n",
      "\u001b[32mSDE  16%|████████                                       |  ETA: 0:15:49\u001b[39m\n",
      "\u001b[32mSDE  17%|████████                                       |  ETA: 0:15:51\u001b[39m\n",
      "\u001b[32mSDE  17%|█████████                                      |  ETA: 0:15:44\u001b[39m\n",
      "\u001b[32mSDE  18%|█████████                                      |  ETA: 0:15:20\u001b[39m\n",
      "\u001b[32mSDE  19%|██████████                                     |  ETA: 0:14:37\u001b[39m\n",
      "\u001b[32mSDE  21%|██████████                                     |  ETA: 0:13:53\u001b[39m\n",
      "\u001b[32mSDE  22%|███████████                                    |  ETA: 0:13:12\u001b[39m\n",
      "\u001b[32mSDE  24%|████████████                                   |  ETA: 0:12:27\u001b[39m\n",
      "\u001b[32mSDE  25%|████████████                                   |  ETA: 0:11:46\u001b[39m\n",
      "\u001b[32mSDE  27%|█████████████                                  |  ETA: 0:11:11\u001b[39m\n",
      "\u001b[32mSDE  29%|██████████████                                 |  ETA: 0:10:30\u001b[39m\n",
      "\u001b[32mSDE  30%|███████████████                                |  ETA: 0:09:59\u001b[39m\n",
      "\u001b[32mSDE  32%|████████████████                               |  ETA: 0:09:32\u001b[39m\n",
      "\u001b[32mSDE  34%|████████████████                               |  ETA: 0:09:02\u001b[39m\n",
      "\u001b[32mSDE  36%|█████████████████                              |  ETA: 0:08:39\u001b[39m\n",
      "\u001b[32mSDE  37%|██████████████████                             |  ETA: 0:08:19\u001b[39m\n",
      "\u001b[32mSDE  39%|███████████████████                            |  ETA: 0:07:55\u001b[39m\n",
      "\u001b[32mSDE  41%|████████████████████                           |  ETA: 0:07:33\u001b[39m\n",
      "\u001b[32mSDE  43%|█████████████████████                          |  ETA: 0:07:10\u001b[39m\n",
      "\u001b[32mSDE  44%|█████████████████████                          |  ETA: 0:06:58\u001b[39m\n",
      "\u001b[32mSDE  45%|██████████████████████                         |  ETA: 0:06:52\u001b[39m\n",
      "\u001b[32mSDE  46%|██████████████████████                         |  ETA: 0:06:50\u001b[39m\n",
      "\u001b[32mSDE  46%|██████████████████████                         |  ETA: 0:06:48\u001b[39m\n",
      "\u001b[32mSDE  47%|███████████████████████                        |  ETA: 0:06:48\u001b[39m\n",
      "\u001b[32mSDE  48%|███████████████████████                        |  ETA: 0:06:49\u001b[39m\n",
      "\u001b[32mSDE  48%|███████████████████████                        |  ETA: 0:06:51\u001b[39m\n",
      "\u001b[32mSDE  48%|███████████████████████                        |  ETA: 0:06:53\u001b[39m\n",
      "\u001b[32mSDE  49%|███████████████████████                        |  ETA: 0:06:54\u001b[39m\n",
      "\u001b[32mSDE  49%|████████████████████████                       |  ETA: 0:06:57\u001b[39m\n",
      "\u001b[32mSDE  49%|████████████████████████                       |  ETA: 0:06:59\u001b[39m\n",
      "\u001b[32mSDE  50%|████████████████████████                       |  ETA: 0:07:04\u001b[39m\n",
      "\u001b[32mSDE  50%|████████████████████████                       |  ETA: 0:07:07\u001b[39m\n",
      "\u001b[32mSDE  50%|████████████████████████                       |  ETA: 0:07:10\u001b[39m\n",
      "\u001b[32mSDE  50%|████████████████████████                       |  ETA: 0:07:13\u001b[39m\n",
      "\u001b[32mSDE  50%|████████████████████████                       |  ETA: 0:07:15\u001b[39m\n",
      "\u001b[32mSDE  51%|████████████████████████                       |  ETA: 0:07:18\u001b[39m\n",
      "\u001b[32mSDE  51%|████████████████████████                       |  ETA: 0:07:20\u001b[39m\n",
      "\u001b[32mSDE  51%|█████████████████████████                      |  ETA: 0:07:23\u001b[39m\n",
      "\u001b[32mSDE  52%|█████████████████████████                      |  ETA: 0:07:24\u001b[39m\n",
      "\u001b[32mSDE  52%|█████████████████████████                      |  ETA: 0:07:26\u001b[39m\n",
      "\u001b[32mSDE  52%|█████████████████████████                      |  ETA: 0:07:26\u001b[39m\n",
      "\u001b[32mSDE  53%|█████████████████████████                      |  ETA: 0:07:22\u001b[39m\n",
      "\u001b[32mSDE  54%|██████████████████████████                     |  ETA: 0:07:12\u001b[39m\n",
      "\u001b[32mSDE  55%|███████████████████████████                    |  ETA: 0:06:52\u001b[39m\n",
      "\u001b[32mSDE  57%|███████████████████████████                    |  ETA: 0:06:34\u001b[39m\n",
      "\u001b[32mSDE  58%|████████████████████████████                   |  ETA: 0:06:15\u001b[39m\n",
      "\u001b[32mSDE  60%|█████████████████████████████                  |  ETA: 0:05:57\u001b[39m\n",
      "\u001b[32mSDE  61%|█████████████████████████████                  |  ETA: 0:05:40\u001b[39m\n",
      "\u001b[32mSDE  63%|██████████████████████████████                 |  ETA: 0:05:24\u001b[39m\n",
      "\u001b[32mSDE  64%|███████████████████████████████                |  ETA: 0:05:10\u001b[39m\n",
      "\u001b[32mSDE  66%|███████████████████████████████                |  ETA: 0:04:55\u001b[39m\n",
      "\u001b[32mSDE  67%|████████████████████████████████               |  ETA: 0:04:41\u001b[39m\n",
      "\u001b[32mSDE  69%|█████████████████████████████████              |  ETA: 0:04:27\u001b[39m\n",
      "\u001b[32mSDE  70%|█████████████████████████████████              |  ETA: 0:04:12\u001b[39m\n",
      "\u001b[32mSDE  71%|██████████████████████████████████             |  ETA: 0:03:59\u001b[39m\n",
      "\u001b[32mSDE  73%|███████████████████████████████████            |  ETA: 0:03:44\u001b[39m\n",
      "\u001b[32mSDE  74%|███████████████████████████████████            |  ETA: 0:03:30\u001b[39m\n",
      "\u001b[32mSDE  76%|████████████████████████████████████           |  ETA: 0:03:17\u001b[39m\n",
      "\u001b[32mSDE  77%|█████████████████████████████████████          |  ETA: 0:03:04\u001b[39m\n",
      "\u001b[32mSDE  79%|█████████████████████████████████████          |  ETA: 0:02:54\u001b[39m\n",
      "\u001b[32mSDE  79%|██████████████████████████████████████         |  ETA: 0:02:46\u001b[39m\n",
      "\u001b[32mSDE  80%|██████████████████████████████████████         |  ETA: 0:02:42\u001b[39m\n",
      "\u001b[32mSDE  81%|██████████████████████████████████████         |  ETA: 0:02:39\u001b[39m\n",
      "\u001b[32mSDE  81%|███████████████████████████████████████        |  ETA: 0:02:35\u001b[39m\n",
      "\u001b[32mSDE  82%|███████████████████████████████████████        |  ETA: 0:02:32\u001b[39m\n",
      "\u001b[32mSDE  82%|███████████████████████████████████████        |  ETA: 0:02:30\u001b[39m\n",
      "\u001b[32mSDE  82%|███████████████████████████████████████        |  ETA: 0:02:28\u001b[39m\n",
      "\u001b[32mSDE  83%|███████████████████████████████████████        |  ETA: 0:02:26\u001b[39m\n",
      "\u001b[32mSDE  83%|███████████████████████████████████████        |  ETA: 0:02:24\u001b[39m\n",
      "\u001b[32mSDE  83%|████████████████████████████████████████       |  ETA: 0:02:23\u001b[39m\n",
      "\u001b[32mSDE  84%|████████████████████████████████████████       |  ETA: 0:02:22\u001b[39m\n",
      "\u001b[32mSDE  84%|████████████████████████████████████████       |  ETA: 0:02:21\u001b[39m\n",
      "\u001b[32mSDE  84%|████████████████████████████████████████       |  ETA: 0:02:20\u001b[39m\n",
      "\u001b[32mSDE  84%|████████████████████████████████████████       |  ETA: 0:02:18\u001b[39m\n",
      "\u001b[32mSDE  85%|████████████████████████████████████████       |  ETA: 0:02:17\u001b[39m\n",
      "\u001b[32mSDE  85%|████████████████████████████████████████       |  ETA: 0:02:16\u001b[39m\n",
      "\u001b[32mSDE  85%|████████████████████████████████████████       |  ETA: 0:02:14\u001b[39m\n",
      "\u001b[32mSDE  85%|█████████████████████████████████████████      |  ETA: 0:02:13\u001b[39m\n",
      "\u001b[32mSDE  86%|█████████████████████████████████████████      |  ETA: 0:02:11\u001b[39m\n",
      "\u001b[32mSDE  86%|█████████████████████████████████████████      |  ETA: 0:02:09\u001b[39m\n",
      "\u001b[32mSDE  87%|█████████████████████████████████████████      |  ETA: 0:02:04\u001b[39m\n",
      "\u001b[32mSDE  88%|██████████████████████████████████████████     |  ETA: 0:01:51\u001b[39m\n",
      "\u001b[32mSDE  90%|███████████████████████████████████████████    |  ETA: 0:01:34\u001b[39m\n",
      "\u001b[32mSDE  91%|███████████████████████████████████████████    |  ETA: 0:01:18\u001b[39m\n",
      "\u001b[32mSDE  93%|████████████████████████████████████████████   |  ETA: 0:01:01\u001b[39m\n",
      "\u001b[32mSDE  95%|█████████████████████████████████████████████  |  ETA: 0:00:45\u001b[39m\n",
      "\u001b[32mSDE  97%|██████████████████████████████████████████████ |  ETA: 0:00:29\u001b[39m\n",
      "\u001b[32mSDE  98%|███████████████████████████████████████████████|  ETA: 0:00:14\u001b[39m\n",
      "\u001b[90mSDE 100%|███████████████████████████████████████████████| Time: 0:14:21\u001b[39m\n"
     ]
    },
    {
     "name": "stdout",
     "output_type": "stream",
     "text": [
      "[2020-07-20T11:08:07.233]: Saving data points\n",
      "[2020-07-20T11:12:51.284]: Saving final data point to be reused\n",
      "[2020-07-20T11:12:51.386]: Simulating timesteps 60001.0 -> 120000.0 -> [dt:1.0]\n"
     ]
    },
    {
     "name": "stderr",
     "output_type": "stream",
     "text": [
      "\u001b[32mSDE   0%|█                                              |  ETA: N/A\u001b[39m\n",
      "\u001b[32mSDE  51%|████████████████████████                       |  ETA: 0:00:08\u001b[39m\n",
      "\u001b[32mSDE  52%|█████████████████████████                      |  ETA: 0:00:15\u001b[39m\n",
      "\u001b[32mSDE  52%|█████████████████████████                      |  ETA: 0:00:21\u001b[39m\n",
      "\u001b[32mSDE  53%|█████████████████████████                      |  ETA: 0:00:28\u001b[39m\n",
      "\u001b[32mSDE  54%|██████████████████████████                     |  ETA: 0:00:37\u001b[39m\n",
      "\u001b[32mSDE  55%|██████████████████████████                     |  ETA: 0:00:45\u001b[39m\n",
      "\u001b[32mSDE  55%|███████████████████████████                    |  ETA: 0:00:51\u001b[39m\n",
      "\u001b[32mSDE  56%|███████████████████████████                    |  ETA: 0:00:57\u001b[39m\n",
      "\u001b[32mSDE  57%|███████████████████████████                    |  ETA: 0:01:02\u001b[39m\n",
      "\u001b[32mSDE  57%|████████████████████████████                   |  ETA: 0:01:08\u001b[39m\n",
      "\u001b[32mSDE  58%|████████████████████████████                   |  ETA: 0:01:13\u001b[39m\n",
      "\u001b[32mSDE  58%|████████████████████████████                   |  ETA: 0:01:19\u001b[39m\n",
      "\u001b[32mSDE  58%|████████████████████████████                   |  ETA: 0:01:26\u001b[39m\n",
      "\u001b[32mSDE  58%|████████████████████████████                   |  ETA: 0:01:31\u001b[39m\n",
      "\u001b[32mSDE  59%|████████████████████████████                   |  ETA: 0:01:39\u001b[39m\n",
      "\u001b[32mSDE  59%|████████████████████████████                   |  ETA: 0:01:50\u001b[39m\n",
      "\u001b[32mSDE  59%|████████████████████████████                   |  ETA: 0:01:57\u001b[39m\n",
      "\u001b[32mSDE  59%|████████████████████████████                   |  ETA: 0:02:04\u001b[39m\n",
      "\u001b[32mSDE  59%|████████████████████████████                   |  ETA: 0:02:10\u001b[39m\n",
      "\u001b[32mSDE  59%|████████████████████████████                   |  ETA: 0:02:15\u001b[39m\n",
      "\u001b[32mSDE  59%|████████████████████████████                   |  ETA: 0:02:20\u001b[39m\n",
      "\u001b[32mSDE  59%|████████████████████████████                   |  ETA: 0:02:28\u001b[39m\n",
      "\u001b[32mSDE  60%|████████████████████████████                   |  ETA: 0:02:32\u001b[39m\n",
      "\u001b[32mSDE  60%|█████████████████████████████                  |  ETA: 0:02:36\u001b[39m\n",
      "\u001b[32mSDE  60%|█████████████████████████████                  |  ETA: 0:02:40\u001b[39m\n",
      "\u001b[32mSDE  60%|█████████████████████████████                  |  ETA: 0:02:44\u001b[39m\n",
      "\u001b[32mSDE  60%|█████████████████████████████                  |  ETA: 0:02:48\u001b[39m\n",
      "\u001b[32mSDE  60%|█████████████████████████████                  |  ETA: 0:02:51\u001b[39m\n",
      "\u001b[32mSDE  61%|█████████████████████████████                  |  ETA: 0:02:54\u001b[39m\n",
      "\u001b[32mSDE  61%|█████████████████████████████                  |  ETA: 0:02:54\u001b[39m\n",
      "\u001b[32mSDE  62%|██████████████████████████████                 |  ETA: 0:02:54\u001b[39m\n",
      "\u001b[32mSDE  63%|██████████████████████████████                 |  ETA: 0:02:54\u001b[39m\n",
      "\u001b[32mSDE  64%|██████████████████████████████                 |  ETA: 0:02:53\u001b[39m\n",
      "\u001b[32mSDE  64%|███████████████████████████████                |  ETA: 0:02:51\u001b[39m\n",
      "\u001b[32mSDE  65%|███████████████████████████████                |  ETA: 0:02:50\u001b[39m\n",
      "\u001b[32mSDE  66%|███████████████████████████████                |  ETA: 0:02:52\u001b[39m\n",
      "\u001b[32mSDE  67%|████████████████████████████████               |  ETA: 0:02:52\u001b[39m"
     ]
    }
   ],
   "source": [
    "s1 = simulation_loop(net, u0, p; sim_name = \"trial1\");"
   ]
  },
  {
   "cell_type": "code",
   "execution_count": null,
   "metadata": {},
   "outputs": [],
   "source": [
    "s2 = simulation_loop(net, u0, p; sim_name = \"trial2\")"
   ]
  },
  {
   "cell_type": "code",
   "execution_count": null,
   "metadata": {},
   "outputs": [],
   "source": [
    "s3 = simulation_loop(net, u0, p; sim_name = \"trial3\")"
   ]
  },
  {
   "cell_type": "code",
   "execution_count": null,
   "metadata": {},
   "outputs": [],
   "source": [
    "s4 = simulation_loop(net, u0, p; sim_name = \"trial4\")"
   ]
  },
  {
   "cell_type": "code",
   "execution_count": null,
   "metadata": {},
   "outputs": [],
   "source": [
    "s1"
   ]
  },
  {
   "cell_type": "code",
   "execution_count": null,
   "metadata": {},
   "outputs": [],
   "source": [
    "ic_loc = \"D:\\\\ModellingData\\\\trial1\\\\previous.jld2\"\n",
    "data_loc = \"D:\\\\ModellingData\\\\trial1\\\\dataset.jld2\"\n",
    "#JLD2.@load ic_loc ic last_time"
   ]
  },
  {
   "cell_type": "markdown",
   "metadata": {},
   "source": [
    "### Instead of using the file immediately we can save it using JLD file format. This preserves the types and structures within the array\n",
    "- IN order to write a file to a JLD file, we can save the individual timesteps as seperate categories\n",
    "- The stepsize should be 1.0 ms, and the length of time can be 300s"
   ]
  },
  {
   "cell_type": "code",
   "execution_count": null,
   "metadata": {},
   "outputs": [],
   "source": [
    "thresh = calculate_threshold(data_loc)"
   ]
  },
  {
   "cell_type": "code",
   "execution_count": null,
   "metadata": {},
   "outputs": [],
   "source": [
    "#Because this file is so huge, we have to do things like this\n",
    "spike_array = falses(96, 96, 300001) #Preallocate array makes this go faster\n",
    "jldopen(\"test.jld\", \"r\") do file\n",
    "    for (idx, t) in enumerate(tstamps)\n",
    "        if t%10000==0.0\n",
    "            #println(t)\n",
    "        end\n",
    "        if t == 0.0\n",
    "            arr = read(file, \"$(t)\")[:,:,1]\n",
    "            spike_array[:,:,idx] .= (arr .> thresh)\n",
    "        else\n",
    "            arr = read(file, \"$(t)\")\n",
    "            spike_array[:,:,idx] .= (arr .> thresh)\n",
    "        end\n",
    "    end\n",
    "end;"
   ]
  },
  {
   "cell_type": "markdown",
   "metadata": {},
   "source": [
    "### [1.5.c] Analysis of the wave Data\n",
    "- The output of the wave we get is very similar to the output of the trace simulation, except it is in 3D (x, y, d(Var)) with respect to time (t)\n",
    "- Dispatches of count_interval are available to get all the intervals within the grid. \n",
    "    - This function however discards information about the x and y location and adds all the intervals to a single list\n",
    "- Dispatches of get_timestamps are available max_interval_algorithim\n",
    "    - These return a tuple with (x, y, data) \n",
    "    - for get_timestamps, data is the timestamps\n",
    "    - for max_interval_algorithgim data is the \n",
    "        - 1) Burst Timestamps\n",
    "        - 2) Duration list\n",
    "        - 3) Spike per burst list\n",
    "- A dispatch of the timescale analysis is also available, much like the count intervals all spatial information is lost in the process of conducting the timescale analysis. \n",
    "    - In order to conducte more precise spike duration analysis a higher resolution needs to be used which can end up very memory consuming. "
   ]
  },
  {
   "cell_type": "code",
   "execution_count": null,
   "metadata": {},
   "outputs": [],
   "source": [
    "#get_timestamps() returns (x, y, timestamps)\n",
    "timestamp_data = @time get_timestamps(spike_array);"
   ]
  },
  {
   "cell_type": "code",
   "execution_count": null,
   "metadata": {},
   "outputs": [],
   "source": [
    "#max_interval_algorithim() returns (x, y, [burst_timestamps, durations, spikes_per_burst and interburst interval])\n",
    "burst_data = max_interval_algorithim(spike_array);"
   ]
  },
  {
   "cell_type": "code",
   "execution_count": null,
   "metadata": {},
   "outputs": [],
   "source": [
    "using Statistics, StatsBase"
   ]
  },
  {
   "cell_type": "code",
   "execution_count": null,
   "metadata": {},
   "outputs": [],
   "source": [
    "ts_lattice = timescale_analysis(spike_array; verbose = 1, mode = 2);"
   ]
  },
  {
   "cell_type": "markdown",
   "metadata": {},
   "source": [
    "### [2.2.a] Saving small datasets for graphing.\n",
    "- We usually want to complete the analysis of the wave data on a large and precise wave simulation. \n",
    "- We can decrease the simulation time, and increase the interval to make a dataset that is capable of running"
   ]
  },
  {
   "cell_type": "code",
   "execution_count": null,
   "metadata": {},
   "outputs": [],
   "source": [
    "net = Network(nx, ny; μ = 0.30, gpu = gpu, version = :gACh)\n",
    "p_dict = read_JSON(\"params.json\");\n",
    "u_dict = read_JSON(\"conds.json\");\n",
    "u0 = extract_dict(u_dict, tar_conds, (nx, ny));\n",
    "p = extract_dict(p_dict, tar_pars);"
   ]
  },
  {
   "cell_type": "code",
   "execution_count": null,
   "metadata": {},
   "outputs": [],
   "source": [
    "prob = SDEProblem(net, noise_2D, u0, (0.0, 60e3), p);\n",
    "println(\"[$(now())]: Warming Up solutiuon for 60s\")\n",
    "@time sol = solve(\n",
    "    prob, SOSRI(),\n",
    "    abstol = 0.2, reltol = 2e-2, maxiters = 1e7,\n",
    "    progress = true, save_everystep = false\n",
    ");"
   ]
  },
  {
   "cell_type": "code",
   "execution_count": null,
   "metadata": {},
   "outputs": [],
   "source": [
    "prob = SDEProblem(net, noise_2D, sol[end], (0.0, 120e3), p);\n",
    "println(\"[$(now())]: Simulating 120s\")\n",
    "sol = solve(\n",
    "    prob, SOSRI(),\n",
    "    abstol = 0.2, reltol = 2e-2, maxiters = 1e7,\n",
    "    progress = true, saveat = 10.0\n",
    ");"
   ]
  },
  {
   "cell_type": "markdown",
   "metadata": {},
   "source": [
    "### [1.5.b] Graphing and visualization\n",
    "- For animation and visualization, the simulation timepoints used can be reduced significantly\n",
    "    - 5ms is for the most part ok to graphically visualize spiking events\n",
    "- Our above analysis only saves the Vt arrays, so we can run a visualization experiment using these "
   ]
  },
  {
   "cell_type": "code",
   "execution_count": null,
   "metadata": {},
   "outputs": [],
   "source": [
    "vt_sol = sol[:,:,1,:];\n",
    "nt_sol = sol[:,:,2,:];\n",
    "ct_sol = sol[:,:,3,:];\n",
    "at_sol = sol[:,:,4,:];\n",
    "bt_sol = sol[:,:,5,:];\n",
    "et_sol = sol[:,:,6,:];"
   ]
  },
  {
   "cell_type": "code",
   "execution_count": null,
   "metadata": {},
   "outputs": [],
   "source": [
    "#This function breaks downt the spike array into bursts according to the max interval algorithim\n",
    "thresh = calculate_threshold(vt_sol)\n",
    "spike_array = vt_sol .> thresh\n",
    "burst_map = extract_burstmap(spike_array);"
   ]
  },
  {
   "cell_type": "code",
   "execution_count": null,
   "metadata": {},
   "outputs": [],
   "source": [
    "x_locs = round.(Int, LinRange(1, nx, 10));\n",
    "y_locs = round.(Int, LinRange(1, ny, 10));"
   ]
  },
  {
   "cell_type": "code",
   "execution_count": null,
   "metadata": {},
   "outputs": [],
   "source": [
    "#burst_map = extract_burstmap(spike_array);\n",
    "\n",
    "@time anim = @animate for i = 1:100:size(sol, 4)\n",
    "    println(\"Animating frame $i\")\n",
    "    \n",
    "    p1 = plot(layout = grid(2, 2), size = (1000,1000))\n",
    "    heatmap!(p1[1], vt_sol[:, :, i], ratio = :equal, grid = false,\n",
    "        xticks = ([],[]), yticks = ([],[]), xlims = (0, nx), ylims = (0, ny),\n",
    "        c = :curl, clims = (-70.0, 0.0),\n",
    "    )\n",
    "    scatter!(p1[1], x_locs, y_locs, marker = :star, c = :yellow, label = \"\")\n",
    "    heatmap!(p1[2], ct_sol[:, :, i], ratio = :equal, grid = false,\n",
    "        xticks = ([],[]), yticks = ([],[]), xlims = (0, nx), ylims = (0, ny),\n",
    "        c = :kgy, clims = (0.0, 1.0),\n",
    "    )\n",
    "    scatter!(p1[2], x_locs, y_locs, marker = :star, c = :yellow, label = \"\")\n",
    "    heatmap!(p1[3], et_sol[:, :, i], ratio = :equal, grid = false,\n",
    "        xticks = ([],[]), yticks = ([],[]), xlims = (0, nx), ylims = (0, ny),\n",
    "        c = :bgy, clims = (0.0, 3.0),\n",
    "    )\n",
    "    scatter!(p1[3], x_locs, y_locs, marker = :star, c = :yellow, label = \"\")\n",
    "    heatmap!(p1[4], bt_sol[:, :, i], ratio = :equal, grid = false,\n",
    "        xticks = ([],[]), yticks = ([],[]), xlims = (0, nx), ylims = (0, ny),\n",
    "        c = :reds, clims = (0.0, 1.0),\n",
    "    )\n",
    "    scatter!(p1[4], x_locs, y_locs, marker = :star, c = :yellow, label = \"\")\n",
    "    \n",
    "    p2 = plot(vt_sol[x_locs[1], y_locs[1], :], layout = grid(3, 1), label = \"\", size = (500,150))\n",
    "    plot!(p2[2], ct_sol[x_locs[1], y_locs[1], :], c = :kgy, line_z = 1, label = \"\")\n",
    "    plot!(p2[3], bt_sol[x_locs[1], y_locs[1], :], c = :reds, line_z = 1, label = \"\")\n",
    "    for i = 2:length(x_locs)\n",
    "        plot!(p2[1], vt_sol[x_locs[i], y_locs[i], :], c = :curl, line_z = i, label = \"\")\n",
    "        plot!(p2[2], ct_sol[x_locs[i], y_locs[i], :], c = :kgy, line_z = i, label = \"\")\n",
    "        plot!(p2[3], bt_sol[x_locs[i], y_locs[i], :], c = :reds, line_z = i, label = \"\")\n",
    "    end\n",
    "    p2\n",
    "    vline!(p2[1], [i], label = \"\", lw = 3.0, c = :black)\n",
    "    vline!(p2[2], [i], label = \"\", lw = 3.0, c = :black)\n",
    "    vline!(p2[3], [i], label = \"\", lw = 3.0, c = :black)\n",
    "    p = plot(p2, p1, layout = grid(2,1), size = (1000,1000)) \n",
    "end"
   ]
  },
  {
   "cell_type": "code",
   "execution_count": null,
   "metadata": {},
   "outputs": [],
   "source": [
    "mp4(anim, \"$(figure_path)/wave_propagation.mp4\", fps = 5)\n",
    "gif(anim, \"$(figure_path)/wave_propagation.gif\", fps = 5)"
   ]
  },
  {
   "cell_type": "code",
   "execution_count": null,
   "metadata": {},
   "outputs": [],
   "source": [
    "wave_locs = round.(Int, LinRange(2700,3200, 9));"
   ]
  },
  {
   "cell_type": "code",
   "execution_count": null,
   "metadata": {},
   "outputs": [],
   "source": [
    "grid_p = plot(layout = grid(3,3), xaxis = \"\", yaxis = ρ margin = 1mm, size = (500, 500))\n",
    "for (idx, tstep) in enumerate(wave_locs)\n",
    "    if idx == 6\n",
    "        is_cbar = true\n",
    "    else \n",
    "        is_cbar = false\n",
    "    end\n",
    "    heatmap!(grid_p[idx], et_sol[:, :, tstep], ratio = :equal, grid = false,\n",
    "        xticks = ([],[]), yticks = ([],[]), xlims = (0, nx), ylims = (0, ny),\n",
    "        c = :delta, clims = (0.0, 3.0), cbar = is_cbar\n",
    "    )\n",
    "    annotate!(grid_p[idx], [48], [5], \"t = $(sol.t[tstep]/1000)s\", :white)\n",
    "end\n",
    "grid_p\n",
    "title!(grid_p[1], \"C\", title_pos = :left)"
   ]
  },
  {
   "cell_type": "markdown",
   "metadata": {},
   "source": [
    "#### Comparing to 1D traces"
   ]
  },
  {
   "cell_type": "code",
   "execution_count": null,
   "metadata": {},
   "outputs": [],
   "source": [
    "p = read_JSON(\"params.json\") |> extract_dict;\n",
    "u0 = read_JSON(\"conds.json\") |> extract_dict;\n",
    "dt = 1.0\n",
    "tspan = (0.0, 500e3);"
   ]
  },
  {
   "cell_type": "code",
   "execution_count": null,
   "metadata": {},
   "outputs": [],
   "source": [
    "SDEprob = SDEProblem(T_sde, u0, tspan, p)\n",
    "println(\"Time it took to simulate 60s:\")\n",
    "@time SDEsol = solve(SDEprob, SOSRI(), abstol = 2e-2, reltol = 2e-2, maxiters = 1e7, saveat = dt); \n",
    "trace = Array(SDEsol)';"
   ]
  },
  {
   "cell_type": "code",
   "execution_count": null,
   "metadata": {},
   "outputs": [],
   "source": [
    "vt_iso = trace[:, 1];"
   ]
  },
  {
   "cell_type": "code",
   "execution_count": null,
   "metadata": {},
   "outputs": [],
   "source": [
    "#Try to get these solutions to line up by adjusting this value\n",
    "iso_begin = 265000\n",
    "xlims = (0.0, 60e3) \n",
    "xticks = (collect(xlims[1]:5000:xlims[2]), collect(0:5.0:xlims[2]/1000))\n",
    "\n",
    "fig5_A = plot(vt_iso[iso_begin:Int(iso_begin+60e3)],  \n",
    "    label = \"\", ylabel = \"$vt (mV)\", xlabel = \"Time (s)\",\n",
    "    lw = 2.0, c = v_color\n",
    ")\n",
    "plot!(fig5_A, sol.t, vt_sol[21,10,:], \n",
    "    label = \"\", \n",
    "    lw = 2.0, c = e_color, linestyle = :dash, \n",
    "    xticks = xticks \n",
    ");\n",
    "title!(fig5_A, \"A\", title_loc = :left);"
   ]
  },
  {
   "cell_type": "code",
   "execution_count": null,
   "metadata": {},
   "outputs": [],
   "source": [
    "#Conducting the analysis in a single function you can use the imported function timescale_analysis\n",
    "ts_iso = timescale_analysis(trace[:,1]; dt = dt, verbose = 1, mode = 2);\n",
    "ts_iso_vals = timescale_analysis(trace[:,1]; dt = dt, mode = 1);\n",
    "iso_burst_list"
   ]
  },
  {
   "cell_type": "code",
   "execution_count": null,
   "metadata": {},
   "outputs": [],
   "source": [
    "lat_spike_dur, lat_spike_std, lat_burst_dur, lat_burst_std, lat_IBI, lat_IBI_std = ts_lattice_vals;\n",
    "\n",
    "iso_spike_dur, iso_spike_std, iso_burst_dur, iso_burst_std, iso_IBI, iso_IBI_std = ts_iso_vals;\n",
    "\n",
    "lat_spike_list, lat_burst_list, lat_IBI_list = ts_lattice;\n",
    "\n",
    "iso_spike_list, iso_burst_list, iso_IBI_list = ts_iso;\n",
    "\n",
    "n_lat_spike = length(lat_spike_list)\n",
    "n_lat_burst = length(lat_burst_list)\n",
    "n_lat_IBI = length(lat_IBI_list)\n",
    "\n",
    "n_iso_spike = length(iso_spike_list)\n",
    "n_iso_burst = length(iso_burst_list)\n",
    "n_iso_IBI = length(iso_IBI_list)\n",
    "\n",
    "lat_spike_SEM = lat_spike_std/n_lat_spike\n",
    "lat_burst_SEM = lat_burst_std/n_lat_burst\n",
    "lat_IBI_SEM = lat_IBI_std/n_lat_IBI\n",
    "\n",
    "iso_spike_SEM = iso_spike_std/n_iso_spike\n",
    "iso_burst_SEM = iso_burst_std/n_iso_burst\n",
    "iso_IBI_SEM = iso_IBI_std/n_iso_IBI"
   ]
  },
  {
   "cell_type": "code",
   "execution_count": null,
   "metadata": {},
   "outputs": [],
   "source": [
    "bins = LinRange(minimum(ts_lattice[2]), maximum(ts_lattice[2]), 100);\n",
    "fig5_Ba = histogram(ts_iso[2], normalize = :pdf, xlims = (500,1500), c = v_color, ylabel = \"Probability of Burst\", label = \"Isolated SAC\",);\n",
    "histogram!(fig5_Ba, ts_lattice[2], normalize = :pdf, xlims = (500,1500), c = e_color, xlabel = \"Burst Length (ms)\", label = \"SAC in Network\", );\n",
    "fig5_B1 = boxplot([iso_burst_list./1000, lat_burst_list./1000], c = [v_color e_color], \n",
    "    xticks = ((1.0, 2.0), (\"Isolated SAC\", \"SAC in Network\")), ylabel = \"Burst Length (s)\", labels = [\"\" \"\"]\n",
    ")\n",
    "\n",
    "fig5_Bb = histogram(ts_iso[3]./1000, normalize = :pdf, xlims = (0,60), c = v_color, ylabel = \"Probability of Burst\", label = \"Isolated SAC\",);\n",
    "histogram!(fig5_Bb, ts_lattice[3]./1000, normalize = :pdf, xlims = (0,60), c = e_color, xlabel = \"Interburst Interval (s)\", label = \"SAC in Network\", )\n",
    "fig5_B2 = boxplot([iso_IBI_list./1000, lat_IBI_list./1000], c = [v_color e_color], \n",
    "    xticks = ((1.0, 2.0), (\"Isolated SAC\", \"SAC in Network\")), ylabel = \"IBI Length (s)\", labels = [\"\" \"\"]\n",
    ")\n",
    "\n",
    "\n",
    "fig5_B = plot(fig5_Ba, fig5_Bb,  layout = grid(2,1))\n",
    "title!(fig5_B[1], \"B\", title_loc = :left);\n",
    "fig5_BC = plot(fig5_B, grid_p, layout = grid(1,2), size = (1000, 750));"
   ]
  },
  {
   "cell_type": "code",
   "execution_count": null,
   "metadata": {},
   "outputs": [],
   "source": [
    "fig5 = plot(fig5_A, fig5_BC, layout = grid(2,1,  heights = [0.25, 0.75]), size = (1000,1000))"
   ]
  },
  {
   "cell_type": "code",
   "execution_count": null,
   "metadata": {},
   "outputs": [],
   "source": [
    "savefig(fig5, \"$(figure_path)/Figure5_Isolated vs Lattice Sim.png\")"
   ]
  }
 ],
 "metadata": {
  "kernelspec": {
   "display_name": "Julia 1.4.2",
   "language": "julia",
   "name": "julia-1.4"
  },
  "language_info": {
   "file_extension": ".jl",
   "mimetype": "application/julia",
   "name": "julia",
   "version": "1.4.2"
  }
 },
 "nbformat": 4,
 "nbformat_minor": 4
}
