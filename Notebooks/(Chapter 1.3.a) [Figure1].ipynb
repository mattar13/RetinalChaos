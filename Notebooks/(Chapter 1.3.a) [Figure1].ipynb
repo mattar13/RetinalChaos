{
 "cells": [
  {
   "cell_type": "code",
   "execution_count": null,
   "metadata": {},
   "outputs": [],
   "source": [
    "using DifferentialEquations, ParameterizedFunctions\n",
    "using JSON2\n",
    "using Plots, Colors\n",
    "using LaTeXStrings"
   ]
  },
  {
   "cell_type": "code",
   "execution_count": null,
   "metadata": {},
   "outputs": [],
   "source": [
    "using Plots.Measures\n",
    "font_title = Plots.font(\"Arial\", 24)\n",
    "font_axis = Plots.font(\"Arial\", 12)\n",
    "font_legend = Plots.font(\"Arial\", 8)\n",
    "pyplot(titlefont=font_title, guidefont = font_axis, legendfont = font_legend)\n",
    "\n",
    "#Define different symbols used in the plotting\n",
    "delta = latexstring(\"\\$\\\\delta\\$\")\n",
    "micro = latexstring(\"\\$\\\\mu\\$\")\n",
    "vt = latexstring(\"\\$V_t\\$\")\n",
    "nt = latexstring(\"\\$N_t\\$\")\n",
    "i_ach = latexstring(\"\\$I_{ACh}\\$\")\n",
    "\n",
    "v_color = :deepskyblue\n",
    "n_color = :magenta\n",
    "c_color = :green\n",
    "a_color = :purple\n",
    "b_color = :red\n",
    "ach_color = :blue"
   ]
  },
  {
   "cell_type": "code",
   "execution_count": null,
   "metadata": {},
   "outputs": [],
   "source": [
    "figure_path = \"C:/users/mtarc/JuliaScripts/RetinalChaos/Notebooks/Figures\""
   ]
  },
  {
   "cell_type": "code",
   "execution_count": null,
   "metadata": {},
   "outputs": [],
   "source": [
    "import RetinalChaos: read_JSON, extract_dict\n",
    "import RetinalChaos: T_ode"
   ]
  },
  {
   "cell_type": "code",
   "execution_count": null,
   "metadata": {},
   "outputs": [],
   "source": [
    "p_dict = read_JSON(\"params.json\") \n",
    "p_dict[:I_app] = 10.0\n",
    "p_dict[:g_ACh] = 0.0\n",
    "p = p_dict |> extract_dict;\n",
    "u0 = read_JSON(\"conds.json\") |> extract_dict;\n",
    "dt = 0.1\n",
    "tspan = (0.0, 60e3);\n",
    "prob = ODEProblem(T_ode, u0, tspan, p)\n",
    "println(\"Time it took to simulate 60s:\")\n",
    "@time sol = solve(prob, abstol = 2e-2, reltol = 2e-2, maxiters = 1e7, saveat = dt); "
   ]
  },
  {
   "cell_type": "code",
   "execution_count": null,
   "metadata": {},
   "outputs": [],
   "source": [
    "plot(sol, vars = [:v])"
   ]
  },
  {
   "cell_type": "markdown",
   "metadata": {},
   "source": [
    "### Figure 1 Time Scale Analysis"
   ]
  },
  {
   "cell_type": "code",
   "execution_count": null,
   "metadata": {},
   "outputs": [],
   "source": [
    "#Making Figure part A\n",
    "xlims = (23.8e3, 24e3)\n",
    "ellapsed_time = (xlims[end]-xlims[1])\n",
    "xticks = (collect(xlims[1]:20.0:xlims[2]), collect(0:20.0:ellapsed_time))\n",
    "fig1_Aa = plot(sol, \n",
    "    vars = [:v, :n,], \n",
    "    ylabel = [\"$vt (mV)\" \"$nt\"], xlabel = [\"\" \"time (ms)\"], \n",
    "    lw = 2.0,\n",
    "    c = [v_color n_color],\n",
    "    legend = :none, \n",
    "    layout = grid(2, 1), \n",
    "    xlims = xlims,\n",
    "    xticks = xticks\n",
    ")\n",
    "vt_sol = map(t -> sol(t)[1], collect(xlims[1]:0.1:xlims[2]))\n",
    "nt_sol = map(t -> sol(t)[2], collect(xlims[1]:0.1:xlims[2]))\n",
    "fig1_Ab = plot(vt_sol, nt_sol, c = :black, label = \"\", \n",
    "    title = \"$(vt) to $(nt) Oscillation Diagram\", titlefontsize = 12.0,\n",
    "    xlabel = \"$vt (mV)\", ylabel = \"$nt\"\n",
    ")\n",
    "\n",
    "fig1_A = plot(fig1_Aa, fig1_Ab, layout = grid(1,2, widths = [0.7, 0.3]), grid = false);\n",
    "title!(fig1_A[1], \"A\", title_location = :left)"
   ]
  },
  {
   "cell_type": "code",
   "execution_count": null,
   "metadata": {},
   "outputs": [],
   "source": [
    "import RetinalChaos.M_INF"
   ]
  },
  {
   "cell_type": "code",
   "execution_count": null,
   "metadata": {},
   "outputs": [],
   "source": [
    "v_rng = collect(-100:1.0:0)\n",
    "C0 = p_dict[:C_0]\n",
    "Ci = C0\n",
    "δ = p_dict[:δ]\n",
    "λ = p_dict[:λ]\n",
    "#for calculating of I_ca\n",
    "gCa = p_dict[:g_Ca]\n",
    "ECa = p_dict[:E_Ca]\n",
    "V1 = p_dict[:V1]\n",
    "V2 = p_dict[:V2]\n",
    "τc = p_dict[:τc]\n",
    "f(v) = (C0+δ*(-gCa * M_INF(v, V1, V2) * (v - ECa)) - (λ*Ci))/τc\n",
    "dc_rng = map(f, v_rng);"
   ]
  },
  {
   "cell_type": "code",
   "execution_count": null,
   "metadata": {},
   "outputs": [],
   "source": [
    "#Figure 1 part B\n",
    "xlims = (22e3, 26e3) \n",
    "xticks = (collect(xlims[1]:500:xlims[2]), collect(0:0.5:(xlims[1]-xlims[2]/1000)))\n",
    "fig1_Ba = plot(sol, \n",
    "    vars = [:v, :c], \n",
    "    ylabel = [\"$vt (mV)\" \"[Ca] (mM)\"], \n",
    "    xlabel = [\"\" \"time (s)\"], \n",
    "    c = [v_color c_color], lw = 2.0,\n",
    "    legend = :none, \n",
    "    layout = grid(2, 1), \n",
    "    xlims = xlims, \n",
    "    xticks = xticks\n",
    ")\n",
    "\n",
    "fig1_Bb = plot(v_rng, dc_rng*1000, \n",
    "    c = c_color, linestyle = :dash, lw = 2.0, fill = (0, 0.5, c_color),\n",
    "    title = \"Instantaneous Calcium Change\", titlefontsize = 12.0,\n",
    "    xlabel = \"$vt (mV)\",ylabel = \"$(delta)[Ca] (mM/s)\", label = \"\")\n",
    "\n",
    "fig1_B = plot(fig1_Ba, fig1_Bb, \n",
    "    layout = grid(1, 2, widths=[0.7, 0.3]), size = (700, 350), grid = false)\n",
    "title!(fig1_B[1], \"B\", title_pos = :left)"
   ]
  },
  {
   "cell_type": "code",
   "execution_count": null,
   "metadata": {},
   "outputs": [],
   "source": [
    "c_rng = collect(0.0:0.01:1.5)\n",
    "ai = 1.0\n",
    "α = p_dict[:α]\n",
    "τa = p_dict[:τa]\n",
    "fa(c) = (-(α*c^4)/τa) + (1/τa)*ai\n",
    "a_rng = map(fa, c_rng).*1000;\n",
    "zero_c = (1/α)^(1/4)\n",
    "\n",
    "a_rng_2 = collect(0.0:0.01:1.5)\n",
    "bi = 0.0\n",
    "β = p_dict[:β]\n",
    "τb = p_dict[:τb]\n",
    "fb(a) = (β*a^4)/τb - 1.0/τb\n",
    "b_rng = -map(fb, a_rng_2).*1000\n",
    "zero_a = (1/β)^(1/4)"
   ]
  },
  {
   "cell_type": "code",
   "execution_count": null,
   "metadata": {},
   "outputs": [],
   "source": [
    "fig1_Ca = plot(layout = grid(4, 1, heights = [0.2, 0.2, 0.2, 0.4]))\n",
    "\n",
    "xlims = (0.0, 40e3) \n",
    "xticks = (collect(xlims[1]:5e3:xlims[end]), collect(0:5.0:(xlims[end]-xlims[1]/1000)))\n",
    "\n",
    "plot!(\n",
    "    fig1_Ca[1], sol, vars = [:c], \n",
    "    ylabel = \"[Ca] (mM)\", xlabel = \"\",\n",
    "    c = c_color, lw = 2.0, \n",
    "    legend = :none, \n",
    "    xlims = xlims, \n",
    "    xticks = xticks, \n",
    "    fill = (0.1, 0.2, a_color)\n",
    ")\n",
    "\n",
    "t_sub = (0:40e3)\n",
    "\n",
    "a_m = map(t -> 1-sol(t)[4], collect(0:40e3))\n",
    "plot!(\n",
    "    fig1_Ca[2], t_sub, a_m, label = \"\",\n",
    "    ylabel = \"normal [cAMP]\", c = a_color, lw = 2.0,\n",
    "    xlims = xlims, \n",
    "    xticks = xticks, \n",
    "    fill = (zero_a, 0.0, a_color)\n",
    ")\n",
    "\n",
    "plot!(\n",
    "    fig1_Ca[3], sol, vars = [:b], label = \"\",\n",
    "    ylabel = \"norm [TREK1]\", xlabel = \"\",\n",
    "    c = b_color, lw = 2.0, \n",
    "    xlims = xlims, \n",
    "    xticks = xticks, \n",
    "    legend = :topright,\n",
    "    fill = (zero_a, 0.0, a_color)\n",
    ")\n",
    "\n",
    "plot!(\n",
    "    fig1_Ca[4], sol, vars = [:v], label = \"\",\n",
    "    ylabel = \"$(vt) (mV)\", xlabel = \"time (ms)\",\n",
    "    c = v_color, lw = 2.0, \n",
    "    xlims = xlims, xticks = xticks\n",
    ")\n",
    "\n",
    "fig1_Cb = plot(xlims = (0.0, 1.25), ylims = (-1.2, 0.3))\n",
    "hline!(fig1_Cb, [0.0], c = :red, linestyle = :dot, label = \"\")\n",
    "hspan!(fig1_Cb, [0, 0.6], alpha = 0.4, c = :blue, label = \"\")\n",
    "hspan!(fig1_Cb, [-20, 0.0], alpha = 0.4, c = :red, label = \"\")\n",
    "plot!(fig1_Cb, \n",
    "    c_rng, a_rng, label = \"\",\n",
    "    xlabel = \"[Ca] (mM)\", ylabel = \"$(delta)[cAMP](norm/s)\", \n",
    "    c = a_color, lw = 2.0, linestyle = :dash, \n",
    "    title = \"[Ca] induced [cAMP] decay\", titlefontsize = 10.0,\n",
    "    fill = (0, 0.2, a_color)\n",
    ")\n",
    "plot!(fig1_Cb, [zero_c], [0.0], label = \"[Ca] null = $(round(zero_c, digits = 2))mM\",\n",
    "    c = :purple, markersize = 4.0, seriestype = :scatter, )\n",
    "\n",
    "\n",
    "fig1_Cc = plot(xlims = (0.0, 1.25), ylims = (-1.2, 0.3))\n",
    "hline!(fig1_Cc, [0.0], c = :red, linestyle = :dot, label = \"\")\n",
    "hspan!(fig1_Cc, [0, 0.6], alpha = 0.4, c = :blue, label = \"\")\n",
    "hspan!(fig1_Cc, [-2.0, 0.0], alpha = 0.4, c = :red, label = \"\")\n",
    "plot!( fig1_Cc,\n",
    "    a_rng_2, b_rng, label = \"\", \n",
    "    xlabel = \"norm [cAMP]\", ylabel = \"$(delta)[TREK1](norm/s)\",\n",
    "    title = \"[cAMP] induced [TREK1] decay\", titlefontsize = 10.0,\n",
    "    c = b_color, lw = 2.0, linestyle = :dash, \n",
    "    fill = (0, 0.2, b_color)\n",
    ")\n",
    "plot!(fig1_Cc, [zero_a], [0.0], label = \"[cAMP] null = $(round(zero_a, digits = 2))\",\n",
    "    c = :red, markersize = 4.0, seriestype = :scatter, )\n",
    "\n",
    "#fig1_Cc = plot(c_full, b_full, xlabel = \"[Ca]\", ylabel = \"[TREK1]\")\n",
    "fig1_C = plot(fig1_Ca, fig1_Cb, fig1_Cc, layout = grid(1,3, widths = [0.6, 0.2, 0.2]), grid = false)\n",
    "title!(fig1_C[1], \"C\", titlepos = :left);"
   ]
  },
  {
   "cell_type": "code",
   "execution_count": null,
   "metadata": {},
   "outputs": [],
   "source": [
    "fig1 = plot(fig1_A, fig1_B, fig1_C, layout = grid(3, 1, heights = [0.2, 0.3, 0.5]), size = (1000, 1000))"
   ]
  },
  {
   "cell_type": "code",
   "execution_count": null,
   "metadata": {},
   "outputs": [],
   "source": [
    "savefig(fig1, \"$(figure_path)/Figure1_ModelDynamics.png\")"
   ]
  },
  {
   "cell_type": "code",
   "execution_count": null,
   "metadata": {},
   "outputs": [],
   "source": [
    "import RetinalChaos.timescale_analysis"
   ]
  },
  {
   "cell_type": "code",
   "execution_count": null,
   "metadata": {},
   "outputs": [],
   "source": [
    "#Conducting the analysis in a single function you can use the imported function timescale_analysis\n",
    "vt_full = map(t -> sol(t)[1], sol.t)\n",
    "#Mode 1 passes actual values for average and std\n",
    "ts_analysis = timescale_analysis(vt_full; dt = dt, mode = 1, verbose = 1);\n",
    "#Mode 2 passes back the lists\n",
    "ts_lists = timescale_analysis(vt_full; dt = dt, mode = 2);"
   ]
  },
  {
   "cell_type": "code",
   "execution_count": null,
   "metadata": {},
   "outputs": [],
   "source": [
    "println(ts_lists[3])"
   ]
  },
  {
   "cell_type": "code",
   "execution_count": null,
   "metadata": {},
   "outputs": [],
   "source": []
  }
 ],
 "metadata": {
  "kernelspec": {
   "display_name": "Julia 1.4.2",
   "language": "julia",
   "name": "julia-1.4"
  },
  "language_info": {
   "file_extension": ".jl",
   "mimetype": "application/julia",
   "name": "julia",
   "version": "1.4.2"
  }
 },
 "nbformat": 4,
 "nbformat_minor": 4
}
