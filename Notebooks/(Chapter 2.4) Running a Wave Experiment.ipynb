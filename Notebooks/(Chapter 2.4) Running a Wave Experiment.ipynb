{
 "cells": [
  {
   "cell_type": "code",
   "execution_count": null,
   "metadata": {},
   "outputs": [],
   "source": [
    "#If you have a GPU available, you can run the code using \n",
    "#using CuArrays\n",
    "#gpu = true; CuArrays.allowscalar(false)"
   ]
  },
  {
   "cell_type": "code",
   "execution_count": null,
   "metadata": {},
   "outputs": [],
   "source": [
    "#otherwise set gpu to false\n",
    "gpu = false;"
   ]
  },
  {
   "cell_type": "code",
   "execution_count": null,
   "metadata": {},
   "outputs": [],
   "source": [
    "using Dates, Plots             \n",
    "using Logging, TerminalLoggers\n",
    "global_logger(TerminalLogger());"
   ]
  },
  {
   "cell_type": "code",
   "execution_count": null,
   "metadata": {},
   "outputs": [],
   "source": [
    "import RetinalChaos: Network, extract_dict, read_JSON\n",
    "import RetinalChaos: tar_conds, tar_pars"
   ]
  },
  {
   "cell_type": "code",
   "execution_count": null,
   "metadata": {},
   "outputs": [],
   "source": [
    "dt = 10.0; tspan = (0.0, 300e3)\n",
    "nx = 96; ny = 96;"
   ]
  },
  {
   "cell_type": "code",
   "execution_count": null,
   "metadata": {},
   "outputs": [],
   "source": [
    "SACnet = Network(96, 96; μ = 0.70, gpu = gpu, version = :gACh)\n",
    "p_dict = read_JSON(\"params.json\");\n",
    "u_dict = read_JSON(\"conds.json\");\n",
    "u0 = extract_dict(u_dict, tar_conds, (nx, ny));\n",
    "p0 = extract_dict(p_dict, tar_pars);"
   ]
  },
  {
   "cell_type": "code",
   "execution_count": null,
   "metadata": {},
   "outputs": [],
   "source": [
    "import RetinalChaos: SDEProblem, noise_2D, SOSRI, solve"
   ]
  },
  {
   "cell_type": "code",
   "execution_count": null,
   "metadata": {},
   "outputs": [],
   "source": [
    "println(\"Warming up solution\")\n",
    "prob = SDEProblem(SACnet, noise_2D, u0, (0.0, 60e3), p0);\n",
    "sol = solve(\n",
    "    prob,\n",
    "    SOSRI(),\n",
    "    abstol = 0.2,\n",
    "    reltol = 2e-2,\n",
    "    maxiters = 1e7,\n",
    "    progress = true, \n",
    "    save_everystep = false\n",
    ")"
   ]
  },
  {
   "cell_type": "code",
   "execution_count": null,
   "metadata": {},
   "outputs": [],
   "source": [
    "prob = SDEProblem(prob.f, prob.g, sol[end], (0.0, 60e3), prob.p);\n",
    "sol = solve(\n",
    "        prob,\n",
    "        SOSRI(),\n",
    "        abstol = 0.2,\n",
    "        reltol = 2e-2,\n",
    "        maxiters = 1e7,\n",
    "        progress = true, \n",
    "        saveat = dt,\n",
    "    )"
   ]
  },
  {
   "cell_type": "markdown",
   "metadata": {},
   "source": [
    "### [1.5.b] Graphing and visualization"
   ]
  },
  {
   "cell_type": "code",
   "execution_count": null,
   "metadata": {},
   "outputs": [],
   "source": [
    "import RetinalChaos: calculate_threshold, get_timestamps, max_interval_algorithim, extract_burstmap, timescale_analysis"
   ]
  },
  {
   "cell_type": "code",
   "execution_count": null,
   "metadata": {},
   "outputs": [],
   "source": [
    "vm = Array(sol[:,:,1,:]);"
   ]
  },
  {
   "cell_type": "code",
   "execution_count": null,
   "metadata": {},
   "outputs": [],
   "source": [
    "thresh = calculate_threshold(vm)\n",
    "spike_array = vm .> thresh;"
   ]
  },
  {
   "cell_type": "code",
   "execution_count": null,
   "metadata": {},
   "outputs": [],
   "source": [
    "rand([])"
   ]
  },
  {
   "cell_type": "code",
   "execution_count": null,
   "metadata": {},
   "outputs": [],
   "source": [
    "burst_map = extract_burstmap(spike_array);\n",
    "@time anim = @animate for i = 1:10:size(sol, 4)\n",
    "    println(\"Animating frame $i\")\n",
    "    p = plot(layout = grid(2, 2), size = (800, 800))\n",
    "    heatmap!(p[1], sol[:, :, 1, i], ratio = :equal, grid = false,\n",
    "        xaxis = \"\", yaxis = \"\", xlims = (0, nx), ylims = (0, ny),\n",
    "        c = :curl, clims = (-70.0, 0.0),\n",
    "    )\n",
    "    heatmap!(p[2], burst_map[:,:,i], ratio = :equal, grid = false,\n",
    "        xaxis = \"\", yaxis = \"\", xlims = (0, nx), ylims = (0, ny),\n",
    "        c = :grays, clims = (0.0, 1.0),\n",
    "    )\n",
    "    heatmap!(p[3], sol[:, :, 3, i], ratio = :equal, grid = false,\n",
    "        xaxis = \"\", yaxis = \"\", xlims = (0, nx), ylims = (0, ny),\n",
    "        c = :kgy, clims = (0.0, 1.0),\n",
    "    )\n",
    "    heatmap!(p[4], sol[:, :, 6, i], ratio = :equal, grid = false,\n",
    "        xaxis = \"\", yaxis = \"\", xlims = (0, nx), ylims = (0, ny),\n",
    "        c = :bgy, clims = (0.0, 1.0),\n",
    "    )\n",
    "    line_plot = plot(vm[])\n",
    "    end;"
   ]
  },
  {
   "cell_type": "code",
   "execution_count": null,
   "metadata": {},
   "outputs": [],
   "source": [
    "gif(anim, \"t_map.gif\", fps = 10)"
   ]
  },
  {
   "cell_type": "markdown",
   "metadata": {},
   "source": [
    "### [1.5.c] Analysis of the wave Data\n",
    "- The output of the wave we get is very similar to the output of the trace simulation, except it is in 3D (x, y, d(Var)) with respect to time (t)\n",
    "- Dispatches of count_interval are available to get all the intervals within the grid. \n",
    "    - This function however discards information about the x and y location and adds all the intervals to a single list\n",
    "- Dispatches of get_timestamps are available max_interval_algorithim\n",
    "    - These return a tuple with (x, y, data) \n",
    "    - for get_timestamps, data is the timestamps\n",
    "    - for max_interval_algorithgim data is the \n",
    "        - 1) Burst Timestamps\n",
    "        - 2) Duration list\n",
    "        - 3) Spike per burst list\n",
    "- A dispatch of the timescale analysis is also available, much like the count intervals all spatial information is lost in the process of conducting the timescale analysis. \n",
    "    - In order to conducte more precise spike duration analysis a higher resolution needs to be used which can end up very memory consuming. "
   ]
  },
  {
   "cell_type": "code",
   "execution_count": null,
   "metadata": {},
   "outputs": [],
   "source": [
    "#get_timestamps() returns (x, y, timestamps)\n",
    "timestamp_data = @time get_timestamps(spike_array);"
   ]
  },
  {
   "cell_type": "code",
   "execution_count": null,
   "metadata": {},
   "outputs": [],
   "source": [
    "#max_interval_algorithim() returns (x, y, [burst_timestamps, durations, spikes_per_burst and intervurst interval])\n",
    "burst_data = max_interval_algorithim(spike_array);"
   ]
  },
  {
   "cell_type": "code",
   "execution_count": null,
   "metadata": {},
   "outputs": [],
   "source": [
    "#This function breaks downt the spike array into bursts according to the max interval algorithim\n",
    "burst_map = extract_burstmap(spike_array);"
   ]
  },
  {
   "cell_type": "code",
   "execution_count": null,
   "metadata": {},
   "outputs": [],
   "source": [
    "using Statistics"
   ]
  },
  {
   "cell_type": "code",
   "execution_count": null,
   "metadata": {},
   "outputs": [],
   "source": [
    "ts_lattice = timescale_analysis(vm; verbose = 1);"
   ]
  },
  {
   "cell_type": "markdown",
   "metadata": {},
   "source": [
    "#### Comparing to 1D traces"
   ]
  },
  {
   "cell_type": "code",
   "execution_count": null,
   "metadata": {},
   "outputs": [],
   "source": [
    "import RetinalChaos: T_sde"
   ]
  },
  {
   "cell_type": "code",
   "execution_count": null,
   "metadata": {},
   "outputs": [],
   "source": [
    "p = read_JSON(\"params.json\") |> extract_dict;\n",
    "u0 = read_JSON(\"conds.json\") |> extract_dict;\n",
    "dt = 1.0\n",
    "tspan = (0.0, 300e3);\n",
    "SDEprob = SDEProblem(T_sde, u0, tspan, p)\n",
    "println(\"Time it took to simulate 60s:\")\n",
    "@time SDEsol = solve(SDEprob, SOSRI(), abstol = 2e-2, reltol = 2e-2, maxiters = 1e7, saveat = dt); \n",
    "trace = Array(SDEsol)';"
   ]
  },
  {
   "cell_type": "code",
   "execution_count": null,
   "metadata": {},
   "outputs": [],
   "source": [
    "vm_iso = trace[240000:end,1];"
   ]
  },
  {
   "cell_type": "code",
   "execution_count": null,
   "metadata": {},
   "outputs": [],
   "source": [
    "plot(vm_iso, lw = 2.0)\n",
    "plot!(sol.t, vm[1,1,:], lw = 2.0)"
   ]
  },
  {
   "cell_type": "code",
   "execution_count": null,
   "metadata": {},
   "outputs": [],
   "source": [
    "#Conducting the analysis in a single function you can use the imported function timescale_analysis\n",
    "ts_iso = timescale_analysis(trace[:,1]; dt = dt, verbose = 1);"
   ]
  },
  {
   "cell_type": "code",
   "execution_count": null,
   "metadata": {},
   "outputs": [],
   "source": [
    "p = plot(layout = grid(3,1))\n",
    "bar!(p[1], [1, ts_lattice[1]], c = :green, label = :lattice)\n",
    "bar!(p[1], [2, ts_iso[1]], c = :orange, label = :isolated)\n",
    "bar!(p[2], [ts_lattice[3], ts_iso[3]], c = [:green, :orange])\n",
    "bar!(p[3], [ts_lattice[5], ts_iso[5]], c = [:green, :orange])"
   ]
  },
  {
   "cell_type": "code",
   "execution_count": null,
   "metadata": {},
   "outputs": [],
   "source": [
    " ts_lattice[1]"
   ]
  },
  {
   "cell_type": "markdown",
   "metadata": {},
   "source": [
    "### [1.5.d] We can do multiple runs of this simulation loop. This allows us to \n",
    "- Perform repeated trials\n",
    "- Alter a variable\n",
    "\n",
    "I will only be doing one of these however, because these trials are costly. The below code should be performed only on a computer with a capable GPU, otherwise this will take a very long time. I will be altering the amount of acetylcholine released by a single SAC in $\\mu M / ms$($\\rho$)"
   ]
  },
  {
   "cell_type": "code",
   "execution_count": null,
   "metadata": {},
   "outputs": [],
   "source": [
    "par = :ρ\n",
    "n_trials = 10\n",
    "par_range = LinRange(1.0, 10.0, n_trials)"
   ]
  },
  {
   "cell_type": "code",
   "execution_count": null,
   "metadata": {},
   "outputs": [],
   "source": [
    "for val in par_range\n",
    "    with_logger(TerminalLogger()) do\n",
    "        #Warmup\n",
    "        SDE_mat_prob = SDEProblem(SACnet, noise_2D, u0, (0.0, 60e3), p0);\n",
    "        SDE_mat_sol = solve(\n",
    "            SDE_mat_prob,\n",
    "            SOSRI(),\n",
    "            abstol = 0.2,\n",
    "            reltol = 2e-2,\n",
    "            maxiters = 1e7,\n",
    "            progress = true, \n",
    "            saveat = dt,\n",
    "        )\n",
    "        #Run the trial\n",
    "        u0_new = SDE_mat_sol[end]\n",
    "        SDE_mat_prob = SDEProblem(SACnet, noise_2D, u0_new, tspan, p0);\n",
    "        SDE_mat_sol = solve(\n",
    "            SDE_mat_prob,\n",
    "            SOSRI(),\n",
    "            abstol = 0.2,\n",
    "            reltol = 2e-2,\n",
    "            maxiters = 1e7,\n",
    "            progress = true, \n",
    "            saveat = dt,\n",
    "        )\n",
    "        #Perform the Data Analysis TODO\n",
    "    end\n",
    "end"
   ]
  }
 ],
 "metadata": {
  "kernelspec": {
   "display_name": "Julia 1.4.2",
   "language": "julia",
   "name": "julia-1.4"
  },
  "language_info": {
   "file_extension": ".jl",
   "mimetype": "application/julia",
   "name": "julia",
   "version": "1.4.2"
  }
 },
 "nbformat": 4,
 "nbformat_minor": 4
}
