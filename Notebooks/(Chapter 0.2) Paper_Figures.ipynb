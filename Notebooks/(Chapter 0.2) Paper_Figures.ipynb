{
 "cells": [
  {
   "cell_type": "code",
   "execution_count": 1,
   "metadata": {},
   "outputs": [],
   "source": [
    "using DifferentialEquations, ParameterizedFunctions\n",
    "using JSON2\n",
    "using Plots, Colors\n",
    "using LaTeXStrings"
   ]
  },
  {
   "cell_type": "code",
   "execution_count": 2,
   "metadata": {},
   "outputs": [],
   "source": [
    "using RetinalChaos"
   ]
  },
  {
   "cell_type": "code",
   "execution_count": 3,
   "metadata": {},
   "outputs": [
    {
     "data": {
      "text/plain": [
       "Plots.PyPlotBackend()"
      ]
     },
     "execution_count": 3,
     "metadata": {},
     "output_type": "execute_result"
    }
   ],
   "source": [
    "using Plots.Measures\n",
    "font_title = Plots.font(\"Arial\", 24)\n",
    "font_axis = Plots.font(\"Arial\", 12)\n",
    "font_legend = Plots.font(\"Arial\", 8)\n",
    "pyplot(titlefont=font_title, guidefont = font_axis, legendfont = font_legend)"
   ]
  },
  {
   "cell_type": "code",
   "execution_count": 4,
   "metadata": {},
   "outputs": [
    {
     "data": {
      "text/plain": [
       ":blue"
      ]
     },
     "execution_count": 4,
     "metadata": {},
     "output_type": "execute_result"
    }
   ],
   "source": [
    "#Define different symbols used in the plotting\n",
    "delta = latexstring(\"\\$\\\\delta\\$\")\n",
    "micro = latexstring(\"\\$\\\\mu\\$\")\n",
    "vt = latexstring(\"\\$V_t\\$\")\n",
    "nt = latexstring(\"\\$N_t\\$\")\n",
    "i_ach = latexstring(\"\\$I_{ACh}\\$\")\n",
    "\n",
    "v_color = :deepskyblue\n",
    "n_color = :magenta\n",
    "c_color = :green\n",
    "a_color = :purple\n",
    "b_color = :red\n",
    "ach_color = :blue"
   ]
  },
  {
   "cell_type": "code",
   "execution_count": 5,
   "metadata": {},
   "outputs": [
    {
     "data": {
      "text/plain": [
       "\"C:/users/mtarc/JuliaScripts/RetinalChaos/Notebooks/Figures\""
      ]
     },
     "execution_count": 5,
     "metadata": {},
     "output_type": "execute_result"
    }
   ],
   "source": [
    "figure_path = \"C:/users/mtarc/JuliaScripts/RetinalChaos/Notebooks/Figures\""
   ]
  },
  {
   "cell_type": "code",
   "execution_count": 6,
   "metadata": {},
   "outputs": [
    {
     "data": {
      "text/plain": [
       "0.0"
      ]
     },
     "execution_count": 6,
     "metadata": {},
     "output_type": "execute_result"
    }
   ],
   "source": [
    "p_dict = read_JSON(\"params.json\", is_type = Dict{Symbol, Float64});\n",
    "u_dict = read_JSON(\"conds.json\", is_type = Dict{Symbol, Float64});\n",
    "#p_dict[:g_TREK] = 0.0\n",
    "p_dict[:I_app] = 10.0\n",
    "p_dict[:g_ACh] = 0.0 #For now null out Acetylcholine autoreceptors"
   ]
  },
  {
   "cell_type": "code",
   "execution_count": 7,
   "metadata": {},
   "outputs": [
    {
     "ename": "UndefVarError",
     "evalue": "UndefVarError: BurstModel not defined",
     "output_type": "error",
     "traceback": [
      "UndefVarError: BurstModel not defined",
      "",
      "Stacktrace:",
      " [1] top-level scope at In[7]:1"
     ]
    }
   ],
   "source": [
    "p0 = map(x -> Float64(p_dict[x]), BurstModel.params);\n",
    "u0 = map(x -> Float64(u_dict[x]), BurstModel.syms);\n",
    "tspan = (0.0, 40000.0);\n",
    "prob = ODEProblem(BurstModel, u0, tspan, p0);\n",
    "println(\"Time it took to simulate 200ms:\")\n",
    "@time sol = solve(prob);\n",
    "plot(sol, vars = [:v]);"
   ]
  },
  {
   "cell_type": "code",
   "execution_count": 8,
   "metadata": {},
   "outputs": [
    {
     "ename": "UndefVarError",
     "evalue": "UndefVarError: sol not defined",
     "output_type": "error",
     "traceback": [
      "UndefVarError: sol not defined",
      "",
      "Stacktrace:",
      " [1] top-level scope at In[8]:1"
     ]
    }
   ],
   "source": [
    "plot(sol, vars = [:v])"
   ]
  },
  {
   "cell_type": "markdown",
   "metadata": {},
   "source": [
    "### Figure 1"
   ]
  },
  {
   "cell_type": "code",
   "execution_count": 9,
   "metadata": {},
   "outputs": [
    {
     "ename": "UndefVarError",
     "evalue": "UndefVarError: sol not defined",
     "output_type": "error",
     "traceback": [
      "UndefVarError: sol not defined",
      "",
      "Stacktrace:",
      " [1] top-level scope at In[9]:5"
     ]
    }
   ],
   "source": [
    "#Making Figure part A\n",
    "xlims = (23e3, 24e3)\n",
    "ellapsed_time = (xlims[end]-xlims[1])\n",
    "xticks = (collect(xlims[1]:200.0:xlims[2]), collect(0:200.0:ellapsed_time))\n",
    "fig1_Aa = plot(sol, \n",
    "    vars = [:v, :n,], \n",
    "    ylabel = [\"$vt (mV)\" \"$nt\"], xlabel = [\"\" \"time (ms)\"], \n",
    "    lw = 2.0,\n",
    "    c = [v_color n_color],\n",
    "    legend = :none, \n",
    "    layout = grid(2, 1), \n",
    "    xlims = xlims,\n",
    "    xticks = xticks\n",
    ")\n",
    "vt_sol = map(t -> sol(t)[1], collect(xlims[1]:0.1:xlims[2]))\n",
    "nt_sol = map(t -> sol(t)[2], collect(xlims[1]:0.1:xlims[2]))\n",
    "fig1_Ab = plot(vt_sol, nt_sol, c = :black, label = \"\", \n",
    "    title = \"$(vt) to $(nt) Oscillation Diagram\", titlefontsize = 12.0,\n",
    "    xlabel = \"$vt (mV)\", ylabel = \"$nt\"\n",
    ")\n",
    "\n",
    "fig1_A = plot(fig1_Aa, fig1_Ab, layout = grid(1,2, widths = [0.7, 0.3]), grid = false);\n",
    "title!(fig1_A[1], \"A\", title_location = :left);"
   ]
  },
  {
   "cell_type": "code",
   "execution_count": 10,
   "metadata": {},
   "outputs": [],
   "source": [
    "import RetinalChaos.M_INF"
   ]
  },
  {
   "cell_type": "code",
   "execution_count": 11,
   "metadata": {},
   "outputs": [],
   "source": [
    "v_rng = collect(-100:1.0:0)\n",
    "C0 = p_dict[:C_0]\n",
    "Ci = C0\n",
    "δ = p_dict[:δ]\n",
    "λ = p_dict[:λ]\n",
    "#for calculating of I_ca\n",
    "gCa = p_dict[:g_Ca]\n",
    "ECa = p_dict[:E_Ca]\n",
    "V1 = p_dict[:V1]\n",
    "V2 = p_dict[:V2]\n",
    "τc = p_dict[:τc]\n",
    "f(v) = (C0+δ*(-gCa * M_INF(v, V1, V2) * (v - ECa)) - (λ*Ci))/τc\n",
    "dc_rng = map(f, v_rng);"
   ]
  },
  {
   "cell_type": "code",
   "execution_count": 12,
   "metadata": {},
   "outputs": [
    {
     "ename": "UndefVarError",
     "evalue": "UndefVarError: sol not defined",
     "output_type": "error",
     "traceback": [
      "UndefVarError: sol not defined",
      "",
      "Stacktrace:",
      " [1] top-level scope at In[12]:4"
     ]
    }
   ],
   "source": [
    "#Figure 1 part B\n",
    "xlims = (22e3, 26e3) \n",
    "xticks = (collect(xlims[1]:500:xlims[2]), collect(0:0.5:(xlims[1]-xlims[2]/1000)))\n",
    "fig1_Ba = plot(sol, \n",
    "    vars = [:v, :c], \n",
    "    ylabel = [\"$vt (mV)\" \"[Ca] (mM)\"], \n",
    "    xlabel = [\"\" \"time (s)\"], \n",
    "    c = [v_color c_color], lw = 2.0,\n",
    "    legend = :none, \n",
    "    layout = grid(2, 1), \n",
    "    xlims = xlims, \n",
    "    xticks = xticks\n",
    ")\n",
    "\n",
    "fig1_Bb = plot(v_rng, dc_rng*1000, \n",
    "    c = c_color, linestyle = :dash, lw = 2.0, fill = (0, 0.5, c_color),\n",
    "    title = \"Instantaneous Calcium Change\", titlefontsize = 12.0,\n",
    "    xlabel = \"$vt (mV)\",ylabel = \"$(delta)[Ca] (mM/s)\", label = \"\")\n",
    "\n",
    "fig1_B = plot(fig1_Ba, fig1_Bb, \n",
    "    layout = grid(1, 2, widths=[0.7, 0.3]), size = (700, 350), grid = false)\n",
    "title!(fig1_B[1], \"B\", title_pos = :left)"
   ]
  },
  {
   "cell_type": "code",
   "execution_count": 13,
   "metadata": {},
   "outputs": [
    {
     "data": {
      "text/plain": [
       "0.41412387656655203"
      ]
     },
     "execution_count": 13,
     "metadata": {},
     "output_type": "execute_result"
    }
   ],
   "source": [
    "c_rng = collect(0.0:0.01:1.5)\n",
    "ai = 1.0\n",
    "α = p_dict[:α]\n",
    "τa = p_dict[:τa]\n",
    "fa(c) = (-(α*c^4)/τa) + (1/τa)*ai\n",
    "a_rng = map(fa, c_rng).*1000;\n",
    "zero_c = (1/α)^(1/4)\n",
    "\n",
    "a_rng_2 = collect(0.0:0.01:1.5)\n",
    "bi = 0.0\n",
    "β = p_dict[:β]\n",
    "τb = p_dict[:τb]\n",
    "fb(a) = (β*a^4)/τb - 1.0/τb\n",
    "b_rng = -map(fb, a_rng_2).*1000\n",
    "zero_a = (1/β)^(1/4)"
   ]
  },
  {
   "cell_type": "code",
   "execution_count": 14,
   "metadata": {},
   "outputs": [
    {
     "ename": "UndefVarError",
     "evalue": "UndefVarError: sol not defined",
     "output_type": "error",
     "traceback": [
      "UndefVarError: sol not defined",
      "",
      "Stacktrace:",
      " [1] top-level scope at In[14]:5"
     ]
    }
   ],
   "source": [
    "fig1_Ca = plot(layout = grid(4, 1, heights = [0.2, 0.2, 0.2, 0.4]))\n",
    "\n",
    "xlims = (0.0, 40e3) \n",
    "xticks = (collect(xlims[1]:5e3:xlims[end]), collect(0:5.0:(xlims[end]-xlims[1]/1000)))\n",
    "\n",
    "plot!(\n",
    "    fig1_Ca[1], sol, vars = [:c], \n",
    "    ylabel = \"[Ca] (mM)\", xlabel = \"\",\n",
    "    c = c_color, lw = 2.0, \n",
    "    legend = :none, \n",
    "    xlims = xlims, \n",
    "    xticks = xticks, \n",
    "    fill = (0.1, 0.2, a_color)\n",
    ")\n",
    "\n",
    "t_sub = (0:40e3)\n",
    "\n",
    "a_m = map(t -> 1-sol(t)[4], collect(0:40e3))\n",
    "plot!(\n",
    "    fig1_Ca[2], t_sub, a_m, label = \"\",\n",
    "    ylabel = \"normal [cAMP]\", c = a_color, lw = 2.0,\n",
    "    xlims = xlims, \n",
    "    xticks = xticks, \n",
    "    fill = (zero_a, 0.0, a_color)\n",
    ")\n",
    "\n",
    "plot!(\n",
    "    fig1_Ca[3], sol, vars = [:b], label = \"\",\n",
    "    ylabel = \"norm [TREK1]\", xlabel = \"\",\n",
    "    c = b_color, lw = 2.0, \n",
    "    xlims = xlims, \n",
    "    xticks = xticks, \n",
    "    legend = :topright,\n",
    "    fill = (zero_a, 0.0, a_color)\n",
    ")\n",
    "\n",
    "plot!(\n",
    "    fig1_Ca[4], sol, vars = [:v], label = \"\",\n",
    "    ylabel = \"$(vt) (mV)\", xlabel = \"time (ms)\",\n",
    "    c = v_color, lw = 2.0, \n",
    "    xlims = xlims, xticks = xticks\n",
    ")\n",
    "\n",
    "fig1_Cb = plot(xlims = (0.0, 1.25), ylims = (-1.2, 0.3))\n",
    "hline!(fig1_Cb, [0.0], c = :red, linestyle = :dot, label = \"\")\n",
    "hspan!(fig1_Cb, [0, 0.6], alpha = 0.4, c = :blue, label = \"\")\n",
    "hspan!(fig1_Cb, [-20, 0.0], alpha = 0.4, c = :red, label = \"\")\n",
    "plot!(fig1_Cb, \n",
    "    c_rng, a_rng, label = \"\",\n",
    "    xlabel = \"[Ca] (mM)\", ylabel = \"$(delta)[cAMP](norm/s)\", \n",
    "    c = a_color, lw = 2.0, linestyle = :dash, \n",
    "    title = \"[Ca] induced [cAMP] decay\", titlefontsize = 10.0,\n",
    "    fill = (0, 0.2, a_color)\n",
    ")\n",
    "plot!(fig1_Cb, [zero_c], [0.0], label = \"[Ca] null = $(round(zero_c, digits = 2))mM\",\n",
    "    c = :purple, markersize = 4.0, seriestype = :scatter, )\n",
    "\n",
    "\n",
    "fig1_Cc = plot(xlims = (0.0, 1.25), ylims = (-1.2, 0.3))\n",
    "hline!(fig1_Cc, [0.0], c = :red, linestyle = :dot, label = \"\")\n",
    "hspan!(fig1_Cc, [0, 0.6], alpha = 0.4, c = :blue, label = \"\")\n",
    "hspan!(fig1_Cc, [-2.0, 0.0], alpha = 0.4, c = :red, label = \"\")\n",
    "plot!( fig1_Cc,\n",
    "    a_rng_2, b_rng, label = \"\", \n",
    "    xlabel = \"norm [cAMP]\", ylabel = \"$(delta)[TREK1](norm/s)\",\n",
    "    title = \"[cAMP] induced [TREK1] decay\", titlefontsize = 10.0,\n",
    "    c = b_color, lw = 2.0, linestyle = :dash, \n",
    "    fill = (0, 0.2, b_color)\n",
    ")\n",
    "plot!(fig1_Cc, [zero_a], [0.0], label = \"[cAMP] null = $(round(zero_a, digits = 2))\",\n",
    "    c = :red, markersize = 4.0, seriestype = :scatter, )\n",
    "\n",
    "#fig1_Cc = plot(c_full, b_full, xlabel = \"[Ca]\", ylabel = \"[TREK1]\")\n",
    "fig1_C = plot(fig1_Ca, fig1_Cb, fig1_Cc, layout = grid(1,3, widths = [0.6, 0.2, 0.2]), grid = false)\n",
    "title!(fig1_C[1], \"C\", titlepos = :left);"
   ]
  },
  {
   "cell_type": "code",
   "execution_count": 15,
   "metadata": {},
   "outputs": [
    {
     "ename": "UndefVarError",
     "evalue": "UndefVarError: fig1_A not defined",
     "output_type": "error",
     "traceback": [
      "UndefVarError: fig1_A not defined",
      "",
      "Stacktrace:",
      " [1] top-level scope at In[15]:1"
     ]
    }
   ],
   "source": [
    "fig1 = plot(fig1_A, fig1_B, fig1_C, layout = grid(3, 1, heights = [0.2, 0.3, 0.5]), size = (1000, 1000))"
   ]
  },
  {
   "cell_type": "code",
   "execution_count": null,
   "metadata": {},
   "outputs": [],
   "source": [
    "savefig(fig1, \"$(figure_path)/Figure1_ModelDynamics.png\")"
   ]
  },
  {
   "cell_type": "markdown",
   "metadata": {},
   "source": [
    "### Figure 2"
   ]
  },
  {
   "cell_type": "code",
   "execution_count": null,
   "metadata": {},
   "outputs": [],
   "source": [
    "import RetinalChaos.BurstModel\n",
    "using DifferentialEquations, Plots"
   ]
  },
  {
   "cell_type": "code",
   "execution_count": null,
   "metadata": {},
   "outputs": [],
   "source": [
    "p_dict = read_JSON(\"params.json\", is_type = Dict{Symbol, Float64});\n",
    "u_dict = read_JSON(\"conds.json\", is_type = Dict{Symbol, Float64});\n",
    "p_dict[:I_app] = 2.0\n",
    "p_dict[:D] = 0.01"
   ]
  },
  {
   "cell_type": "code",
   "execution_count": null,
   "metadata": {},
   "outputs": [],
   "source": [
    "println(p_dict[:ρ])\n",
    "println(p_dict[:k_d])\n",
    "println(p_dict[:τACh])"
   ]
  },
  {
   "cell_type": "code",
   "execution_count": null,
   "metadata": {},
   "outputs": [],
   "source": [
    "p0 = map(x -> Float64(p_dict[x]), BurstModel.params);\n",
    "u0 = map(x -> Float64(u_dict[x]), BurstModel.syms);\n",
    "tspan = (0.0, 60e3);\n",
    "prob = ODEProblem(BurstModel, u0, tspan, p0);\n",
    "println(\"Time it took to simulate 200ms:\")\n",
    "@time sol = solve(prob, saveat = 1.0);"
   ]
  },
  {
   "cell_type": "code",
   "execution_count": null,
   "metadata": {},
   "outputs": [],
   "source": [
    "plot(sol, vars = [:v, :ACh], layout = grid(2, 1))"
   ]
  },
  {
   "cell_type": "code",
   "execution_count": null,
   "metadata": {},
   "outputs": [],
   "source": [
    "v_rng = LinRange(-90.0, 10.0, 100);\n",
    "AChi = 0.0\n",
    "ρ = p_dict[:ρ]\n",
    "k = p_dict[:k]\n",
    "println(k)\n",
    "V0 = p_dict[:V0]\n",
    "τACh = p_dict[:τACh]\n",
    "fach(v) = (ρ * RetinalChaos.Φ(v, k, V0)) - (AChi)/τACh\n",
    "ACh_rng = map(fach, v_rng);"
   ]
  },
  {
   "cell_type": "code",
   "execution_count": null,
   "metadata": {},
   "outputs": [],
   "source": [
    "xlims = (37e3, 40e3) \n",
    "xticks = (collect(xlims[1]:500:xlims[2]), collect(0:0.5:round(Int, tspan[end]/1000)))\n",
    "\n",
    "fig2_Aa = plot(sol, \n",
    "    vars = [:v, :ACh], \n",
    "    ylabel = [\"$(vt) (mV)\" \"[ACh] (mM)\"], \n",
    "    xlabel = [\"\" \"time (s)\"], \n",
    "    c = [v_color ach_color], lw = 2.0,\n",
    "    legend = :none, \n",
    "    layout = grid(2, 1), \n",
    "    xlims = xlims, \n",
    "    xticks = xticks\n",
    ")\n",
    "frame_stops = [1.0e3, 1.5e3, 2.0e3]\n",
    "frame_stops .+= xlims[1]\n",
    "ach_stops = map(t->sol(t)[6], frame_stops)\n",
    "plot!(fig2_Aa[2], frame_stops, ach_stops, label = \"Frame stops\",\n",
    "    seriestype = :scatter, marker = :star, markersize = 10.0)\n",
    "\n",
    "fig2_Ab = plot(v_rng, ACh_rng, \n",
    "    c = ach_color, linestyle = :dot, lw = 4.0, \n",
    "    title = \"Acetylcholine Release\", titlefontsize = 12.0,\n",
    "    xlabel = \"$(vt) (mV)\",ylabel = \"$(delta)[ACh] (mM/s)\", label = \"\")\n",
    "\n",
    "fig2_A = plot(fig2_Aa, fig2_Ab, \n",
    "    layout = grid(1, 2, widths = [0.75, 0.25]), size = (700, 350))\n",
    "title!(fig2_A[1], \"A\", titlepos = :left);"
   ]
  },
  {
   "cell_type": "code",
   "execution_count": null,
   "metadata": {},
   "outputs": [],
   "source": [
    "import RetinalChaos.BurstPDE, RetinalChaos.diffuse"
   ]
  },
  {
   "cell_type": "code",
   "execution_count": null,
   "metadata": {},
   "outputs": [],
   "source": [
    "nx, ny = (50, 50)\n",
    "c1x, c1y = (round(Int, nx/2), round(Int, ny/4))\n",
    "c2x, c2y = (round(Int, nx/2), round(Int, ny/4*3))\n",
    "D = p_dict[:D]\n",
    "lattice = zeros(nx, ny)\n",
    "lattice[c1x, c1y] = 0.6\n",
    "bp_model = BurstPDE(nx, ny)"
   ]
  },
  {
   "cell_type": "code",
   "execution_count": null,
   "metadata": {},
   "outputs": [],
   "source": [
    "time_range = collect(0:(xlims[end]-xlims[1]))\n",
    "println(length(time_range))\n",
    "lattice_c = zeros(nx, ny, length(time_range))\n",
    "for (idx, t) in enumerate(time_range)\n",
    "    #Each step, the cell releases 0.005 ACh\n",
    "    if idx == 1\n",
    "        lattice_c[c1x, c1y, idx] = sol(t+xlims[1])[6]\n",
    "    else\n",
    "        lattice_c[:, :, idx] = diffuse(lattice_c[:,:,idx-1], D, bp_model)\n",
    "        lattice_c[c1x, c1y, idx] = sol(t+xlims[1])[6]\n",
    "    end\n",
    "end"
   ]
  },
  {
   "cell_type": "code",
   "execution_count": null,
   "metadata": {},
   "outputs": [],
   "source": [
    "fig2_B = plot(xlims = (0, nx), ylims = (0, ny), layout = grid(1, length(frame_stops)), size = (1000, 250), \n",
    "    margin = 1mm\n",
    ")\n",
    "upper_lim = 0.08\n",
    "for (idx, frame) in enumerate(frame_stops)\n",
    "    frame_idx = Int(frame-xlims[1])\n",
    "    #p = plot(xlims = (0.1, nx), ylims = (0.1, ny), \n",
    "    #    xaxis = false, yaxis = false)\n",
    "    if idx == length(frame_stops)\n",
    "        heatmap!(fig2_B[idx], lattice_c[:,:,frame_idx], c = :thermal, clims = (0.0, upper_lim), \n",
    "            aspect_ratio = :equal, grid = false,\n",
    "            xaxis = false, yaxis = false\n",
    "        )\n",
    "        scatter!(fig2_B[idx], [c1y], [c1x], marker = :hexagon, m = (125.0, :transparent, stroke(3.0, :cyan)), label = \"\")\n",
    "        scatter!(fig2_B[idx], [c1y], [c1x], marker = :circle, c = :cyan, markersize = 10.0, label = \"\")\n",
    "        scatter!(fig2_B[idx], [c2y], [c2x], marker = :hexagon, m = (125.0, :transparent, stroke(3.0, :red)), label = \"\")\n",
    "        scatter!(fig2_B[idx], [c2y], [c2x], marker = :circle, c = :red, markersize = 10.0, label = \"\")\n",
    "        annotate!(fig2_B[idx], [40], [3], \"t = $(time_range[frame_idx+1]/1000)s\", :white)\n",
    "    else\n",
    "        heatmap!(fig2_B[idx], lattice_c[:,:,frame_idx], c = :thermal, clims = (0.0, upper_lim), \n",
    "            aspect_ratio = :equal, grid = false, colorbar = false, \n",
    "            xaxis = false, yaxis = false\n",
    "        )\n",
    "        scatter!(fig2_B[idx], [c1y], [c1x], marker = :hexagon, m = (125.0, :transparent, stroke(3.0, :cyan)), label = \"\")\n",
    "        scatter!(fig2_B[idx], [c1y], [c1x], marker = :circle, c = :cyan, markersize = 10.0, label = \"\")\n",
    "        scatter!(fig2_B[idx], [c2y], [c2x], marker = :hexagon, m = (125.0, :transparent, stroke(3.0, :red)), label = \"\")\n",
    "        scatter!(fig2_B[idx], [c2y], [c2x], marker = :circle, c = :red, markersize = 10.0, label = \"\")\n",
    "        annotate!(fig2_B[idx], [40], [3], \"t=$(time_range[frame_idx+1]/1000)s\", :white)\n",
    "    end\n",
    "end\n",
    "fig2_B;"
   ]
  },
  {
   "cell_type": "code",
   "execution_count": null,
   "metadata": {},
   "outputs": [],
   "source": [
    "import RetinalChaos.ħ\n",
    "ach_rng = LinRange(0.0, 0.5, 100)\n",
    "k_d = p_dict[:k_d]\n",
    "println(k_d)\n",
    "g_ACh = p_dict[:g_ACh]\n",
    "println(g_ACh)\n",
    "E_ACh = p_dict[:E_ACh]\n",
    "println(E_ACh)\n",
    "i_rng = map(a -> -g_ACh*ħ(a, k_d)*(-70.0-E_ACh), ach_rng);\n",
    "\n",
    "ach_external = lattice_c[c1x, c1y+1, :];\n",
    "i_synaptic = map(a -> -g_ACh*ħ(a, k_d)*(-70.0-E_ACh), ach_external);"
   ]
  },
  {
   "cell_type": "code",
   "execution_count": null,
   "metadata": {},
   "outputs": [],
   "source": [
    "fig2_Ca = plot(layout = (2,1))\n",
    "plot!(fig2_Ca[1], sol, vars = [:ACh], c = :blue, label = \"Cell 1 release\",\n",
    "    xlims = xlims, \n",
    "    xticks = xticks, \n",
    "    ylabel = \"[ACh] (mM)\",\n",
    "    xlabel = \"\"\n",
    ")\n",
    "plot!(fig2_Ca[1], time_range.+xlims[1], ach_external, label = \"Cell 2 Extracellular\", \n",
    "    c = :red, lw = 3.0, legend = :topleft)\n",
    "\n",
    "ach_rel = map(t->sol(t)[6], frame_stops)\n",
    "ach_ext = map(t->lattice_c[c1x, c1y+1, Int(t-xlims[1])], frame_stops)\n",
    "plot!(fig2_Ca[1], frame_stops, ach_rel, label = \"\",\n",
    "    seriestype = :scatter, marker = :star, markersize = 10.0)\n",
    "plot!(fig2_Ca[1], frame_stops, ach_ext, label = \"\",\n",
    "    seriestype = :scatter, marker = :star, markersize = 10.0)\n",
    "\n",
    "plot!(fig2_Ca[2], time_range./1000.0, i_synaptic, label = \"\", \n",
    "    c = :purple, lw = 2.0,\n",
    "    ylabel = \"$(i_ach) (pA)\", xlabel = \"time (s)\"\n",
    ")\n",
    "\n",
    "\n",
    "fig2_Cb = plot(ach_rng, i_rng, label = \"\",\n",
    "    xlabel = \"Extracellular [ACh] (mM)\", ylabel = \"$(i_ach) (pA)\", \n",
    "    title = \"Induced $(i_ach)\", titlefontsize = 12.0, \n",
    "    c = :green, lw = 3.0\n",
    ")\n",
    "fig2_C = plot(fig2_Ca, fig2_Cb, layout = grid(1,2, widths = [0.75, 0.25]))\n",
    "title!(fig2_C[1], \"C\", titlepos = \"left\");"
   ]
  },
  {
   "cell_type": "code",
   "execution_count": null,
   "metadata": {},
   "outputs": [],
   "source": [
    "fig2 = plot(fig2_A, fig2_B, fig2_C, layout = grid(3, 1), size = (800, 750), grid = false)"
   ]
  },
  {
   "cell_type": "code",
   "execution_count": null,
   "metadata": {},
   "outputs": [],
   "source": [
    "savefig(fig2, \"$(figure_path)/Figure2_Acetylcholine_Rel_Diff_Activate.png\")"
   ]
  },
  {
   "cell_type": "markdown",
   "metadata": {},
   "source": [
    "### Supplemental Gif 1"
   ]
  },
  {
   "cell_type": "code",
   "execution_count": null,
   "metadata": {},
   "outputs": [],
   "source": [
    "anim = @animate for i = 1:100:size(lattice_c, 3)\n",
    "    p = plot(xlims = (0.1, nx), ylims = (0.1, ny), \n",
    "        xaxis = false, yaxis = false)\n",
    "    heatmap!(p, lattice_c[:,:,i], c = :thermal, clims = (0.0, upper_lim), aspect_ratio = :equal, grid = false)\n",
    "    scatter!(p, [c1y], [c1x], marker = :hexagon, m = (250.0, :transparent, stroke(3.0, :cyan)), label = \"\")\n",
    "    scatter!(p, [c1y], [c1x], marker = :circle, c = :cyan, markersize = 10.0, label = \"\")\n",
    "    scatter!(p, [c2y], [c2x], marker = :hexagon, m = (250.0, :transparent, stroke(3.0, :red)), label = \"\")\n",
    "    scatter!(p, [c2y], [c2x], marker = :circle, c = :red, markersize = 10.0, label = \"\")\n",
    "    annotate!(p, [c2x], [nx-3], \"$(time_range[i]/1000)s\", :white)\n",
    "end\n",
    "gif(anim, \"Supplemental_Video1.gif\", fps = 60)"
   ]
  },
  {
   "cell_type": "markdown",
   "metadata": {},
   "source": [
    "### Figure 3"
   ]
  },
  {
   "cell_type": "code",
   "execution_count": null,
   "metadata": {},
   "outputs": [],
   "source": []
  }
 ],
 "metadata": {
  "kernelspec": {
   "display_name": "Julia 1.4.2",
   "language": "julia",
   "name": "julia-1.4"
  },
  "language_info": {
   "file_extension": ".jl",
   "mimetype": "application/julia",
   "name": "julia",
   "version": "1.4.2"
  }
 },
 "nbformat": 4,
 "nbformat_minor": 4
}
