{
 "cells": [
  {
   "cell_type": "code",
   "execution_count": null,
   "metadata": {},
   "outputs": [],
   "source": [
    "using Statistics"
   ]
  },
  {
   "cell_type": "code",
   "execution_count": null,
   "metadata": {},
   "outputs": [],
   "source": [
    "#Used for loading Phys data\n",
    "using PyCall\n",
    "pyABF = pyimport(\"pyabf\")"
   ]
  },
  {
   "cell_type": "code",
   "execution_count": null,
   "metadata": {},
   "outputs": [],
   "source": [
    "#using DifferentialEquations\n",
    "using Plots, Colors, LaTeXStrings, StatsPlots\n",
    "using Plots.Measures\n",
    "font_title = Plots.font(\"Arial\", 24)\n",
    "font_axis = Plots.font(\"Arial\", 12)\n",
    "font_legend = Plots.font(\"Arial\", 8)\n",
    "pyplot(titlefont=font_title, guidefont = font_axis, legendfont = font_legend)\n",
    "\n",
    "#Define different symbols used in the plotting\n",
    "delta = latexstring(\"\\$\\\\delta\\$\")\n",
    "micro = latexstring(\"\\$\\\\mu\\$\")\n",
    "vt = latexstring(\"\\$V_t\\$\")\n",
    "nt = latexstring(\"\\$N_t\\$\")\n",
    "bt = latexstring(\"\\$B_t\\$\")\n",
    "wt = latexstring(\"\\$W_t\\$\")\n",
    "i_ach = latexstring(\"\\$I_{ACh}\\$\")\n",
    "\n",
    "v_color = :deepskyblue\n",
    "n_color = :magenta\n",
    "c_color = :green\n",
    "a_color = :purple\n",
    "b_color = :red\n",
    "e_color = :blue\n",
    "w_color = :gray\n",
    "phys_color = :black\n",
    "\n",
    "figure_path = \"C:/users/mtarc/JuliaScripts/RetinalChaos/Notebooks/Figures\""
   ]
  },
  {
   "cell_type": "code",
   "execution_count": null,
   "metadata": {},
   "outputs": [],
   "source": [
    "#Logging for 2D simulations\n",
    "using Logging, TerminalLoggers\n",
    "global_logger(TerminalLogger());"
   ]
  },
  {
   "cell_type": "code",
   "execution_count": null,
   "metadata": {},
   "outputs": [],
   "source": [
    "#Import all the functions for extracting parameters\n",
    "import RetinalChaos: read_JSON, extract_dict \n",
    "import RetinalChaos: tar_conds, tar_pars\n",
    "import RetinalChaos: calculate_threshold, count_intervals, timescale_analysis\n",
    "import RetinalChaos: SOSRI, SDEProblem, solve\n",
    "import RetinalChaos: T_sde, noise_2D\n",
    "import RetinalChaos: parse_abf, extract_abf\n",
    "import RetinalChaos: Network"
   ]
  },
  {
   "cell_type": "markdown",
   "metadata": {},
   "source": [
    "## Table of contents:\n",
    "\n",
    "### [0] Introduction to RetinalChaos.jl\n",
    "\n",
    "### [1] Methods\n",
    "#### [1.1] Voltage and Potassium gating components of the model\n",
    "#### [1.2] Calcium and the Biochemical Reactions of the sAHP\n",
    "#### [1.3] Acetylcholine Diffusion and Dynamics\n",
    "#### [1.4] Gaussian White noise and dynamics\n",
    "\n",
    "### _**[2] Analyzing Data Output of the model**_\n",
    "#### [2.1] Time Scale Analysis\n",
    "#### [2.2] **Fitting Experimental Data (Patch)**\n",
    "#### [2.3] Fitting Experimental Data (Multi-electrode array)\n",
    "#### [2.4] Fitting Experimental Data (Calcium Imageing) \n",
    "\n",
    "### [3] Experiments\n",
    "#### [3.1] Dual Eye Correlations\n",
    "#### [3.2] Recapitulations of older papers\n",
    "#### [3.x] Dynamical Analysis"
   ]
  },
  {
   "cell_type": "markdown",
   "metadata": {},
   "source": [
    "### Optimizing current Models\n",
    "\n",
    "- We have so far established a acceptable model to characterize the neuronal firing of starburst amacrine cells, and established a method to quantify the timescales within the cells firing. \n",
    "- Our goal is to measure how closely our model and quantification is related to actual data including \n",
    "\n",
    "##### We can use data collected from whole cell patch clamp to quantify how closely our data matches "
   ]
  },
  {
   "cell_type": "markdown",
   "metadata": {},
   "source": [
    "### [2.2.a] Loading Physiological Data from .abf files\n",
    "- All physiological traces were obtained in ClampEx\n",
    "- The first thing we have to do is to load the .abf file."
   ]
  },
  {
   "cell_type": "code",
   "execution_count": null,
   "metadata": {},
   "outputs": [],
   "source": [
    "target_folder = \"D:\\\\2019_Renna Lab\\\\Data\\\\Patching\\\\\"\n",
    "target_file = \"D:\\\\Data\\\\Patching\\\\2019_11_03_Patch\\\\Animal_2\\\\Cell_3\\\\19n03042.abf\"\n",
    "#Load experimental data\n",
    "exp_data = pyABF.ABF(target_file)\n",
    "println(\"File successfully loaded\")\n",
    "#Extract the time trace, and the \n",
    "t = exp_data.sweepX\n",
    "dt_exp = t[2]\n",
    "aq = 1/dt_exp\n",
    "println(\"Data from time stamp $(t[1]) s to $(t[end]+dt_exp) s with dt = $dt_exp s\")\n",
    "println(\"Data was acquired at $aq Hz\")\n",
    "println(\"$(length(t)) data points\")"
   ]
  },
  {
   "cell_type": "markdown",
   "metadata": {},
   "source": [
    "##### Analyzing the data before loading into Julia. \n",
    "- It may be helpful to look over data before loading it into the Julia interface. \n",
    "- with 300s at 20kHz you will have 6 million data points. This can cause some overhead memory issues. \n",
    "- In this specific recording, we only care about 100s (from 130-230s). "
   ]
  },
  {
   "cell_type": "code",
   "execution_count": null,
   "metadata": {},
   "outputs": [],
   "source": [
    "#In order to account for Junction potentials we can add an offset\n",
    "v_offset = -25.0\n",
    "#Extract the 1st sweep 1st channel from the .abf file\n",
    "exp_data.setSweep(sweepNumber = 0, channel = 0);\n",
    "#Vm is the raw data\n",
    "vm = Float64.(exp_data.sweepY);\n",
    "#We reduce the data to 100k data points between 120-_230s for memory saving and graphing. \n",
    "reduced = round.(Int, LinRange(Int(130/dt_exp), Int(230/dt_exp), Int(100e3)));\n",
    "#For some graphing purposes, we reset the timestamps (keeping t as the original)\n",
    "t_offset = (t[reduced] .- t[reduced][1]).*1000;\n",
    "#The new interval should be 1ms or 1kHz\n",
    "dt_sim = round(t_offset[2]-t_offset[1], digits = 2)\n",
    "println(\"Reduced data acquisition $dt_sim\")"
   ]
  },
  {
   "cell_type": "code",
   "execution_count": null,
   "metadata": {},
   "outputs": [],
   "source": [
    "#We have two traces:\n",
    "#2) Normal for data analysis, but slow graphing with the orginal interval\n",
    "Vm_trace = vm[Int(130/dt_exp):Int(230/dt_exp)].+v_offset;\n",
    "#1) Reduced for quicker graphing with an interval of 1ms\n",
    "Vm_trace_RED = vm[reduced].+v_offset;"
   ]
  },
  {
   "cell_type": "code",
   "execution_count": null,
   "metadata": {},
   "outputs": [],
   "source": [
    "plot(t_offset/1000, Vm_trace_RED, \n",
    "    xlabel = \"Time (s)\", ylabel = \"Voltage (mV)\", c = :black)"
   ]
  },
  {
   "cell_type": "markdown",
   "metadata": {},
   "source": [
    "### [2.2.b] Timescale analysis\n",
    "- As described in the previous notebook, we can extend the quantification methods used to analyze the simulation. "
   ]
  },
  {
   "cell_type": "code",
   "execution_count": null,
   "metadata": {},
   "outputs": [],
   "source": [
    "threshold = calculate_threshold(Vm_trace);\n",
    "println(\"The spiking threshold = $(round(threshold, digits = 2)) mV\")\n",
    "spike_phys = (Vm_trace .> threshold);\n",
    "intervals = count_intervals(spike_phys)*dt_exp*1000;\n",
    "println(\"$(length(intervals)+1) spiking events have been detected\")"
   ]
  },
  {
   "cell_type": "code",
   "execution_count": null,
   "metadata": {},
   "outputs": [],
   "source": [
    "maximum(intervals)"
   ]
  },
  {
   "cell_type": "code",
   "execution_count": null,
   "metadata": {},
   "outputs": [],
   "source": [
    "xstops = [1, 5, 10, 50, 100, 500, 1000, 5000, 10000, 50000];\n",
    "xticks = (log.(xstops), xstops);   \n",
    "histogram(log.(intervals), yaxis = :log, xticks = xticks, ylabel = \"Log Magnitude\", xlabel = \"Interspike Interval (ms)\")"
   ]
  },
  {
   "cell_type": "code",
   "execution_count": null,
   "metadata": {},
   "outputs": [],
   "source": [
    "#Conducting the analysis in a single function you can use the imported function timescale_analysis\n",
    "ts_analysis = timescale_analysis(Vm_trace, dt = dt_exp*1000, mode = 2);"
   ]
  },
  {
   "cell_type": "code",
   "execution_count": null,
   "metadata": {},
   "outputs": [],
   "source": [
    "ts_analysis"
   ]
  },
  {
   "cell_type": "markdown",
   "metadata": {},
   "source": [
    "### [2.2.c] Visual comparison with simulations. \n",
    "- Using the process defined in the previous notebook, we can compare our physiologically obtained data to data that was simulated"
   ]
  },
  {
   "cell_type": "code",
   "execution_count": null,
   "metadata": {},
   "outputs": [],
   "source": [
    "p = read_JSON(\"params.json\") |> extract_dict;\n",
    "u0 = read_JSON(\"conds.json\") |> extract_dict;\n",
    "dt = 1.0\n",
    "tspan = (0.0, 300e3);\n",
    "SDEprob = SDEProblem(T_sde, u0, tspan, p)\n",
    "println(\"Time it took to simulate 200ms:\")\n",
    "@time SDEsol = solve(SDEprob, SOSRI(), abstol = 2e-2, reltol = 2e-2, maxiters = 1e7, saveat = dt); \n",
    "trace = Array(SDEsol)';"
   ]
  },
  {
   "cell_type": "code",
   "execution_count": null,
   "metadata": {},
   "outputs": [],
   "source": [
    "##Here we can plot the traces against each other, they will not always align well.  \n",
    "xlims = (0, t_offset[end]); ylims = (-90.0, 0.0)\n",
    "ellapsed_time = (xlims[end]-xlims[1])/1000\n",
    "dt_lims = 20e3\n",
    "xticks = (collect(xlims[1]:dt_lims:xlims[2]), collect(0:(dt_lims/1000):ellapsed_time)); yticks = (collect(ylims[1]:5:ylims[2]))\n",
    "\n",
    "p = plot(xlabel = \"time (s)\", ylabel = \"membrane voltage (mV)\")\n",
    "plot!(p, SDEsol, vars = [:v], label = \"Model data\", \n",
    "    lw = 2.0, c = v_color)\n",
    "plot!(p, t_offset, Vm_trace_RED, label = \"Experimental Data\", \n",
    "    lw = 2.0, c = phys_color,\n",
    "    xlims = xlims, xticks = xticks, \n",
    "    ylims = ylims, yticks = yticks\n",
    ")"
   ]
  },
  {
   "cell_type": "code",
   "execution_count": null,
   "metadata": {},
   "outputs": [],
   "source": [
    "#Conducting the analysis in a single function you can use the imported function timescale_analysis\n",
    "println(\"Timescale analysis for simulation\")\n",
    "sim_spikes, sim_bursts, sim_IBIs = timescale_analysis(trace[:,1]; dt = dt, mode = 2);\n",
    "sim_thresh = calculate_threshold(trace[:,1])\n",
    "println(\"The spiking threshold = $(round(sim_thresh, digits = 2)) mV\")\n",
    "sim_spike = (trace[:,1] .> sim_thresh);\n",
    "sim_intervals = count_intervals(sim_spike) .*dt;\n",
    "println(\"$((sim_intervals|>length)+1) spiking events have been detected\")"
   ]
  },
  {
   "cell_type": "code",
   "execution_count": null,
   "metadata": {},
   "outputs": [],
   "source": [
    "println(\"Timescale analysis for physiological trace\")\n",
    "exp_spikes, exp_bursts, exp_IBIs = timescale_analysis(Vm_trace, dt = dt_exp*1000, mode = 2);\n",
    "exp_thresh = calculate_threshold(Vm_trace)\n",
    "println(\"The spiking threshold = $(round(exp_thresh, digits = 2)) mV\")\n",
    "exp_spike = (Vm_trace .> exp_thresh);\n",
    "exp_intervals = count_intervals(exp_spike) .*dt_exp*1000;\n",
    "println(\"$((exp_intervals|>length)+1) spiking events have been detected\")"
   ]
  },
  {
   "cell_type": "code",
   "execution_count": null,
   "metadata": {},
   "outputs": [],
   "source": [
    "xstops = [0.01, 0.1, 1, 10, 100, 1000, 10000, 50000];\n",
    "xticks = (log.(xstops), xstops);  \n",
    "histogram(log.(exp_intervals), yaxis = :log, label = \"Experimental Data\", c = :gray)\n",
    "histogram!(log.(sim_intervals),yaxis = :log, label = \"Simulation Data\", c = v_color, xticks = xticks, ylabel = \"Log Magnitude\", xlabel = \"Interspike Interval (ms)\")"
   ]
  },
  {
   "cell_type": "markdown",
   "metadata": {},
   "source": [
    "### [2.2.d] We can analyze many files in a automated fashion. \n",
    "- We need to be able to parse through a file heirarchy and grab not only the patch traces, but regions where the patch traces are decent. \n",
    "- Jordan has indicated which recordings are decent. This could help eliminate several traces which are not going to be good. "
   ]
  },
  {
   "cell_type": "code",
   "execution_count": null,
   "metadata": {},
   "outputs": [],
   "source": [
    "target_folder = \"D:\\\\Data\\\\Jordans_Patch_Data\\\\Starburst Recordings\\\\\"\n",
    "target_file = \"D:\\\\Data\\\\Patching\\\\2019_11_03_Patch\\\\Animal_2\\\\Cell_3\\\\19n03042.abf\"\n",
    "@time paths = target_folder |> parse_abf;"
   ]
  },
  {
   "cell_type": "code",
   "execution_count": null,
   "metadata": {},
   "outputs": [],
   "source": [
    "function extract_abf(abf_path; verbose = false, v_offset = -25.0)\n",
    "    if length(abf_path |> splitpath) > 1\n",
    "        full_path = abf_path\n",
    "    else\n",
    "        full_path = joinpath(pwd(), abf_path)   \n",
    "    end\n",
    "    #extract the abf file by using pyABF\n",
    "    exp_data = pyABF.ABF(full_path)\n",
    "    #if the data is segmented into sweeps (which Jordans data is) concatenate all sweeps\n",
    "    if length(exp_data.sweepList) > 1\n",
    "        data = Float64[]\n",
    "        time = Float64[]\n",
    "        previous_time = 0.0\n",
    "        for sweepNumber in exp_data.sweepList\n",
    "            exp_data.setSweep(sweepNumber = sweepNumber, channel = 0);\n",
    "            push!(data, exp_data.sweepY...);\n",
    "            push!(time, (exp_data.sweepX.+previous_time)...);\n",
    "            previous_time = time[end]\n",
    "        end\n",
    "        dt = time[2]*1000\n",
    "    else\n",
    "        exp_data.setSweep(sweepNumber = 0, channel = 0);\n",
    "        data = Float64.(exp_data.sweepY);\n",
    "        time = Float64.(exp_data.sweepX);\n",
    "        dt = time[2]*1000\n",
    "        \n",
    "    end\n",
    "    if verbose\n",
    "        println(\"Data extracted from $full_path\")\n",
    "        println(\"Data from time stamp $(t[1]) s to $(t[end]+dt) s with dt = $dt ms\")\n",
    "        println(\"Data was acquired at $(1/dt/1000) Hz\")\n",
    "        println(\"$(length(t)) data points\")\n",
    "    end\n",
    "    data, time, dt\n",
    "end"
   ]
  },
  {
   "cell_type": "code",
   "execution_count": null,
   "metadata": {},
   "outputs": [],
   "source": [
    "spike_durs = Float64[]\n",
    "burst_durs = Float64[]\n",
    "IBIs = Float64[]\n",
    "@time for (i, path) in enumerate(paths)\n",
    "    #println(i)\n",
    "    vm_trace, time, dt_exp = extract_abf(path; verbose = false);\n",
    "    ts_analysis = timescale_analysis(vm_trace, dt = dt_exp);\n",
    "    push!(spike_durs, ts_analysis[1])\n",
    "    push!(burst_durs, ts_analysis[3])\n",
    "    push!(IBIs, ts_analysis[5])\n",
    "end"
   ]
  },
  {
   "cell_type": "code",
   "execution_count": null,
   "metadata": {},
   "outputs": [],
   "source": [
    "#Remove any NaN values\n",
    "spike_durs = spike_durs[spike_durs .|> !isnan];\n",
    "burst_durs = burst_durs[burst_durs .|> !isnan];\n",
    "IBIs = IBIs[IBIs .|> !isnan];"
   ]
  },
  {
   "cell_type": "markdown",
   "metadata": {},
   "source": [
    "This is the output from running the entire analysis on the patch files. "
   ]
  },
  {
   "cell_type": "code",
   "execution_count": null,
   "metadata": {},
   "outputs": [],
   "source": [
    "mean_spike_dur = sum(spike_durs)/length(spike_durs)\n",
    "std_spike_dur = std(spike_durs)\n",
    "mean_burst_dur = sum(burst_durs)/length(burst_durs)\n",
    "std_burst_dur = std(burst_durs)\n",
    "mean_IBI = sum(IBIs./1000)/length(IBIs./1000)\n",
    "std_IBI = std(IBIs./1000)"
   ]
  },
  {
   "cell_type": "code",
   "execution_count": null,
   "metadata": {},
   "outputs": [],
   "source": [
    "fig4_a1 = violin(spike_durs, label = \"\", c = :gray,\n",
    "    xaxis = nothing, ylabel = \"Spike Duration (ms)\"\n",
    ")\n",
    "dotplot!(fig4_a1, repeat([1.0], length(spike_durs)), spike_durs, label = \"\", c = :black, markersize = 3.0)\n",
    "hline!(fig4_a1, [mean_spike_dur], \n",
    "    c = :black, lw = 3.0, \n",
    "    label = \"$(round(mean_spike_dur, digits = 2)) ms +-  $(round(std_spike_dur, digits = 2)) ms\"\n",
    ")\n",
    "\n",
    "fig4_a2 = violin(burst_durs, label = \"\", c = :gray, \n",
    "    xaxis = nothing, ylabel = \"Burst Duration (ms)\"\n",
    ")\n",
    "dotplot!(fig4_a2, repeat([1.0], length(burst_durs)), burst_durs, label = \"\", c = :black, markersize = 3.0)\n",
    "hline!(fig4_a2, [mean_burst_dur], \n",
    "        c = :black, lw = 3.0,\n",
    "    label = \"$(round(mean_burst_dur, digits = 2)) ms +-  $(round(std_burst_dur, digits = 2)) ms\"\n",
    ")\n",
    "\n",
    "fig4_a3 = violin(IBIs./1000, label = \"\", c = :gray, \n",
    "    xaxis = nothing, ylabel = \"Interburst Interval (ms)\"\n",
    ")\n",
    "dotplot!(fig4_a3, repeat([1.0], length(IBIs)), IBIs./1000, label = \"\", c = :black, markersize = 3.0)\n",
    "hline!(fig4_a3, [mean_IBI], \n",
    "    c = :black, lw = 3.0,\n",
    "    label = \"$(round(mean_IBI, digits = 2)) s +- $(round(std_IBI, digits = 2)) s\"\n",
    ")\n",
    "\n",
    "fig4_A = plot(fig4_a1, fig4_a2, fig4_a3, layout = grid(1,3))"
   ]
  },
  {
   "cell_type": "markdown",
   "metadata": {},
   "source": [
    "### [2.2.e] In order to make a good comparison with our data, we can run repeated trials.\n",
    "- We can use the saved simulations from the previous notebook. "
   ]
  },
  {
   "cell_type": "code",
   "execution_count": null,
   "metadata": {},
   "outputs": [],
   "source": [
    "#Set up the network\n",
    "nx, ny = 96,96\n",
    "SACnet = Network(nx, ny; μ = 0.65, version = :gACh)\n",
    "p_dict = read_JSON(\"params.json\");\n",
    "u_dict = read_JSON(\"conds.json\");\n",
    "u0 = extract_dict(u_dict, tar_conds, (nx, ny));\n",
    "p0 = extract_dict(p_dict, tar_pars);"
   ]
  },
  {
   "cell_type": "code",
   "execution_count": null,
   "metadata": {},
   "outputs": [],
   "source": [
    "println(\"Warming up solution\")\n",
    "prob = SDEProblem(SACnet, noise_2D, u0, (0.0, 60e3), p0);\n",
    "@time sol = solve(\n",
    "    prob,\n",
    "    SOSRI(),\n",
    "    abstol = 0.2,\n",
    "    reltol = 2e-2,\n",
    "    maxiters = 1e7,\n",
    "    progress = true, \n",
    "    save_everystep = false\n",
    ");"
   ]
  },
  {
   "cell_type": "code",
   "execution_count": null,
   "metadata": {},
   "outputs": [],
   "source": [
    "prob = SDEProblem(prob.f, prob.g, sol[end], (0.0, 60e3), prob.p);\n",
    "sol = solve(\n",
    "        prob,\n",
    "        SOSRI(),\n",
    "        abstol = 0.2,\n",
    "        reltol = 2e-2,\n",
    "        maxiters = 1e7,\n",
    "        progress = true, \n",
    "        saveat = 1.0,\n",
    "    );"
   ]
  },
  {
   "cell_type": "code",
   "execution_count": null,
   "metadata": {},
   "outputs": [],
   "source": [
    "using HDF5"
   ]
  },
  {
   "cell_type": "code",
   "execution_count": null,
   "metadata": {},
   "outputs": [],
   "source": [
    "vt_sol = copy(sol[:,:,1,:]);\n",
    "#nt_sol = Array(sol[:,:,2,:]);\n",
    "#ct_sol = Array(sol[:,:,3,:]);\n",
    "#at_sol = Array(sol[:,:,4,:]);\n",
    "#bt_sol = Array(sol[:,:,5,:]);\n",
    "#et_sol = Array(sol[:,:,6,:]);"
   ]
  },
  {
   "cell_type": "code",
   "execution_count": null,
   "metadata": {},
   "outputs": [],
   "source": [
    "arr = zeros(nx, ny, length(sol.t));"
   ]
  },
  {
   "cell_type": "code",
   "execution_count": null,
   "metadata": {},
   "outputs": [],
   "source": [
    "h5open(\"test.h5\", \"w\") do file\n",
    "    \n",
    "    for i = 1:length(sol.t)\n",
    "        println(i)\n",
    "        arr[:,:,i] = sol[:,:,1,i]\n",
    "    end\n",
    "    write(file, \"Vt\", arr)  # alternatively, say \"@write file A\"\n",
    "end"
   ]
  },
  {
   "cell_type": "code",
   "execution_count": null,
   "metadata": {},
   "outputs": [],
   "source": [
    "sim_spike_durs = Float64[]\n",
    "sim_burst_durs = Float64[]\n",
    "sim_IBIs = Float64[]\n",
    "for (idx, traj) in enumerate(sim)\n",
    "    val = p_range[idx]\n",
    "    #println(\"$idx -> $val\")\n",
    "    trace = Array(traj)'\n",
    "    mean_spike_dur, std_spike_dur, mean_burst_dur, std_burst_dur, mean_ibi, std_ibi = timescale_analysis(trace[:,1]; dt = dt)\n",
    "    push!(sim_spike_durs, mean_spike_dur)\n",
    "    push!(sim_burst_durs, mean_burst_dur)\n",
    "    push!(sim_IBIs, mean_ibi./1000)\n",
    "end"
   ]
  },
  {
   "cell_type": "code",
   "execution_count": null,
   "metadata": {},
   "outputs": [],
   "source": [
    "sim_mean_spike_dur = sum(sim_spike_durs)/length(sim_spike_durs)\n",
    "sim_std_spike_dur = std(sim_spike_durs)\n",
    "sim_mean_burst_dur = sum(sim_burst_durs)/length(sim_burst_durs)\n",
    "sim_std_burst_dur = std(sim_burst_durs)\n",
    "sim_mean_IBI = sum(sim_IBIs)/length(sim_IBIs)\n",
    "sim_std_IBI = std(sim_IBIs)"
   ]
  },
  {
   "cell_type": "code",
   "execution_count": null,
   "metadata": {
    "jupyter": {
     "source_hidden": true
    }
   },
   "outputs": [],
   "source": [
    "fig4_b1 = violin(spike_durs, label = \"\", c = :gray, ylabel = \"Spike Duration (ms)\", xticks = ((1.0, 2.0), (\"Experiment\", \"Simulation\")))\n",
    "dotplot!(fig4_b1, repeat([1.0], length(spike_durs)), spike_durs, label = \"\", c = :black, markersize = 2.0)\n",
    "plot!(fig4_b1, [0.5, 1.5], [mean_spike_dur,  mean_spike_dur], \n",
    "    c = :black, lw = 3.0, linestyle = :dash,\n",
    "    label = \"\"#\"$(round(mean_spike_dur, digits = 2)) ms +-  $(round(std_spike_dur, digits = 2)) ms\"\n",
    ")\n",
    "\n",
    "violin!(fig4_b1, repeat([2.0], length(sim_spike_durs)), sim_spike_durs, c = v_color, label = \"\")\n",
    "dotplot!(fig4_b1, repeat([2.0], length(sim_spike_durs)), sim_spike_durs, label = \"\", c = :black, markersize = 5.0)\n",
    "plot!(fig4_b1, [1.5, 2.5], [sim_mean_spike_dur,  sim_mean_spike_dur], \n",
    "    c = :black, lw = 3.0,\n",
    "    label = \"\"#\"$(round(sim_mean_spike_dur, digits = 2)) ms +-  $(round(sim_std_spike_dur, digits = 2)) ms\"\n",
    ")\n",
    "\n",
    "fig4_b2 = violin(burst_durs, label = \"\", c = :gray, ylabel = \"Burst Duration (ms)\", xticks = ((1.0, 2.0), (\"Experiment\", \"Simulation\")))\n",
    "dotplot!(fig4_b2, repeat([1.0], length(burst_durs)), burst_durs, label = \"\", c = :black, markersize = 3.0)\n",
    "plot!(fig4_b2, [0.5, 1.5], [mean_burst_dur,  mean_burst_dur], \n",
    "    c = :black, lw = 3.0, linestyle = :dash,\n",
    "    label = \"\"#\"$(round(mean_spike_dur, digits = 2)) ms +-  $(round(std_spike_dur, digits = 2)) ms\"\n",
    ")\n",
    "\n",
    "\n",
    "violin!(fig4_b2, repeat([2.0], length(sim_burst_durs)), sim_burst_durs, c = v_color, label = \"\")\n",
    "dotplot!(fig4_b2, repeat([2.0], length(sim_burst_durs)), sim_burst_durs, label = \"\", c = :black, markersize = 5.0)\n",
    "plot!(fig4_b2, [1.5, 2.5], [sim_mean_burst_dur,  sim_mean_burst_dur], \n",
    "    c = :black, lw = 3.0,\n",
    "    label = \"\"#\"$(round(sim_mean_burst_dur, digits = 2)) ms +-  $(round(sim_std_burst_dur, digits = 2)) ms\"\n",
    ")\n",
    "\n",
    "fig4_b3 = violin(IBIs./1000, label = \"\", c = :gray, ylabel = \"Interburst Interval(s)\", xticks = ((1.0, 2.0), (\"Experiment\", \"Simulation\")))\n",
    "dotplot!(fig4_b3, repeat([1.0], length(IBIs./1000)), IBIs./1000, label = \"\", c = :black, markersize = 3.0)\n",
    "plot!(fig4_b3, [0.5, 1.5], [mean_IBI,  mean_IBI], \n",
    "    c = :black, lw = 3.0, linestyle = :dash,\n",
    "    label = \"\"#\"$(round(mean_spike_dur, digits = 2)) ms +-  $(round(std_spike_dur, digits = 2)) ms\"\n",
    ")\n",
    "\n",
    "\n",
    "violin!(fig4_b3, repeat([2.0], length(sim_IBIs)), sim_IBIs, c = v_color, label = \"\")\n",
    "dotplot!(fig4_b3, repeat([2.0], length(sim_IBIs)), sim_IBIs, label = \"\", c = :black, markersize = 5.0)\n",
    "plot!(fig4_b3, [1.5, 2.5], [sim_mean_IBI,  sim_mean_IBI], \n",
    "    c = :black, lw = 3.0,\n",
    "    label = \"\"#\"$(round(sim_mean_burst_dur, digits = 2)) ms +-  $(round(sim_std_burst_dur, digits = 2)) ms\"\n",
    ")\n",
    "\n",
    "fig4_b = plot(fig4_b1, fig4_b2, fig4_b3, layout = grid(1,3))\n",
    "title!(fig4_b[1], \"A\", title_pos = :left)"
   ]
  },
  {
   "cell_type": "code",
   "execution_count": null,
   "metadata": {},
   "outputs": [],
   "source": [
    "fig4_c1 = histogram(spike_durs, \n",
    "    c = :gray, legend = nothing, \n",
    "    xlabel = \"Spike Duration (ms)\", ylabel = \"Count\")\n",
    "histogram!(fig4_c1, sim_spike_durs, c = v_color)\n",
    "fig4_c2 = histogram(burst_durs, \n",
    "    c = :gray, label = \"Experimental Data\", \n",
    "    xlabel = \"Burst Duration (ms)\", ylabel = \"Count\")\n",
    "histogram!(fig4_c2, sim_burst_durs, c = v_color, label = \"Simuation Data\")\n",
    "fig4_c3 = histogram(IBIs./1000, \n",
    "    c = :gray, legend = nothing, \n",
    "    xlabel = \"Interburst Interval (s)\", ylabel = \"Count\")\n",
    "histogram!(fig4_c3, sim_IBIs, c = v_color)\n",
    "\n",
    "fig4_c = plot(fig4_c1,fig4_c2, fig4_c3, layout = grid(3,1))\n",
    "title!(fig4_c[1], \"A\", title_pos = :left)"
   ]
  },
  {
   "cell_type": "markdown",
   "metadata": {},
   "source": [
    "### [2.2.f] Wave vs Isolated\n",
    "- We will go more in depth (or we have gone more in depth) with the differences between wave simulation and isolated simulations. The point is however that wave simulations result in usually longer burst durations. "
   ]
  },
  {
   "cell_type": "markdown",
   "metadata": {},
   "source": [
    "### [2.2.e] Actively fitting the Data\n",
    "- Using a combination of a Ensemble Test and data analysis we can adjust parameters of the model to try to pick the optimal"
   ]
  },
  {
   "cell_type": "code",
   "execution_count": null,
   "metadata": {},
   "outputs": [],
   "source": [
    "n_sims = 50\n",
    "par_sym = :V4\n",
    "par = findall(isequal(par_sym), Symbol.(T_sde.ps))[1]\n",
    "p_range = LinRange(1.0, 14.0, n_sims)\n",
    "prob_func(prob, i, repeat) = ensemble_func(prob, i, repeat; pars = par, rng = p_range)\n",
    "ensemble_prob = EnsembleProblem(SDEprob, prob_func = prob_func)"
   ]
  },
  {
   "cell_type": "code",
   "execution_count": null,
   "metadata": {},
   "outputs": [],
   "source": [
    "@time sim = solve(ensemble_prob, SOSRI(), abstol = 2e-2, reltol = 2e-2, maxiters = 1e7, saveat = dt, trajectories = n_sims, EnsembleThreads(), save_idxs = [1]);"
   ]
  },
  {
   "cell_type": "code",
   "execution_count": null,
   "metadata": {},
   "outputs": [],
   "source": [
    "vars = [:v]\n",
    "vals = []; e_spike_durs = []; e_burst_durs = []; e_ibis = []\n",
    "for (idx, traj) in enumerate(sim)\n",
    "    val = p_range[idx]\n",
    "    #println(\"$idx -> $val\")\n",
    "    trace = Array(traj)'\n",
    "    try\n",
    "        e_mean_spike_dur, e_std_spike_dur, e_mean_burst_dur, e_std_burst_dur, e_mean_ibi, e_std_ibi = timescale_analysis(trace[:,1]; dt = dt)\n",
    "        push!(vals, val)\n",
    "        push!(e_spike_durs, e_mean_spike_dur)\n",
    "        push!(e_burst_durs, e_mean_burst_dur)\n",
    "        push!(e_ibis, e_mean_ibi./1000)\n",
    "    catch\n",
    "        \n",
    "    end\n",
    "end\n",
    "p = plot(layout = grid(3,1))\n",
    "plot!(p[1], vals, e_ibis, marker = :circle, markersize = 5, lw = 3.0, ylabel = \"IBI (s)\")\n",
    "hline!(p[1], [mean_IBI], label = \"$(round(mean_IBI, digits = 2)) ms +-  $(round(std_spike_dur, digits = 2)) ms\")\n",
    "\n",
    "plot!(p[2], vals, e_burst_durs, marker = :circle, markersize = 5, lw = 3.0, ylabel = \"Bursts (ms)\")\n",
    "hline!(p[2], [mean_burst_dur], label = \"$(round(mean_burst_dur, digits = 2)) ms +-  $(round(std_burst_dur, digits = 2)) ms\")\n",
    "\n",
    "plot!(p[3], vals, e_spike_durs, marker = :circle, markersize = 5, lw = 3.0, ylabel = \"Spikes (ms)\", xlabel = \"$par_sym\")\n",
    "hline!(p[3], [mean_spike_dur], label = \"$(round(mean_spike_dur, digits = 2)) s +- $(round(std_IBI, digits = 2)) s\")\n"
   ]
  },
  {
   "cell_type": "code",
   "execution_count": null,
   "metadata": {},
   "outputs": [],
   "source": []
  },
  {
   "cell_type": "code",
   "execution_count": null,
   "metadata": {},
   "outputs": [],
   "source": []
  }
 ],
 "metadata": {
  "kernelspec": {
   "display_name": "Julia 1.4.2",
   "language": "julia",
   "name": "julia-1.4"
  },
  "language_info": {
   "file_extension": ".jl",
   "mimetype": "application/julia",
   "name": "julia",
   "version": "1.4.2"
  }
 },
 "nbformat": 4,
 "nbformat_minor": 4
}
