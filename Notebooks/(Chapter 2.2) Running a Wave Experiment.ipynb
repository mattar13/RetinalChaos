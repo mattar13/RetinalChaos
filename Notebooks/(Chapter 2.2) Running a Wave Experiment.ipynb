{
 "cells": [
  {
   "cell_type": "code",
   "execution_count": 1,
   "metadata": {},
   "outputs": [
    {
     "data": {
      "text/plain": [
       "\"C:/users/mtarc/JuliaScripts/RetinalChaos/Notebooks/Figures\""
      ]
     },
     "execution_count": 1,
     "metadata": {},
     "output_type": "execute_result"
    }
   ],
   "source": [
    "#using DifferentialEquations\n",
    "using Plots, Colors, LaTeXStrings, StatsPlots, Dates\n",
    "using Plots.Measures\n",
    "font_title = Plots.font(\"Arial\", 24)\n",
    "font_axis = Plots.font(\"Arial\", 12)\n",
    "font_legend = Plots.font(\"Arial\", 8)\n",
    "pyplot(titlefont=font_title, guidefont = font_axis, legendfont = font_legend)\n",
    "\n",
    "#Define different symbols used in the plotting\n",
    "delta = latexstring(\"\\$\\\\delta\\$\")\n",
    "micro = latexstring(\"\\$\\\\mu\\$\")\n",
    "vt = latexstring(\"\\$V_t\\$\")\n",
    "nt = latexstring(\"\\$N_t\\$\")\n",
    "bt = latexstring(\"\\$B_t\\$\")\n",
    "wt = latexstring(\"\\$W_t\\$\")\n",
    "i_ach = latexstring(\"\\$I_{ACh}\\$\")\n",
    "\n",
    "v_color = :deepskyblue\n",
    "n_color = :magenta\n",
    "c_color = :green\n",
    "a_color = :purple\n",
    "b_color = :red\n",
    "e_color = :blue\n",
    "w_color = :gray\n",
    "\n",
    "figure_path = \"C:/users/mtarc/JuliaScripts/RetinalChaos/Notebooks/Figures\""
   ]
  },
  {
   "cell_type": "code",
   "execution_count": 2,
   "metadata": {},
   "outputs": [],
   "source": [
    "#If you have a GPU available, you can run the code using \n",
    "#using CuArrays\n",
    "#gpu = true; CuArrays.allowscalar(false)"
   ]
  },
  {
   "cell_type": "code",
   "execution_count": 3,
   "metadata": {},
   "outputs": [],
   "source": [
    "#otherwise set gpu to false\n",
    "gpu = false;"
   ]
  },
  {
   "cell_type": "code",
   "execution_count": 4,
   "metadata": {},
   "outputs": [],
   "source": [
    "using Logging, TerminalLoggers\n",
    "global_logger(TerminalLogger());"
   ]
  },
  {
   "cell_type": "code",
   "execution_count": 5,
   "metadata": {},
   "outputs": [],
   "source": [
    "import RetinalChaos: Network, extract_dict, read_JSON\n",
    "import RetinalChaos: tar_conds, tar_pars\n",
    "import RetinalChaos: T_sde\n",
    "import RetinalChaos: SDEProblem, noise_2D, SOSRI, solve"
   ]
  },
  {
   "cell_type": "code",
   "execution_count": 6,
   "metadata": {},
   "outputs": [],
   "source": [
    "using JLD"
   ]
  },
  {
   "cell_type": "code",
   "execution_count": 7,
   "metadata": {},
   "outputs": [],
   "source": [
    "dt = 10.0; tspan = (0.0, 300e3)\n",
    "nx = 96; ny = 96;"
   ]
  },
  {
   "cell_type": "code",
   "execution_count": 8,
   "metadata": {},
   "outputs": [],
   "source": [
    "SACnet = Network(nx, ny; μ = 0.65, gpu = gpu, version = :gACh)\n",
    "p_dict = read_JSON(\"params.json\");\n",
    "u_dict = read_JSON(\"conds.json\");\n",
    "u0 = extract_dict(u_dict, tar_conds, (nx, ny));\n",
    "p0 = extract_dict(p_dict, tar_pars);"
   ]
  },
  {
   "cell_type": "code",
   "execution_count": 9,
   "metadata": {},
   "outputs": [
    {
     "name": "stdout",
     "output_type": "stream",
     "text": [
      "Warming up solution\n"
     ]
    },
    {
     "name": "stderr",
     "output_type": "stream",
     "text": [
      "\u001b[32mSDE   0%|█                                              |  ETA: N/A\u001b[39m\n",
      "\u001b[32mSDE   0%|█                                              |  ETA: 0:51:29\u001b[39m\n",
      "\u001b[32mSDE   1%|█                                              |  ETA: 1:00:38\u001b[39m\n",
      "\u001b[32mSDE   1%|█                                              |  ETA: 1:07:31\u001b[39m\n",
      "\u001b[32mSDE   1%|█                                              |  ETA: 1:12:05\u001b[39m\n",
      "\u001b[32mSDE   1%|█                                              |  ETA: 1:16:29\u001b[39m\n",
      "\u001b[32mSDE   1%|█                                              |  ETA: 1:19:18\u001b[39m\n",
      "\u001b[32mSDE   1%|█                                              |  ETA: 1:22:09\u001b[39m\n",
      "\u001b[32mSDE   1%|█                                              |  ETA: 1:23:54\u001b[39m\n",
      "\u001b[32mSDE   1%|█                                              |  ETA: 1:25:25\u001b[39m\n",
      "\u001b[32mSDE   1%|█                                              |  ETA: 1:26:39\u001b[39m\n",
      "\u001b[32mSDE   2%|█                                              |  ETA: 1:27:08\u001b[39m\n",
      "\u001b[32mSDE   2%|█                                              |  ETA: 1:27:01\u001b[39m\n",
      "\u001b[32mSDE   2%|█                                              |  ETA: 1:25:25\u001b[39m\n",
      "\u001b[32mSDE   2%|█                                              |  ETA: 1:21:29\u001b[39m\n",
      "\u001b[32mSDE   2%|██                                             |  ETA: 1:13:24\u001b[39m\n",
      "\u001b[32mSDE   3%|██                                             |  ETA: 1:04:43\u001b[39m\n",
      "\u001b[32mSDE   3%|██                                             |  ETA: 0:57:22\u001b[39m\n",
      "\u001b[32mSDE   4%|██                                             |  ETA: 0:51:58\u001b[39m\n",
      "\u001b[32mSDE   5%|███                                            |  ETA: 0:47:16\u001b[39m\n",
      "\u001b[32mSDE   6%|███                                            |  ETA: 0:42:29\u001b[39m\n",
      "\u001b[32mSDE   7%|████                                           |  ETA: 0:37:45\u001b[39m\n",
      "\u001b[32mSDE   8%|████                                           |  ETA: 0:33:08\u001b[39m\n",
      "\u001b[32mSDE   9%|█████                                          |  ETA: 0:28:40\u001b[39m\n",
      "\u001b[32mSDE  12%|██████                                         |  ETA: 0:23:34\u001b[39m\n",
      "\u001b[32mSDE  14%|███████                                        |  ETA: 0:19:00\u001b[39m\n",
      "\u001b[32mSDE  17%|█████████                                      |  ETA: 0:15:50\u001b[39m\n",
      "\u001b[32mSDE  21%|██████████                                     |  ETA: 0:13:31\u001b[39m\n",
      "\u001b[32mSDE  24%|████████████                                   |  ETA: 0:11:44\u001b[39m\n",
      "\u001b[32mSDE  27%|█████████████                                  |  ETA: 0:10:21\u001b[39m\n",
      "\u001b[32mSDE  30%|███████████████                                |  ETA: 0:09:14\u001b[39m\n",
      "\u001b[32mSDE  33%|████████████████                               |  ETA: 0:08:18\u001b[39m\n",
      "\u001b[32mSDE  36%|█████████████████                              |  ETA: 0:07:26\u001b[39m\n",
      "\u001b[32mSDE  39%|███████████████████                            |  ETA: 0:06:44\u001b[39m\n",
      "\u001b[32mSDE  42%|████████████████████                           |  ETA: 0:06:10\u001b[39m\n",
      "\u001b[32mSDE  43%|█████████████████████                          |  ETA: 0:06:09\u001b[39m\n",
      "\u001b[32mSDE  43%|█████████████████████                          |  ETA: 0:06:14\u001b[39m\n",
      "\u001b[32mSDE  44%|█████████████████████                          |  ETA: 0:06:20\u001b[39m\n",
      "\u001b[32mSDE  44%|█████████████████████                          |  ETA: 0:06:27\u001b[39m\n",
      "\u001b[32mSDE  44%|█████████████████████                          |  ETA: 0:06:35\u001b[39m\n",
      "\u001b[32mSDE  44%|█████████████████████                          |  ETA: 0:06:43\u001b[39m\n",
      "\u001b[32mSDE  44%|█████████████████████                          |  ETA: 0:06:50\u001b[39m\n",
      "\u001b[32mSDE  45%|█████████████████████                          |  ETA: 0:06:58\u001b[39m\n",
      "\u001b[32mSDE  45%|██████████████████████                         |  ETA: 0:07:06\u001b[39m\n",
      "\u001b[32mSDE  45%|██████████████████████                         |  ETA: 0:07:14\u001b[39m\n",
      "\u001b[32mSDE  45%|██████████████████████                         |  ETA: 0:07:22\u001b[39m\n",
      "\u001b[32mSDE  45%|██████████████████████                         |  ETA: 0:07:29\u001b[39m\n",
      "\u001b[32mSDE  45%|██████████████████████                         |  ETA: 0:07:36\u001b[39m\n",
      "\u001b[32mSDE  46%|██████████████████████                         |  ETA: 0:07:44\u001b[39m\n",
      "\u001b[32mSDE  46%|██████████████████████                         |  ETA: 0:07:51\u001b[39m\n",
      "\u001b[32mSDE  46%|██████████████████████                         |  ETA: 0:07:57\u001b[39m\n",
      "\u001b[32mSDE  46%|██████████████████████                         |  ETA: 0:08:02\u001b[39m\n",
      "\u001b[32mSDE  47%|██████████████████████                         |  ETA: 0:08:05\u001b[39m\n",
      "\u001b[32mSDE  47%|███████████████████████                        |  ETA: 0:08:03\u001b[39m\n",
      "\u001b[32mSDE  49%|███████████████████████                        |  ETA: 0:07:45\u001b[39m\n",
      "\u001b[32mSDE  50%|████████████████████████                       |  ETA: 0:07:24\u001b[39m\n",
      "\u001b[32mSDE  52%|█████████████████████████                      |  ETA: 0:07:08\u001b[39m\n",
      "\u001b[32mSDE  53%|█████████████████████████                      |  ETA: 0:06:56\u001b[39m\n",
      "\u001b[32mSDE  54%|██████████████████████████                     |  ETA: 0:06:45\u001b[39m\n",
      "\u001b[32mSDE  55%|██████████████████████████                     |  ETA: 0:06:37\u001b[39m\n",
      "\u001b[32mSDE  56%|███████████████████████████                    |  ETA: 0:06:28\u001b[39m\n",
      "\u001b[32mSDE  57%|███████████████████████████                    |  ETA: 0:06:20\u001b[39m\n",
      "\u001b[32mSDE  58%|████████████████████████████                   |  ETA: 0:06:12\u001b[39m\n",
      "\u001b[32mSDE  58%|████████████████████████████                   |  ETA: 0:06:05\u001b[39m\n",
      "\u001b[32mSDE  59%|████████████████████████████                   |  ETA: 0:05:57\u001b[39m\n",
      "\u001b[32mSDE  60%|█████████████████████████████                  |  ETA: 0:05:49\u001b[39m\n",
      "\u001b[32mSDE  61%|█████████████████████████████                  |  ETA: 0:05:43\u001b[39m\n",
      "\u001b[32mSDE  62%|██████████████████████████████                 |  ETA: 0:05:36\u001b[39m\n",
      "\u001b[32mSDE  63%|██████████████████████████████                 |  ETA: 0:05:28\u001b[39m\n",
      "\u001b[32mSDE  64%|██████████████████████████████                 |  ETA: 0:05:20\u001b[39m\n",
      "\u001b[32mSDE  65%|███████████████████████████████                |  ETA: 0:05:11\u001b[39m\n",
      "\u001b[32mSDE  66%|███████████████████████████████                |  ETA: 0:05:00\u001b[39m\n",
      "\u001b[32mSDE  67%|████████████████████████████████               |  ETA: 0:04:51\u001b[39m\n",
      "\u001b[32mSDE  68%|████████████████████████████████               |  ETA: 0:04:41\u001b[39m\n",
      "\u001b[32mSDE  69%|█████████████████████████████████              |  ETA: 0:04:30\u001b[39m\n",
      "\u001b[32mSDE  70%|██████████████████████████████████             |  ETA: 0:04:19\u001b[39m\n",
      "\u001b[32mSDE  71%|██████████████████████████████████             |  ETA: 0:04:11\u001b[39m\n",
      "\u001b[32mSDE  72%|██████████████████████████████████             |  ETA: 0:04:05\u001b[39m\n",
      "\u001b[32mSDE  73%|███████████████████████████████████            |  ETA: 0:04:00\u001b[39m\n",
      "\u001b[32mSDE  73%|███████████████████████████████████            |  ETA: 0:03:56\u001b[39m\n",
      "\u001b[32mSDE  74%|███████████████████████████████████            |  ETA: 0:03:53\u001b[39m\n",
      "\u001b[32mSDE  74%|███████████████████████████████████            |  ETA: 0:03:50\u001b[39m\n",
      "\u001b[32mSDE  75%|████████████████████████████████████           |  ETA: 0:03:48\u001b[39m\n",
      "\u001b[32mSDE  75%|████████████████████████████████████           |  ETA: 0:03:46\u001b[39m\n",
      "\u001b[32mSDE  75%|████████████████████████████████████           |  ETA: 0:03:45\u001b[39m\n",
      "\u001b[32mSDE  76%|████████████████████████████████████           |  ETA: 0:03:44\u001b[39m\n",
      "\u001b[32mSDE  76%|████████████████████████████████████           |  ETA: 0:03:43\u001b[39m\n",
      "\u001b[32mSDE  76%|████████████████████████████████████           |  ETA: 0:03:42\u001b[39m\n",
      "\u001b[32mSDE  77%|████████████████████████████████████           |  ETA: 0:03:41\u001b[39m\n",
      "\u001b[32mSDE  77%|█████████████████████████████████████          |  ETA: 0:03:39\u001b[39m\n",
      "\u001b[32mSDE  77%|█████████████████████████████████████          |  ETA: 0:03:38\u001b[39m\n",
      "\u001b[32mSDE  77%|█████████████████████████████████████          |  ETA: 0:03:37\u001b[39m\n",
      "\u001b[32mSDE  78%|█████████████████████████████████████          |  ETA: 0:03:36\u001b[39m\n",
      "\u001b[32mSDE  78%|█████████████████████████████████████          |  ETA: 0:03:35\u001b[39m\n",
      "\u001b[32mSDE  78%|█████████████████████████████████████          |  ETA: 0:03:34\u001b[39m\n",
      "\u001b[32mSDE  79%|█████████████████████████████████████          |  ETA: 0:03:32\u001b[39m\n",
      "\u001b[32mSDE  79%|██████████████████████████████████████         |  ETA: 0:03:31\u001b[39m\n",
      "\u001b[32mSDE  79%|██████████████████████████████████████         |  ETA: 0:03:29\u001b[39m\n",
      "\u001b[32mSDE  80%|██████████████████████████████████████         |  ETA: 0:03:27\u001b[39m\n",
      "\u001b[32mSDE  80%|██████████████████████████████████████         |  ETA: 0:03:25\u001b[39m\n",
      "\u001b[32mSDE  80%|██████████████████████████████████████         |  ETA: 0:03:22\u001b[39m\n",
      "\u001b[32mSDE  81%|██████████████████████████████████████         |  ETA: 0:03:18\u001b[39m\n",
      "\u001b[32mSDE  81%|███████████████████████████████████████        |  ETA: 0:03:13\u001b[39m\n",
      "\u001b[32mSDE  82%|███████████████████████████████████████        |  ETA: 0:03:06\u001b[39m\n",
      "\u001b[32mSDE  84%|████████████████████████████████████████       |  ETA: 0:02:46\u001b[39m\n",
      "\u001b[32mSDE  87%|█████████████████████████████████████████      |  ETA: 0:02:13\u001b[39m\n",
      "\u001b[32mSDE  90%|███████████████████████████████████████████    |  ETA: 0:01:42\u001b[39m\n",
      "\u001b[32mSDE  93%|████████████████████████████████████████████   |  ETA: 0:01:11\u001b[39m\n",
      "\u001b[32mSDE  96%|█████████████████████████████████████████████  |  ETA: 0:00:41\u001b[39m\n",
      "\u001b[32mSDE  98%|███████████████████████████████████████████████|  ETA: 0:00:17\u001b[39m"
     ]
    },
    {
     "name": "stdout",
     "output_type": "stream",
     "text": [
      "927.519534 seconds (113.01 M allocations: 11.831 GiB, 0.27% gc time)\n"
     ]
    },
    {
     "name": "stderr",
     "output_type": "stream",
     "text": [
      "\n",
      "\u001b[90mSDE 100%|███████████████████████████████████████████████| Time: 0:15:06\u001b[39m\n"
     ]
    },
    {
     "name": "stdout",
     "output_type": "stream",
     "text": [
      "file saved\n"
     ]
    }
   ],
   "source": [
    "println(\"Warming up solution\")\n",
    "prob = SDEProblem(SACnet, noise_2D, u0, (0.0, 60e3), p0);\n",
    "@time sol = solve(\n",
    "    prob,\n",
    "    SOSRI(),\n",
    "    abstol = 0.2,\n",
    "    reltol = 2e-2,\n",
    "    maxiters = 1e7,\n",
    "    progress = true, \n",
    "    save_everystep = false\n",
    ");\n",
    "jldopen(\"test.jld\", \"w\") do file\n",
    "    file[\"0.0\"] = sol[end]\n",
    "end;\n",
    "println(\"file saved\")"
   ]
  },
  {
   "cell_type": "code",
   "execution_count": 10,
   "metadata": {},
   "outputs": [
    {
     "name": "stderr",
     "output_type": "stream",
     "text": [
      "\u001b[32mSDE   0%|█                                              |  ETA: N/A\u001b[39m\n",
      "\u001b[32mSDE   4%|██                                             |  ETA: 0:05:40\u001b[39m\n",
      "\u001b[32mSDE   7%|████                                           |  ETA: 0:04:49\u001b[39m\n",
      "\u001b[32mSDE   9%|█████                                          |  ETA: 0:05:09\u001b[39m\n",
      "\u001b[32mSDE  10%|█████                                          |  ETA: 0:05:34\u001b[39m\n",
      "\u001b[32mSDE  12%|██████                                         |  ETA: 0:06:02\u001b[39m\n",
      "\u001b[32mSDE  13%|██████                                         |  ETA: 0:06:27\u001b[39m\n",
      "\u001b[32mSDE  14%|███████                                        |  ETA: 0:06:53\u001b[39m\n",
      "\u001b[32mSDE  14%|███████                                        |  ETA: 0:07:15\u001b[39m\n",
      "\u001b[32mSDE  15%|████████                                       |  ETA: 0:07:36\u001b[39m\n",
      "\u001b[32mSDE  16%|████████                                       |  ETA: 0:07:54\u001b[39m\n",
      "\u001b[32mSDE  17%|████████                                       |  ETA: 0:08:11\u001b[39m\n",
      "\u001b[32mSDE  17%|█████████                                      |  ETA: 0:08:26\u001b[39m\n",
      "\u001b[32mSDE  18%|█████████                                      |  ETA: 0:08:40\u001b[39m\n",
      "\u001b[32mSDE  19%|█████████                                      |  ETA: 0:08:54\u001b[39m\n",
      "\u001b[32mSDE  19%|██████████                                     |  ETA: 0:09:07\u001b[39m\n",
      "\u001b[32mSDE  20%|██████████                                     |  ETA: 0:09:21\u001b[39m\n",
      "\u001b[32mSDE  21%|██████████                                     |  ETA: 0:09:36\u001b[39m\n",
      "\u001b[32mSDE  21%|██████████                                     |  ETA: 0:09:51\u001b[39m\n",
      "\u001b[32mSDE  22%|███████████                                    |  ETA: 0:10:05\u001b[39m\n",
      "\u001b[32mSDE  22%|███████████                                    |  ETA: 0:10:19\u001b[39m\n",
      "\u001b[32mSDE  23%|███████████                                    |  ETA: 0:10:32\u001b[39m\n",
      "\u001b[32mSDE  23%|███████████                                    |  ETA: 0:10:46\u001b[39m\n",
      "\u001b[32mSDE  23%|████████████                                   |  ETA: 0:10:57\u001b[39m\n",
      "\u001b[32mSDE  24%|████████████                                   |  ETA: 0:11:08\u001b[39m\n",
      "\u001b[32mSDE  24%|████████████                                   |  ETA: 0:11:17\u001b[39m\n",
      "\u001b[32mSDE  25%|████████████                                   |  ETA: 0:11:24\u001b[39m\n",
      "\u001b[32mSDE  26%|████████████                                   |  ETA: 0:11:27\u001b[39m\n",
      "\u001b[32mSDE  26%|█████████████                                  |  ETA: 0:11:22\u001b[39m\n",
      "\u001b[32mSDE  28%|█████████████                                  |  ETA: 0:11:04\u001b[39m\n",
      "\u001b[32mSDE  30%|██████████████                                 |  ETA: 0:10:18\u001b[39m\n",
      "\u001b[32mSDE  32%|███████████████                                |  ETA: 0:09:35\u001b[39m\n",
      "\u001b[32mSDE  34%|█████████████████                              |  ETA: 0:08:57\u001b[39m\n",
      "\u001b[32mSDE  36%|██████████████████                             |  ETA: 0:08:20\u001b[39m\n",
      "\u001b[32mSDE  39%|███████████████████                            |  ETA: 0:07:47\u001b[39m\n",
      "\u001b[32mSDE  41%|████████████████████                           |  ETA: 0:07:16\u001b[39m\n",
      "\u001b[32mSDE  43%|█████████████████████                          |  ETA: 0:06:47\u001b[39m\n",
      "\u001b[32mSDE  46%|██████████████████████                         |  ETA: 0:06:19\u001b[39m\n",
      "\u001b[32mSDE  48%|███████████████████████                        |  ETA: 0:05:53\u001b[39m\n",
      "\u001b[32mSDE  51%|████████████████████████                       |  ETA: 0:05:29\u001b[39m\n",
      "\u001b[32mSDE  53%|██████████████████████████                     |  ETA: 0:05:03\u001b[39m\n",
      "\u001b[32mSDE  56%|███████████████████████████                    |  ETA: 0:04:38\u001b[39m\n",
      "\u001b[32mSDE  59%|████████████████████████████                   |  ETA: 0:04:11\u001b[39m\n",
      "\u001b[32mSDE  62%|██████████████████████████████                 |  ETA: 0:03:45\u001b[39m\n",
      "\u001b[32mSDE  66%|████████████████████████████████               |  ETA: 0:03:15\u001b[39m\n",
      "\u001b[32mSDE  70%|█████████████████████████████████              |  ETA: 0:02:49\u001b[39m\n",
      "\u001b[32mSDE  74%|███████████████████████████████████            |  ETA: 0:02:20\u001b[39m\n",
      "\u001b[32mSDE  79%|█████████████████████████████████████          |  ETA: 0:01:51\u001b[39m\n",
      "\u001b[32mSDE  84%|████████████████████████████████████████       |  ETA: 0:01:21\u001b[39m\n",
      "\u001b[32mSDE  88%|██████████████████████████████████████████     |  ETA: 0:00:56\u001b[39m\n",
      "\u001b[32mSDE  91%|███████████████████████████████████████████    |  ETA: 0:00:45\u001b[39m\n",
      "\u001b[32mSDE  92%|████████████████████████████████████████████   |  ETA: 0:00:39\u001b[39m\n",
      "\u001b[32mSDE  93%|████████████████████████████████████████████   |  ETA: 0:00:35\u001b[39m\n",
      "\u001b[32mSDE  93%|████████████████████████████████████████████   |  ETA: 0:00:32\u001b[39m\n",
      "\u001b[32mSDE  94%|█████████████████████████████████████████████  |  ETA: 0:00:30\u001b[39m\n",
      "\u001b[32mSDE  95%|█████████████████████████████████████████████  |  ETA: 0:00:27\u001b[39m\n",
      "\u001b[32mSDE  95%|█████████████████████████████████████████████  |  ETA: 0:00:25\u001b[39m\n",
      "\u001b[32mSDE  96%|█████████████████████████████████████████████  |  ETA: 0:00:22\u001b[39m\n",
      "\u001b[32mSDE  96%|██████████████████████████████████████████████ |  ETA: 0:00:20\u001b[39m\n",
      "\u001b[32mSDE  97%|██████████████████████████████████████████████ |  ETA: 0:00:18\u001b[39m\n",
      "\u001b[32mSDE  97%|██████████████████████████████████████████████ |  ETA: 0:00:16\u001b[39m\n",
      "\u001b[32mSDE  98%|██████████████████████████████████████████████ |  ETA: 0:00:13\u001b[39m\n",
      "\u001b[32mSDE  98%|███████████████████████████████████████████████|  ETA: 0:00:11\u001b[39m\n",
      "\u001b[32mSDE  98%|███████████████████████████████████████████████|  ETA: 0:00:09\u001b[39m\n",
      "\u001b[32mSDE  99%|███████████████████████████████████████████████|  ETA: 0:00:07\u001b[39m\n",
      "\u001b[32mSDE  99%|███████████████████████████████████████████████|  ETA: 0:00:04\u001b[39m\n",
      "\u001b[32mSDE 100%|███████████████████████████████████████████████|  ETA: 0:00:02\u001b[39m\n",
      "\u001b[90mSDE 100%|███████████████████████████████████████████████| Time: 0:09:43\u001b[39m\n"
     ]
    }
   ],
   "source": [
    "#The last solution from the warmup is saved as the initial condition. So this starts at timepoint 1.0\n",
    "prob = SDEProblem(prob.f, prob.g, sol[end], (1.0, 30e3), prob.p);\n",
    "sol = solve(\n",
    "        prob,\n",
    "        SOSRI(),\n",
    "        abstol = 0.2,\n",
    "        reltol = 2e-2,\n",
    "        maxiters = 1e7,\n",
    "        progress = true, \n",
    "        saveat = 1.0,\n",
    "    );"
   ]
  },
  {
   "cell_type": "code",
   "execution_count": 11,
   "metadata": {},
   "outputs": [],
   "source": [
    "#Save the solution, and the datapoints as \n",
    "jldopen(\"test.jld\", \"r+\") do file\n",
    "    for t in sol.t\n",
    "        #println(\"Saving timepoint $t\")\n",
    "        file[\"$t\"] = sol(t)[:,:,1]\n",
    "    end\n",
    "    file[\"time\"] = [0.0; sol.t...]\n",
    "end;"
   ]
  },
  {
   "cell_type": "markdown",
   "metadata": {},
   "source": [
    "### Instead of using the file immediately we can save it using HDF5. This preserves the types and structures within the array\n",
    "- IN order to write a file to a JLD file, we can save the individual timesteps as seperate categories\n",
    "- The stepsize should be 1.0 ms, and the length of time can be 300s"
   ]
  },
  {
   "cell_type": "code",
   "execution_count": 12,
   "metadata": {},
   "outputs": [],
   "source": [
    "data = jldopen(\"test.jld\", \"r\") do file\n",
    "    read(file, \"time\")\n",
    "end;"
   ]
  },
  {
   "cell_type": "code",
   "execution_count": null,
   "metadata": {},
   "outputs": [],
   "source": [
    "data[\"time\"]"
   ]
  },
  {
   "cell_type": "markdown",
   "metadata": {},
   "source": [
    "### [1.5.b] Graphing and visualization"
   ]
  },
  {
   "cell_type": "code",
   "execution_count": null,
   "metadata": {},
   "outputs": [],
   "source": [
    "import RetinalChaos: calculate_threshold, get_timestamps, max_interval_algorithim, extract_burstmap, timescale_analysis"
   ]
  },
  {
   "cell_type": "code",
   "execution_count": null,
   "metadata": {},
   "outputs": [],
   "source": [
    "maximum(et_sol)"
   ]
  },
  {
   "cell_type": "code",
   "execution_count": null,
   "metadata": {},
   "outputs": [],
   "source": [
    "thresh = calculate_threshold(vt_sol)\n",
    "spike_array = vt_sol .> thresh;"
   ]
  },
  {
   "cell_type": "code",
   "execution_count": null,
   "metadata": {},
   "outputs": [],
   "source": [
    "x_locs = round.(Int, LinRange(1, nx, 10));\n",
    "y_locs = round.(Int, LinRange(1, ny, 10));"
   ]
  },
  {
   "cell_type": "code",
   "execution_count": null,
   "metadata": {},
   "outputs": [],
   "source": [
    "burst_map = extract_burstmap(spike_array);\n",
    "\n",
    "@time anim = @animate for i = 1:10:size(sol, 4)\n",
    "    println(\"Animating frame $i\")\n",
    "    \n",
    "    p1 = plot(layout = grid(2, 2), size = (1000,1000))\n",
    "    heatmap!(p1[1], vt_sol[:, :, i], ratio = :equal, grid = false,\n",
    "        xticks = ([],[]), yticks = ([],[]), xlims = (0, nx), ylims = (0, ny),\n",
    "        c = :curl, clims = (-70.0, 0.0),\n",
    "    )\n",
    "    scatter!(p1[1], x_locs, y_locs, marker = :star, c = :yellow, label = \"\")\n",
    "    heatmap!(p1[2], ct_sol[:, :, i], ratio = :equal, grid = false,\n",
    "        xticks = ([],[]), yticks = ([],[]), xlims = (0, nx), ylims = (0, ny),\n",
    "        c = :kgy, clims = (0.0, 1.0),\n",
    "    )\n",
    "    scatter!(p1[2], x_locs, y_locs, marker = :star, c = :yellow, label = \"\")\n",
    "    heatmap!(p1[3], et_sol[:, :, i], ratio = :equal, grid = false,\n",
    "        xticks = ([],[]), yticks = ([],[]), xlims = (0, nx), ylims = (0, ny),\n",
    "        c = :bgy, clims = (0.0, 3.0),\n",
    "    )\n",
    "    scatter!(p1[3], x_locs, y_locs, marker = :star, c = :yellow, label = \"\")\n",
    "    heatmap!(p1[4], bt_sol[:, :, i], ratio = :equal, grid = false,\n",
    "        xticks = ([],[]), yticks = ([],[]), xlims = (0, nx), ylims = (0, ny),\n",
    "        c = :reds, clims = (0.0, 1.0),\n",
    "    )\n",
    "    scatter!(p1[4], x_locs, y_locs, marker = :star, c = :yellow, label = \"\")\n",
    "    \n",
    "    p2 = plot(vt_sol[x_locs[1], y_locs[1], :], layout = grid(3, 1), label = \"\", size = (500,150))\n",
    "    plot!(p2[2], ct_sol[x_locs[1], y_locs[1], :], c = :kgy, line_z = 1, label = \"\")\n",
    "    plot!(p2[3], bt_sol[x_locs[1], y_locs[1], :], c = :reds, line_z = 1, label = \"\")\n",
    "    for i = 2:length(x_locs)\n",
    "        plot!(p2[1], vt_sol[x_locs[i], y_locs[i], :], c = :curl, line_z = i, label = \"\")\n",
    "        plot!(p2[2], ct_sol[x_locs[i], y_locs[i], :], c = :kgy, line_z = i, label = \"\")\n",
    "        plot!(p2[3], bt_sol[x_locs[i], y_locs[i], :], c = :reds, line_z = i, label = \"\")\n",
    "    end\n",
    "    p2\n",
    "    vline!(p2[1], [i], label = \"\", lw = 3.0, c = :black)\n",
    "    vline!(p2[2], [i], label = \"\", lw = 3.0, c = :black)\n",
    "    vline!(p2[3], [i], label = \"\", lw = 3.0, c = :black)\n",
    "    p = plot(p2, p1, layout = grid(2,1), size = (1000,1000)) \n",
    "end"
   ]
  },
  {
   "cell_type": "code",
   "execution_count": null,
   "metadata": {},
   "outputs": [],
   "source": [
    "mp4(anim, \"$(figure_path)/wave_propagation.mp4\", fps = 10)\n",
    "gif(anim, \"$(figure_path)/wave_propagation.gif\", fps = 10)"
   ]
  },
  {
   "cell_type": "code",
   "execution_count": null,
   "metadata": {},
   "outputs": [],
   "source": [
    "wave_locs = round.(Int, LinRange(2700,3200, 9));"
   ]
  },
  {
   "cell_type": "code",
   "execution_count": null,
   "metadata": {},
   "outputs": [],
   "source": [
    "grid_p = plot(layout = grid(3,3), xaxis = \"\", yaxis = \"\",  margin = 1mm, size = (500, 500))\n",
    "for (idx, tstep) in enumerate(wave_locs)\n",
    "    if idx == 6\n",
    "        is_cbar = true\n",
    "    else \n",
    "        is_cbar = false\n",
    "    end\n",
    "    heatmap!(grid_p[idx], et_sol[:, :, tstep], ratio = :equal, grid = false,\n",
    "        xticks = ([],[]), yticks = ([],[]), xlims = (0, nx), ylims = (0, ny),\n",
    "        c = :delta, clims = (0.0, 3.0), cbar = is_cbar\n",
    "    )\n",
    "    annotate!(grid_p[idx], [48], [5], \"t = $(sol.t[tstep]/1000)s\", :white)\n",
    "end\n",
    "grid_p\n",
    "title!(grid_p[1], \"C\", title_pos = :left)"
   ]
  },
  {
   "cell_type": "markdown",
   "metadata": {},
   "source": [
    "### [1.5.c] Analysis of the wave Data\n",
    "- The output of the wave we get is very similar to the output of the trace simulation, except it is in 3D (x, y, d(Var)) with respect to time (t)\n",
    "- Dispatches of count_interval are available to get all the intervals within the grid. \n",
    "    - This function however discards information about the x and y location and adds all the intervals to a single list\n",
    "- Dispatches of get_timestamps are available max_interval_algorithim\n",
    "    - These return a tuple with (x, y, data) \n",
    "    - for get_timestamps, data is the timestamps\n",
    "    - for max_interval_algorithgim data is the \n",
    "        - 1) Burst Timestamps\n",
    "        - 2) Duration list\n",
    "        - 3) Spike per burst list\n",
    "- A dispatch of the timescale analysis is also available, much like the count intervals all spatial information is lost in the process of conducting the timescale analysis. \n",
    "    - In order to conducte more precise spike duration analysis a higher resolution needs to be used which can end up very memory consuming. "
   ]
  },
  {
   "cell_type": "code",
   "execution_count": null,
   "metadata": {},
   "outputs": [],
   "source": [
    "#get_timestamps() returns (x, y, timestamps)\n",
    "timestamp_data = @time get_timestamps(spike_array);"
   ]
  },
  {
   "cell_type": "code",
   "execution_count": null,
   "metadata": {},
   "outputs": [],
   "source": [
    "#max_interval_algorithim() returns (x, y, [burst_timestamps, durations, spikes_per_burst and intervurst interval])\n",
    "burst_data = max_interval_algorithim(spike_array);"
   ]
  },
  {
   "cell_type": "code",
   "execution_count": null,
   "metadata": {},
   "outputs": [],
   "source": [
    "#This function breaks downt the spike array into bursts according to the max interval algorithim\n",
    "burst_map = extract_burstmap(spike_array);"
   ]
  },
  {
   "cell_type": "code",
   "execution_count": null,
   "metadata": {},
   "outputs": [],
   "source": [
    "using Statistics, StatsBase"
   ]
  },
  {
   "cell_type": "code",
   "execution_count": null,
   "metadata": {},
   "outputs": [],
   "source": [
    "ts_lattice = timescale_analysis(vt_sol; verbose = 1, mode = 2);\n",
    "ts_lattice_vals = timescale_analysis(vt_sol; mode = 1);"
   ]
  },
  {
   "cell_type": "markdown",
   "metadata": {},
   "source": [
    "#### Comparing to 1D traces"
   ]
  },
  {
   "cell_type": "code",
   "execution_count": null,
   "metadata": {},
   "outputs": [],
   "source": [
    "p = read_JSON(\"params.json\") |> extract_dict;\n",
    "u0 = read_JSON(\"conds.json\") |> extract_dict;\n",
    "dt = 1.0\n",
    "tspan = (0.0, 500e3);"
   ]
  },
  {
   "cell_type": "code",
   "execution_count": null,
   "metadata": {},
   "outputs": [],
   "source": [
    "SDEprob = SDEProblem(T_sde, u0, tspan, p)\n",
    "println(\"Time it took to simulate 60s:\")\n",
    "@time SDEsol = solve(SDEprob, SOSRI(), abstol = 2e-2, reltol = 2e-2, maxiters = 1e7, saveat = dt); \n",
    "trace = Array(SDEsol)';"
   ]
  },
  {
   "cell_type": "code",
   "execution_count": null,
   "metadata": {},
   "outputs": [],
   "source": [
    "vt_iso = trace[:, 1];"
   ]
  },
  {
   "cell_type": "code",
   "execution_count": null,
   "metadata": {},
   "outputs": [],
   "source": [
    "#Try to get these solutions to line up by adjusting this value\n",
    "iso_begin = 265000\n",
    "xlims = (0.0, 60e3) \n",
    "xticks = (collect(xlims[1]:5000:xlims[2]), collect(0:5.0:xlims[2]/1000))\n",
    "\n",
    "fig5_A = plot(vt_iso[iso_begin:Int(iso_begin+60e3)],  \n",
    "    label = \"\", ylabel = \"$vt (mV)\", xlabel = \"Time (s)\",\n",
    "    lw = 2.0, c = v_color\n",
    ")\n",
    "plot!(fig5_A, sol.t, vt_sol[21,10,:], \n",
    "    label = \"\", \n",
    "    lw = 2.0, c = e_color, linestyle = :dash, \n",
    "    xticks = xticks \n",
    ");\n",
    "title!(fig5_A, \"A\", title_loc = :left);"
   ]
  },
  {
   "cell_type": "code",
   "execution_count": null,
   "metadata": {},
   "outputs": [],
   "source": [
    "#Conducting the analysis in a single function you can use the imported function timescale_analysis\n",
    "ts_iso = timescale_analysis(trace[:,1]; dt = dt, verbose = 1, mode = 2);\n",
    "ts_iso_vals = timescale_analysis(trace[:,1]; dt = dt, mode = 1);\n",
    "iso_burst_list"
   ]
  },
  {
   "cell_type": "code",
   "execution_count": null,
   "metadata": {},
   "outputs": [],
   "source": [
    "lat_spike_dur, lat_spike_std, lat_burst_dur, lat_burst_std, lat_IBI, lat_IBI_std = ts_lattice_vals;\n",
    "\n",
    "iso_spike_dur, iso_spike_std, iso_burst_dur, iso_burst_std, iso_IBI, iso_IBI_std = ts_iso_vals;\n",
    "\n",
    "lat_spike_list, lat_burst_list, lat_IBI_list = ts_lattice;\n",
    "\n",
    "iso_spike_list, iso_burst_list, iso_IBI_list = ts_iso;\n",
    "\n",
    "n_lat_spike = length(lat_spike_list)\n",
    "n_lat_burst = length(lat_burst_list)\n",
    "n_lat_IBI = length(lat_IBI_list)\n",
    "\n",
    "n_iso_spike = length(iso_spike_list)\n",
    "n_iso_burst = length(iso_burst_list)\n",
    "n_iso_IBI = length(iso_IBI_list)\n",
    "\n",
    "lat_spike_SEM = lat_spike_std/n_lat_spike\n",
    "lat_burst_SEM = lat_burst_std/n_lat_burst\n",
    "lat_IBI_SEM = lat_IBI_std/n_lat_IBI\n",
    "\n",
    "iso_spike_SEM = iso_spike_std/n_iso_spike\n",
    "iso_burst_SEM = iso_burst_std/n_iso_burst\n",
    "iso_IBI_SEM = iso_IBI_std/n_iso_IBI"
   ]
  },
  {
   "cell_type": "code",
   "execution_count": null,
   "metadata": {},
   "outputs": [],
   "source": [
    "bins = LinRange(minimum(ts_lattice[2]), maximum(ts_lattice[2]), 100);\n",
    "fig5_Ba = histogram(ts_iso[2], normalize = :pdf, xlims = (500,1500), c = v_color, ylabel = \"Probability of Burst\", label = \"Isolated SAC\",);\n",
    "histogram!(fig5_Ba, ts_lattice[2], normalize = :pdf, xlims = (500,1500), c = e_color, xlabel = \"Burst Length (ms)\", label = \"SAC in Network\", );\n",
    "fig5_B1 = boxplot([iso_burst_list./1000, lat_burst_list./1000], c = [v_color e_color], \n",
    "    xticks = ((1.0, 2.0), (\"Isolated SAC\", \"SAC in Network\")), ylabel = \"Burst Length (s)\", labels = [\"\" \"\"]\n",
    ")\n",
    "\n",
    "fig5_Bb = histogram(ts_iso[3]./1000, normalize = :pdf, xlims = (0,60), c = v_color, ylabel = \"Probability of Burst\", label = \"Isolated SAC\",);\n",
    "histogram!(fig5_Bb, ts_lattice[3]./1000, normalize = :pdf, xlims = (0,60), c = e_color, xlabel = \"Interburst Interval (s)\", label = \"SAC in Network\", )\n",
    "fig5_B2 = boxplot([iso_IBI_list./1000, lat_IBI_list./1000], c = [v_color e_color], \n",
    "    xticks = ((1.0, 2.0), (\"Isolated SAC\", \"SAC in Network\")), ylabel = \"IBI Length (s)\", labels = [\"\" \"\"]\n",
    ")\n",
    "\n",
    "\n",
    "fig5_B = plot(fig5_Ba, fig5_Bb,  layout = grid(2,1))\n",
    "title!(fig5_B[1], \"B\", title_loc = :left);\n",
    "fig5_BC = plot(fig5_B, grid_p, layout = grid(1,2), size = (1000, 750));"
   ]
  },
  {
   "cell_type": "code",
   "execution_count": null,
   "metadata": {},
   "outputs": [],
   "source": [
    "fig5 = plot(fig5_A, fig5_BC, layout = grid(2,1,  heights = [0.25, 0.75]), size = (1000,1000))"
   ]
  },
  {
   "cell_type": "code",
   "execution_count": null,
   "metadata": {},
   "outputs": [],
   "source": [
    "savefig(fig5, \"$(figure_path)/Figure5_Isolated vs Lattice Sim.png\")"
   ]
  },
  {
   "cell_type": "markdown",
   "metadata": {},
   "source": [
    "### [1.5.d] Comparing Lattice Wave model to Physiological data\n",
    "- As in th"
   ]
  },
  {
   "cell_type": "markdown",
   "metadata": {},
   "source": [
    "### [1.5.d] We can do multiple runs of this simulation loop. This allows us to \n",
    "- Perform repeated trials\n",
    "- Alter a variable\n",
    "\n",
    "I will only be doing one of these however, because these trials are costly. The below code should be performed only on a computer with a capable GPU, otherwise this will take a very long time. I will be altering the amount of acetylcholine released by a single SAC in $\\mu M / ms$($\\rho$)"
   ]
  },
  {
   "cell_type": "code",
   "execution_count": null,
   "metadata": {},
   "outputs": [],
   "source": [
    "par = :ρ\n",
    "n_trials = 10\n",
    "par_range = LinRange(1.0, 10.0, n_trials)"
   ]
  },
  {
   "cell_type": "code",
   "execution_count": null,
   "metadata": {},
   "outputs": [],
   "source": [
    "for val in par_range\n",
    "    with_logger(TerminalLogger()) do\n",
    "        #Warmup\n",
    "        SDE_mat_prob = SDEProblem(SACnet, noise_2D, u0, (0.0, 60e3), p0);\n",
    "        SDE_mat_sol = solve(\n",
    "            SDE_mat_prob,\n",
    "            SOSRI(),\n",
    "            abstol = 0.2,\n",
    "            reltol = 2e-2,\n",
    "            maxiters = 1e7,\n",
    "            progress = true, \n",
    "            saveat = dt,\n",
    "        )\n",
    "        #Run the trial\n",
    "        u0_new = SDE_mat_sol[end]\n",
    "        SDE_mat_prob = SDEProblem(SACnet, noise_2D, u0_new, tspan, p0);\n",
    "        SDE_mat_sol = solve(\n",
    "            SDE_mat_prob,\n",
    "            SOSRI(),\n",
    "            abstol = 0.2,\n",
    "            reltol = 2e-2,\n",
    "            maxiters = 1e7,\n",
    "            progress = true, \n",
    "            saveat = dt,\n",
    "        )\n",
    "        #Perform the Data Analysis TODO\n",
    "    end\n",
    "end"
   ]
  }
 ],
 "metadata": {
  "kernelspec": {
   "display_name": "Julia 1.4.2",
   "language": "julia",
   "name": "julia-1.4"
  },
  "language_info": {
   "file_extension": ".jl",
   "mimetype": "application/julia",
   "name": "julia",
   "version": "1.4.2"
  }
 },
 "nbformat": 4,
 "nbformat_minor": 4
}
