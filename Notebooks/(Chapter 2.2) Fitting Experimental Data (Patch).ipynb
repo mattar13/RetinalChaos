{
 "cells": [
  {
   "cell_type": "code",
   "execution_count": 1,
   "metadata": {},
   "outputs": [],
   "source": [
    "using DifferentialEquations, ParameterizedFunctions\n",
    "using Plots, Colors\n",
    "using LaTeXStrings\n",
    "using Distributions\n",
    "#Used for loading Phys data\n",
    "using PyCall\n",
    "pyABF = pyimport(\"pyabf\")\n",
    "using StaticArrays"
   ]
  },
  {
   "cell_type": "code",
   "execution_count": 2,
   "metadata": {},
   "outputs": [
    {
     "name": "stderr",
     "output_type": "stream",
     "text": [
      "┌ Warning: Symbolic calculations could not initiate. Likely there's a function which is not differentiable by SymEngine.\n",
      "└ @ ParameterizedFunctions C:\\Users\\mtarc\\.julia\\packages\\ParameterizedFunctions\\WcTrd\\src\\ode_def_opts.jl:244\n"
     ]
    }
   ],
   "source": [
    "include(\"RetinalChaos.jl\");"
   ]
  },
  {
   "cell_type": "code",
   "execution_count": 3,
   "metadata": {},
   "outputs": [
    {
     "data": {
      "text/plain": [
       "Plots.PyPlotBackend()"
      ]
     },
     "execution_count": 3,
     "metadata": {},
     "output_type": "execute_result"
    }
   ],
   "source": [
    "using Plots.Measures\n",
    "font_title = Plots.font(\"Arial\", 24)\n",
    "font_axis = Plots.font(\"Arial\", 12)\n",
    "font_legend = Plots.font(\"Arial\", 8)\n",
    "pyplot(titlefont=font_title, guidefont = font_axis, legendfont = font_legend)"
   ]
  },
  {
   "cell_type": "markdown",
   "metadata": {},
   "source": [
    "# RetinalChaos.jl: An introduction\n",
    "### In order to understand the code published here, these notebooks will act as simple tutorials on both how the model was designed. \n",
    "\n",
    "## Table of contents:\n",
    "\n",
    "### [1] Introduction, Motivation, and Components\n",
    "#### [1.1] Voltage and Potassium gating components of the model\n",
    "#### [1.2] Calcium and the Biochemical Reactions of the sAHP\n",
    "#### [1.3] Acetylcholine Diffusion and Dynamics\n",
    "#### [1.4] Gaussian White noise and dynamics\n",
    "\n",
    "### _**[2] Analyzing Data Output of the model**_\n",
    "#### [2.1] Dynamical Analysis\n",
    "#### **[2.2] Fitting Experimental Data (Patch)**\n",
    "#### [2.3] Fitting Experimental Data (Multi-electrode array)\n",
    "#### [2.4] Fitting Experimental Data (Calcium Imageing) \n",
    "\n",
    "### [3] Experiments\n",
    "#### [3.1] Dual Eye Correlations\n",
    "#### [3.2] Recapitulations of older papers\n",
    "\n",
    "# Just to recap the model in full is \n",
    "\\begin{align}\n",
    "   C_m\\frac{dV}{dt} &= I_{leak} + I_{Ca} + I_K + I_{app} + I_{noise}\\\\\n",
    "   \\tau_N\\frac{dN}{dt} &= \\Lambda(V)(N_\\infty(V) - N)\\\\\n",
    "   \\tau_C\\frac{d[Ca^{2+}]}{dt} &= C_0 + \\delta I_{Ca}(V) -\\lambda  [Ca^{2+}]\\\\\n",
    "   \\tau_a\\frac{da}{dt} &= \\alpha * [Ca^{2+}]^4 * \\left(1- a\\right) - a\\\\\n",
    "   \\tau_b\\frac{db}{dt} &= \\beta * a^4 * (1 - b) - b\\\\\n",
    "   \\tau_{[ACh]}\\frac{d[ACh]}{dt} &=  \\nabla_{xx}^2 [ACh] + \\rho \\Phi(V) -[ACh]\n",
    "\\end{align}\n"
   ]
  },
  {
   "cell_type": "markdown",
   "metadata": {},
   "source": [
    "### Optimizing current Models\n",
    "\n",
    "- We have so far established a acceptable model to characterize the neuronal firing of starburst amacrine cells. \n",
    "- Our goal is to optimize the model according to 4 characteristics. \n",
    "    - 1) Patch Clamp from isolated Starburst amacrine cells\n",
    "    - 2) Patch clamp from Starburst amacrine cells within a lattice of neurons\n",
    "    - 3) Multi-electrode array recordings\n",
    "    - 4) Calcium Imaging recordings\n",
    "- With each kind of experimental data we can make predictions about the model"
   ]
  },
  {
   "cell_type": "markdown",
   "metadata": {},
   "source": [
    "### Loading Physiological Data from .abf files"
   ]
  },
  {
   "cell_type": "code",
   "execution_count": 4,
   "metadata": {},
   "outputs": [
    {
     "data": {
      "text/plain": [
       "\"D:\\\\2019_Renna Lab\\\\Data\\\\Patching\\\\2019_11_03_Patch\\\\Animal_2\\\\Cell_3\\\\19n03042.abf\""
      ]
     },
     "execution_count": 4,
     "metadata": {},
     "output_type": "execute_result"
    }
   ],
   "source": [
    "target_folder = \"D:\\\\2019_Renna Lab\\\\Data\\\\Patching\\\\\"\n",
    "target_file = \"D:\\\\2019_Renna Lab\\\\Data\\\\Patching\\\\2019_11_03_Patch\\\\Animal_2\\\\Cell_3\\\\19n03042.abf\""
   ]
  },
  {
   "cell_type": "code",
   "execution_count": 5,
   "metadata": {},
   "outputs": [
    {
     "ename": "PyCall.PyError",
     "evalue": "PyError ($(Expr(:escape, :(ccall(#= C:\\Users\\mtarc\\.julia\\packages\\PyCall\\ttONZ\\src\\pyfncall.jl:44 =# @pysym(:PyObject_Call), PyPtr, (PyPtr, PyPtr, PyPtr), o, pyargsptr, kw))))) <class 'ValueError'>\nValueError('ABF file does not exist: D:\\\\2019_Renna Lab\\\\Data\\\\Patching\\\\2019_11_03_Patch\\\\Animal_2\\\\Cell_3\\\\19n03042.abf')\n  File \"C:\\Users\\mtarc\\Anaconda3\\envs\\RetinalWaves\\lib\\site-packages\\pyabf\\abf.py\", line 72, in __init__\n    raise ValueError(\"ABF file does not exist: %s\" % self.abfFilePath)\n",
     "output_type": "error",
     "traceback": [
      "PyError ($(Expr(:escape, :(ccall(#= C:\\Users\\mtarc\\.julia\\packages\\PyCall\\ttONZ\\src\\pyfncall.jl:44 =# @pysym(:PyObject_Call), PyPtr, (PyPtr, PyPtr, PyPtr), o, pyargsptr, kw))))) <class 'ValueError'>\nValueError('ABF file does not exist: D:\\\\2019_Renna Lab\\\\Data\\\\Patching\\\\2019_11_03_Patch\\\\Animal_2\\\\Cell_3\\\\19n03042.abf')\n  File \"C:\\Users\\mtarc\\Anaconda3\\envs\\RetinalWaves\\lib\\site-packages\\pyabf\\abf.py\", line 72, in __init__\n    raise ValueError(\"ABF file does not exist: %s\" % self.abfFilePath)\n",
      "",
      "Stacktrace:",
      " [1] pyerr_check at C:\\Users\\mtarc\\.julia\\packages\\PyCall\\ttONZ\\src\\exception.jl:60 [inlined]",
      " [2] pyerr_check at C:\\Users\\mtarc\\.julia\\packages\\PyCall\\ttONZ\\src\\exception.jl:64 [inlined]",
      " [3] macro expansion at C:\\Users\\mtarc\\.julia\\packages\\PyCall\\ttONZ\\src\\exception.jl:84 [inlined]",
      " [4] __pycall!(::PyObject, ::Ptr{PyCall.PyObject_struct}, ::PyObject, ::Ptr{Nothing}) at C:\\Users\\mtarc\\.julia\\packages\\PyCall\\ttONZ\\src\\pyfncall.jl:44",
      " [5] _pycall!(::PyObject, ::PyObject, ::Tuple{String}, ::Int64, ::Ptr{Nothing}) at C:\\Users\\mtarc\\.julia\\packages\\PyCall\\ttONZ\\src\\pyfncall.jl:29",
      " [6] #_#111 at C:\\Users\\mtarc\\.julia\\packages\\PyCall\\ttONZ\\src\\pyfncall.jl:11 [inlined]",
      " [7] (::PyObject)(::String) at C:\\Users\\mtarc\\.julia\\packages\\PyCall\\ttONZ\\src\\pyfncall.jl:89",
      " [8] top-level scope at In[5]:1"
     ]
    }
   ],
   "source": [
    "#Load experimental data\n",
    "exp_data = pyABF.ABF(target_file)\n",
    "#Extract the time trace, and the \n",
    "t = exp_data.sweepX\n",
    "dt = t[2]\n",
    "v_offset = -15.0"
   ]
  },
  {
   "cell_type": "code",
   "execution_count": 6,
   "metadata": {},
   "outputs": [
    {
     "ename": "UndefVarError",
     "evalue": "UndefVarError: exp_data not defined",
     "output_type": "error",
     "traceback": [
      "UndefVarError: exp_data not defined",
      "",
      "Stacktrace:",
      " [1] top-level scope at In[6]:1"
     ]
    }
   ],
   "source": [
    "exp_data.setSweep(sweepNumber = 0, channel = 0);\n",
    "vm = exp_data.sweepY;\n",
    "reduced = round.(Int, LinRange(Int(130/dt), Int(230/dt), Int(100e3)));\n",
    "#reduced = round.(Int, LinRange(Int(130/dt), Int(230/dt), Int(100e3)));\n",
    "t_offset = (t[reduced] .- t[reduced][1]).*1000;\n",
    "dt_sim = round(Int, t_offset[2]-t_offset[1])"
   ]
  },
  {
   "cell_type": "code",
   "execution_count": 7,
   "metadata": {},
   "outputs": [
    {
     "ename": "UndefVarError",
     "evalue": "UndefVarError: vm not defined",
     "output_type": "error",
     "traceback": [
      "UndefVarError: vm not defined",
      "",
      "Stacktrace:",
      " [1] top-level scope at In[7]:1"
     ]
    }
   ],
   "source": [
    "histogram(vm[reduced])"
   ]
  },
  {
   "cell_type": "code",
   "execution_count": 8,
   "metadata": {},
   "outputs": [
    {
     "data": {
      "text/plain": [
       "0.0"
      ]
     },
     "execution_count": 8,
     "metadata": {},
     "output_type": "execute_result"
    }
   ],
   "source": [
    "p_dict = read_JSON(\"params.json\", is_type = Dict{Symbol, Float64});\n",
    "u_dict = read_JSON(\"conds.json\", is_type = Dict{Symbol, Float64});\n",
    "#If you want to see the effects of diffusion then adjust D\n",
    "p_dict[:σ] = 0.1\n",
    "p_dict[:τw] = 1000.0  \n",
    "p_dict[:I_app] = 0.0"
   ]
  },
  {
   "cell_type": "code",
   "execution_count": 9,
   "metadata": {},
   "outputs": [
    {
     "name": "stdout",
     "output_type": "stream",
     "text": [
      "Time it took to simulate 200ms:\n"
     ]
    },
    {
     "ename": "UndefVarError",
     "evalue": "UndefVarError: dt_sim not defined",
     "output_type": "error",
     "traceback": [
      "UndefVarError: dt_sim not defined",
      "",
      "Stacktrace:",
      " [1] top-level scope at util.jl:155",
      " [2] top-level scope at In[9]:6"
     ]
    }
   ],
   "source": [
    "p0 = map(x -> Float64(p_dict[x]), BurstModel.params);\n",
    "u0 = map(x -> Float64(u_dict[x]), BurstModel.syms);\n",
    "tspan = (0.0, 300e3);\n",
    "SDEprob = SDEProblem(BurstModel, noise, u0, tspan, p0)\n",
    "println(\"Time it took to simulate 200ms:\")\n",
    "@time sol = solve(SDEprob, SOSRI(), abstol = 2e-2, reltol = 2e-2,  maxiters = 1e7, saveat = dt_sim);"
   ]
  },
  {
   "cell_type": "code",
   "execution_count": 10,
   "metadata": {},
   "outputs": [
    {
     "ename": "UndefVarError",
     "evalue": "UndefVarError: t_offset not defined",
     "output_type": "error",
     "traceback": [
      "UndefVarError: t_offset not defined",
      "",
      "Stacktrace:",
      " [1] top-level scope at In[10]:1"
     ]
    }
   ],
   "source": [
    "##Plotting this is expensive, so don't do it often\n",
    "xlims = (0, t_offset[end])\n",
    "ellapsed_time = (xlims[end]-xlims[1])/1000\n",
    "dt_lims = 5e3\n",
    "xticks = (collect(xlims[1]:dt_lims:xlims[2]), collect(0:(dt_lims/1000):ellapsed_time))\n",
    "ylims = (-90.0, 0.0)\n",
    "yticks = (collect(ylims[1]:5:ylims[2]))\n",
    "\n",
    "p = plot(xlabel = \"time (s)\", ylabel = \"membrane voltage (mV)\")\n",
    "plot!(p, sol, vars = [:v], label = \"Model data\", \n",
    "    lw = 2.0, c = :blue)\n",
    "plot!(p, t_offset, vm[reduced].+v_offset, label = \"Experimental Data\", \n",
    "    lw = 2.0, c = :green,\n",
    "    xlims = xlims, xticks = xticks, \n",
    "    ylims = ylims, yticks = yticks\n",
    ")"
   ]
  },
  {
   "cell_type": "markdown",
   "metadata": {},
   "source": [
    "# Fitting the model"
   ]
  },
  {
   "cell_type": "markdown",
   "metadata": {},
   "source": [
    "#### Lagged Mean Square Error\n",
    "##### Each time series has $t$ time points. Each $t$ will be offset and the mean squared error will be calculated from that. The best mean square error will be recorded and this is the lagged loss of the time series. "
   ]
  },
  {
   "cell_type": "code",
   "execution_count": 13,
   "metadata": {},
   "outputs": [],
   "source": [
    "Ŷ = map(t -> sol(t)[1], sol.t)\n",
    "Y = vm[reduced].+v_offset\n",
    "old_rng = (minimum(Y), maximum(Y))\n",
    "f_norm(x) = normalize(x; old_rng = old_rng)\n",
    "Ŷ_norm = Ŷ |> f_norm;\n",
    "Y_norm = Y |> f_norm;"
   ]
  },
  {
   "cell_type": "code",
   "execution_count": 14,
   "metadata": {},
   "outputs": [
    {
     "data": {
      "text/plain": [
       "(16.58555636722266, 54000.0)"
      ]
     },
     "execution_count": 14,
     "metadata": {},
     "output_type": "execute_result"
    }
   ],
   "source": [
    "min_loss, lag = lagged_loss(Ŷ_norm, Y_norm, weights = [1.0, 10.0])"
   ]
  },
  {
   "cell_type": "code",
   "execution_count": 15,
   "metadata": {},
   "outputs": [
    {
     "data": {
      "image/png": "[encoded data removed]"
     },
     "execution_count": 15,
     "metadata": {},
     "output_type": "execute_result"
    }
   ],
   "source": [
    "i = lag\n",
    "fit_rng = Int.(collect(i:(t_offset[end]+i-1)))\n",
    "p = plot()\n",
    "plot!(p, Ŷ_norm[fit_rng], c = :blue, lw = :2.0, label = \"Normalized Model\")\n",
    "plot!(p, Y_norm, c = :green, lw = :2.0, label = \"Normalized Data\",\n",
    "    xlims = xlims, xticks = xticks\n",
    ")\n",
    "xlabel!(p, \"Normalized Amplitude\")"
   ]
  },
  {
   "cell_type": "markdown",
   "metadata": {},
   "source": [
    "### Monte Carlo Approach to fitting "
   ]
  },
  {
   "cell_type": "code",
   "execution_count": 110,
   "metadata": {},
   "outputs": [],
   "source": [
    "p_dict = read_JSON(\"params.json\", is_type = Dict{Symbol, Float64});\n",
    "u_dict = read_JSON(\"conds.json\", is_type = Dict{Symbol, Float64});"
   ]
  },
  {
   "cell_type": "code",
   "execution_count": 111,
   "metadata": {},
   "outputs": [
    {
     "name": "stdout",
     "output_type": "stream",
     "text": [
      "Time it took to simulate 200ms:\n",
      "  2.189659 seconds (19.11 M allocations: 402.116 MiB, 2.21% gc time)\n"
     ]
    }
   ],
   "source": [
    "p0 = map(x -> Float64(p_dict[x]), BurstModel.params);\n",
    "u0 = map(x -> Float64(u_dict[x]), BurstModel.syms);\n",
    "tspan = (0.0, 300e3);\n",
    "prob = SDEProblem(BurstModel, noise, u0, tspan, p0)\n",
    "println(\"Time it took to simulate 200ms:\")\n",
    "@time sol = solve(prob, SOSRA(), abstol = 2e-2, reltol = 2e-2, maxiters = 1e7, saveat = dt_sim);"
   ]
  },
  {
   "cell_type": "code",
   "execution_count": 112,
   "metadata": {},
   "outputs": [
    {
     "data": {
      "text/plain": [
       "Dict{Symbol,Tuple} with 32 entries:\n",
       "  :V1     => (-20.0, 0.2, -Inf, 0.0)\n",
       "  :V2     => (20.0, 0.2, 0.0, Inf)\n",
       "  :E_Ca   => (40.0, 0.4, 0.0, Inf)\n",
       "  :g_K    => (5.0, 0.05, 0.0, Inf)\n",
       "  :g_TREK => (2.0, 0.02, 0.0, Inf)\n",
       "  :g_leak => (2.0, 0.02, 0.0, Inf)\n",
       "  :τc     => (2000.0, 20.0, 0.0, Inf)\n",
       "  :α      => (62.5, 0.625, 0.0, Inf)\n",
       "  :D      => (0.01, 0.0001, 0.0, Inf)\n",
       "  :V4     => (7.0, 0.07, 0.0, Inf)\n",
       "  :τa     => (8300.0, 83.0, 0.0, Inf)\n",
       "  :V0     => (-40.0, 0.4, -Inf, 0.0)\n",
       "  :σ      => (8.0, 0.08, 0.0, Inf)\n",
       "  :τACh   => (540.0, 5.4, 0.0, Inf)\n",
       "  :k_d    => (0.05, 0.0005, 0.0, Inf)\n",
       "  :λ      => (2.702, 0.02702, 0.0, Inf)\n",
       "  :C_m    => (22.0, 0.22, 0.0, Inf)\n",
       "  :k      => (0.2, 0.002, 0.0, Inf)\n",
       "  :δ      => (0.010503, 0.00010503, 0.0, Inf)\n",
       "  :β      => (4.25, 0.0425, 0.0, Inf)\n",
       "  :g_Ca   => (10.0, 0.1, 0.0, Inf)\n",
       "  :ρ      => (0.04, 0.0004, 0.0, Inf)\n",
       "  :E_K    => (-90.0, 0.9, -Inf, 0.0)\n",
       "  :E_ACh  => (0.0, 0.0, -Inf, Inf)\n",
       "  :τb     => (8300.0, 83.0, 0.0, Inf)\n",
       "  ⋮       => ⋮"
      ]
     },
     "execution_count": 112,
     "metadata": {},
     "output_type": "execute_result"
    }
   ],
   "source": [
    "dists = create_distributions(BurstModel.params, p0; std = 0.01)\n",
    "#write_JSON(dists, \"dists.json\")"
   ]
  },
  {
   "cell_type": "code",
   "execution_count": 113,
   "metadata": {},
   "outputs": [],
   "source": [
    "n_sims = 100\n",
    "par = :all\n",
    "p_range = LinRange(0.01, 0.1, n_sims)\n",
    "d_dict = read_JSON(\"dists.json\", is_type = Dict{Symbol, Tuple});"
   ]
  },
  {
   "cell_type": "code",
   "execution_count": 1,
   "metadata": {},
   "outputs": [
    {
     "ename": "UndefVarError",
     "evalue": "UndefVarError: d_dict not defined",
     "output_type": "error",
     "traceback": [
      "UndefVarError: d_dict not defined",
      "",
      "Stacktrace:",
      " [1] (::var\"#3#4\")(::Symbol) at .\\In[1]:2",
      " [2] iterate at .\\generator.jl:47 [inlined]",
      " [3] _collect(::Array{Symbol,1}, ::Base.Generator{Array{Symbol,1},var\"#3#4\"}, ::Base.EltypeUnknown, ::Base.HasShape{1}) at .\\array.jl:635",
      " [4] collect_similar(::Array{Symbol,1}, ::Base.Generator{Array{Symbol,1},var\"#3#4\"}) at .\\array.jl:564",
      " [5] map(::Function, ::Array{Symbol,1}) at .\\abstractarray.jl:2073",
      " [6] top-level scope at In[1]:2"
     ]
    }
   ],
   "source": [
    "p_opt = [:g_K, :g_Ca, :g_leak, :g_TREK, :g_ACh]\n",
    "d_opt = map(sym -> d_dict[sym], p_opt)"
   ]
  },
  {
   "cell_type": "code",
   "execution_count": 79,
   "metadata": {},
   "outputs": [
    {
     "data": {
      "text/plain": [
       "#181 (generic function with 1 method)"
      ]
     },
     "execution_count": 79,
     "metadata": {},
     "output_type": "execute_result"
    }
   ],
   "source": [
    "loss_fn = (Ŷ, Y) -> lagged_loss(Ŷ, Y, weights = [1.0, 1.0])"
   ]
  },
  {
   "cell_type": "code",
   "execution_count": 139,
   "metadata": {},
   "outputs": [
    {
     "name": "stdout",
     "output_type": "stream",
     "text": [
      "Simulating initial point:\n",
      "  0.701018 seconds (2.59 M allocations: 93.740 MiB, 6.74% gc time)\n",
      "Initial Loss: 1.4451503944452933\n",
      "Iteration 1: Running Parallell simulations:\n",
      "  2.783000 seconds (13.79 M allocations: 488.054 MiB, 2.01% gc time)\n",
      "Iteration 1: Calculating losses\n",
      "Iteration 1: Loss has improved 1.4451503944452933 -> 0.5527141802627619\n",
      "Iteration 2: Running Parallell simulations:\n",
      "  2.895135 seconds (13.93 M allocations: 490.764 MiB, 4.57% gc time)\n",
      "Iteration 2: Calculating losses\n",
      "Iteration 2: Loss has improved 0.5527141802627619 -> 0.40993395436203967\n",
      "Iteration 3: Running Parallell simulations:\n",
      "  2.591117 seconds (13.66 M allocations: 485.260 MiB, 4.49% gc time)\n",
      "Iteration 3: Calculating losses\n",
      "Iteration 3: Loss has not improved 0.40993395436203967 <=> 0.667921392045545\n",
      "Iteration 4: Will run 30\n",
      "Iteration 4: Running Parallell simulations:\n",
      " 17.526733 seconds (83.09 M allocations: 2.867 GiB, 9.55% gc time)\n",
      "Iteration 4: Calculating losses\n",
      "Iteration 4: Loss has not improved 0.40993395436203967 <=> 0.8013402039109884\n",
      "Iteration 5: Will run 55\n",
      "Iteration 5: Running Parallell simulations:\n",
      " 34.872802 seconds (152.74 M allocations: 5.263 GiB, 16.28% gc time)\n",
      "Iteration 5: Calculating losses\n",
      "Iteration 5: Loss has not improved 0.40993395436203967 <=> 0.5153120824732371\n",
      "Iteration 6: Will run 80\n",
      "Iteration 6: Running Parallell simulations:\n",
      " 53.215779 seconds (221.27 M allocations: 7.638 GiB, 28.90% gc time)\n",
      "Iteration 6: Calculating losses\n",
      "Iteration 6: Loss has improved 0.40993395436203967 -> 0.36374593488998047\n",
      "Iteration 7: Running Parallell simulations:\n",
      " 65.576940 seconds (220.50 M allocations: 7.623 GiB, 34.25% gc time)\n",
      "Iteration 7: Calculating losses\n",
      "Iteration 7: Loss has not improved 0.36374593488998047 <=> 0.6543046843490611\n",
      "Iteration 8: Will run 105\n",
      "Iteration 8: Running Parallell simulations:\n",
      " 80.573315 seconds (288.76 M allocations: 9.991 GiB, 34.96% gc time)\n",
      "Iteration 8: Calculating losses\n",
      "Iteration 8: Loss has not improved 0.36374593488998047 <=> 0.39802722259653955\n",
      "Iteration 9: Will run 130\n",
      "Iteration 9: Running Parallell simulations:\n",
      "122.891690 seconds (358.60 M allocations: 12.392 GiB, 43.35% gc time)\n",
      "Iteration 9: Calculating losses\n",
      "Iteration 9: Loss has improved 0.36374593488998047 -> 0.3372054736278968\n",
      "Iteration 10: Running Parallell simulations:\n",
      "157.294521 seconds (354.84 M allocations: 12.326 GiB, 48.19% gc time)\n",
      "Iteration 10: Calculating losses\n",
      "Iteration 10: Loss has not improved 0.3372054736278968 <=> 0.34172648472797734\n",
      "Iteration 11: Will run 155\n"
     ]
    }
   ],
   "source": [
    "optimal_sim, loss_record, dParLoss = evolve(prob, d_dict, Y_norm;\n",
    "    loss_fxn = loss_fn, par = par, iterations = 10, verbose = true);"
   ]
  },
  {
   "cell_type": "code",
   "execution_count": 150,
   "metadata": {},
   "outputs": [
    {
     "data": {
      "image/png": "[encoded data removed]"
     },
     "execution_count": 150,
     "metadata": {},
     "output_type": "execute_result"
    }
   ],
   "source": [
    "p1 = plot(dParLoss[(:τw |> p_find)[1], :])\n",
    "p2 = plot(dParLoss[(:σ |> p_find)[1], :])\n",
    "p_loss = plot(loss_record, label = \"Overall Loss\")\n",
    "plot(p1, p2, p_loss, layout = grid(3,1))"
   ]
  },
  {
   "cell_type": "code",
   "execution_count": 143,
   "metadata": {},
   "outputs": [
    {
     "data": {
      "text/plain": [
       "768"
      ]
     },
     "execution_count": 143,
     "metadata": {},
     "output_type": "execute_result"
    }
   ],
   "source": [
    "optimal_p = optimal_sim.p\n",
    "keys = Tuple(BurstModel.params)\n",
    "opt_p = NamedTuple{keys}(optimal_p);\n",
    "write_JSON(opt_p, \"optimal_pars.json\")"
   ]
  },
  {
   "cell_type": "code",
   "execution_count": 151,
   "metadata": {},
   "outputs": [
    {
     "name": "stdout",
     "output_type": "stream",
     "text": [
      "Dict(:a => 0.5,:b => 0.5,:n => 0.0,:ACh => 0.0,:v => -60.0,:W => 0.0,:c => 0.085)\n"
     ]
    }
   ],
   "source": [
    "p_dict = read_JSON(\"optimal_pars.json\", is_type = Dict{Symbol, Float64});\n",
    "u_dict = read_JSON(\"conds.json\", is_type = Dict{Symbol, Float64});\n",
    "\n",
    "#p_dict[:ρ] = 0.5\n",
    "#p_dict[:D] = 0.01\n",
    "#p_dict[:k_d] = 0.04\n",
    "#p_dict[:g_ACh] = 1.0\n",
    "\n",
    "pi = extract_dict(p_dict, BurstModel.params);\n",
    "println(u_dict)\n",
    "u0 = extract_dict(u_dict, BurstModel.syms);\n",
    "tspan = (0.0, 300e3);"
   ]
  },
  {
   "cell_type": "code",
   "execution_count": 152,
   "metadata": {},
   "outputs": [
    {
     "name": "stdout",
     "output_type": "stream",
     "text": [
      "Time it took to simulate 200ms:\n",
      "  2.975300 seconds (2.67 M allocations: 95.108 MiB, 73.36% gc time)\n"
     ]
    }
   ],
   "source": [
    "prob = SDEProblem(BurstModel, noise, u0, tspan, pi)\n",
    "println(\"Time it took to simulate 200ms:\")\n",
    "@time sol = solve(prob, SOSRA(), abstol = 2e-1, reltol = 2e-1, maxiter = 1e7, saveat = dt_sim);"
   ]
  },
  {
   "cell_type": "code",
   "execution_count": 153,
   "metadata": {},
   "outputs": [
    {
     "data": {
      "image/png": "[encoded data removed]"
     },
     "execution_count": 153,
     "metadata": {},
     "output_type": "execute_result"
    }
   ],
   "source": [
    "plot(sol, vars = [:v])"
   ]
  },
  {
   "cell_type": "code",
   "execution_count": 120,
   "metadata": {},
   "outputs": [
    {
     "name": "stdout",
     "output_type": "stream",
     "text": [
      "1.4207145655349247\n"
     ]
    },
    {
     "data": {
      "image/png": "[encoded data removed]"
     },
     "execution_count": 120,
     "metadata": {},
     "output_type": "execute_result"
    }
   ],
   "source": [
    "Ŷ = map(t -> sol(t)[1], sol.t)\n",
    "old_rng = (minimum(Y), maximum(Y))\n",
    "Ŷ_norm = Ŷ |> x -> normalize(x; old_rng = old_rng)\n",
    "min_loss, lag = lagged_loss(Ŷ_norm, Y_norm; weights = [1, 1])\n",
    "i = lag\n",
    "println(min_loss)\n",
    "fit_rng = Int.(collect(lag:(100e3+lag-1)))\n",
    "p = plot()\n",
    "plot!(p, Ŷ_norm[fit_rng], c = :blue, lw = :2.0, label = \"Normalized Patch\")\n",
    "plot!(p, Y_norm, c = :green, lw = :2.0, label = \"Normalized Model\",\n",
    "#    xlims = xlims, xticks = xticks\n",
    ")\n",
    "xlabel!(p, \"Normalized Amplitude\")"
   ]
  },
  {
   "cell_type": "code",
   "execution_count": 121,
   "metadata": {},
   "outputs": [
    {
     "name": "stdout",
     "output_type": "stream",
     "text": [
      "g_leak = 1.99519244290093\n",
      "E_leak = -68.891088842849\n",
      "g_Ca = 9.718417954506501\n",
      "V1 = -19.453812642032336\n",
      "V2 = 19.86455396831743\n",
      "E_Ca = 40.23030537330822\n",
      "g_K = 5.057377165576645\n",
      "E_K = -92.48336607789155\n",
      "g_TREK = 2.050733984056828\n",
      "g_ACh = 1.056957521545357\n",
      "k_d = 0.04893778529232928\n",
      "E_ACh = 0.0\n",
      "I_app = 0.0\n",
      "C_m = 22.607297071696276\n",
      "V3 = -25.93797904342085\n",
      "V4 = 6.739674663778372\n",
      "τn = 4.938533206493982\n",
      "C_0 = 0.0908570423758191\n",
      "λ = 2.6737931874651357\n",
      "δ = 0.010618614178235172\n",
      "τc = 1975.3885037992036\n",
      "α = 61.662722909415606\n",
      "τa = 8086.684734334368\n",
      "β = 4.312767143698622\n",
      "τb = 8409.930336748375\n",
      "ρ = 0.040162029867567825\n",
      "τACh = 541.0474231486772\n",
      "k = 0.1976337426348073\n",
      "V0 = -40.1571704056911\n",
      "σ = 7.9043119301373315\n",
      "D = 0.009552274883724033\n",
      "τw = 4.148955413768669\n"
     ]
    }
   ],
   "source": [
    "fold_change = zeros(length(optimal_p))\n",
    "for (idx, val) in enumerate(optimal_sim.p)\n",
    "    fold_change[idx] = val/p0[idx]\n",
    "    println(\"$(BurstModel.params[idx]) = $(val)\")\n",
    "end"
   ]
  },
  {
   "cell_type": "code",
   "execution_count": 123,
   "metadata": {},
   "outputs": [
    {
     "data": {
      "image/png": "[encoded data removed]"
     },
     "execution_count": 123,
     "metadata": {},
     "output_type": "execute_result"
    }
   ],
   "source": [
    "bar(fold_change .- 1.0, xticks = (1:length(BurstModel.params), BurstModel.params), xrotation=-45)"
   ]
  },
  {
   "cell_type": "code",
   "execution_count": null,
   "metadata": {},
   "outputs": [],
   "source": [
    "#d0 = extract_dict(d_dict, par);\n",
    "#prob_func(prob, i, repeat) = ensemble_func(prob, i, repeat; pars = [par], par_range = p_range)\n",
    "d0 = extract_dict(d_dict, BurstModel.params);\n",
    "prob_func(prob, i, repeat) = monte_func(prob, i, repeat; pars = par, dists = d0)"
   ]
  },
  {
   "cell_type": "code",
   "execution_count": null,
   "metadata": {},
   "outputs": [],
   "source": [
    "ensemble_prob = EnsembleProblem(prob, prob_func = prob_func)\n",
    "@time sim = solve(ensemble_prob, SRIW1(), saveat = dt_sim, maxiters = 1e7, trajectories = n_sims, EnsembleThreads());"
   ]
  },
  {
   "cell_type": "code",
   "execution_count": null,
   "metadata": {},
   "outputs": [],
   "source": [
    "histogram(losses)"
   ]
  },
  {
   "cell_type": "code",
   "execution_count": null,
   "metadata": {},
   "outputs": [],
   "source": [
    "#p_rng1 = map(traj -> traj.prob.p[(par[1] |> p_find)[1]], sim[:]);\n",
    "#plot(p_rng1, losses, seriestype = :scatter)"
   ]
  },
  {
   "cell_type": "code",
   "execution_count": null,
   "metadata": {},
   "outputs": [],
   "source": []
  },
  {
   "cell_type": "code",
   "execution_count": null,
   "metadata": {},
   "outputs": [],
   "source": [
    "p_rng1 = map(traj -> traj.prob.p[(par[1] |> p_find)[1]], sim[:]);\n",
    "p_rng2 = map(traj -> traj.prob.p[(par[2] |> p_find)[1]], sim[:]);"
   ]
  },
  {
   "cell_type": "code",
   "execution_count": null,
   "metadata": {},
   "outputs": [],
   "source": [
    "over_loss = findall(x -> x > min_loss, losses)\n",
    "under_loss = findall(x -> x < min_loss, losses)\n",
    "plot(p_rng1, p_rng2, losses, \n",
    "    seriestype = :scatter, c = :red, \n",
    "    xlabel = par[1], ylabel = par[2], zlabel = \"Loss\")"
   ]
  },
  {
   "cell_type": "code",
   "execution_count": null,
   "metadata": {},
   "outputs": [],
   "source": [
    "opt_p1 = sim[argmin(losses)].prob.p[(par[1] |> p_find)[1]]\n",
    "opt_p2 = sim[argmin(losses)].prob.p[(par[2] |> p_find)[1]]\n",
    "println(opt_p1, opt_p2)"
   ]
  },
  {
   "cell_type": "code",
   "execution_count": null,
   "metadata": {},
   "outputs": [],
   "source": [
    "p = plot()\n",
    "for (idx, traj) in enumerate(sim)\n",
    "    Ŷ = map(t -> traj(t)[1], traj.t)\n",
    "    f_norm(x) = normalize(x; old_rng = old_rng)\n",
    "    Ŷ_norm = Ŷ |> f_norm\n",
    "    loss, lag = lagged_loss(Ŷ_norm, Y_norm)\n",
    "    t_limited = LinRange(lag, lag+100e3-1, 500)\n",
    "    vt = map(x -> traj(x)[1], t_limited)\n",
    "    nt = map(x -> traj(x)[2], t_limited)\n",
    "    z = repeat([p_rng[idx]], length(nt))\n",
    "    plot!(p, z, vt, nt, line_z = loss, clims = (minimum(losses), maximum(losses)))\n",
    "end\n",
    "p"
   ]
  },
  {
   "cell_type": "markdown",
   "metadata": {},
   "source": [
    "## Idea 1\n",
    "Calculating mean squared error for a single time point"
   ]
  },
  {
   "cell_type": "code",
   "execution_count": null,
   "metadata": {},
   "outputs": [],
   "source": [
    "#Our model should be warmed-up from above. ALl we have to do is save the endpoint\n",
    "x_guess = @SArray [vm_sec[1], 0.0, 0.0, 0.0, 0.0, 0.0]\n",
    "@time model = init_model(8000.0, params; wu_tmax = 0.0, initial_x = x_guess);\n",
    "println(\"Running simulation for 60s:\");\n",
    "@time traj, data = model(alg = Rosenbrock23(), saveat = 10.0);"
   ]
  },
  {
   "cell_type": "code",
   "execution_count": null,
   "metadata": {},
   "outputs": [],
   "source": [
    "plot(data)"
   ]
  },
  {
   "cell_type": "code",
   "execution_count": null,
   "metadata": {},
   "outputs": [],
   "source": [
    "p_t0 = vm_sec[1]\n",
    "s_t0 = traj[1][1]\n",
    "p_t1 = vm_sec[Int(1.0/dt)]\n",
    "s_t1 = traj[end][1]\n",
    "\n",
    "\n",
    "println(\"Phys t0: $p_t0\")\n",
    "println(\"Sim t0: $s_t0\")\n",
    "println(\"Phys t1: $p_t1\")\n",
    "println(\"Sim t0: $s_t1\")"
   ]
  },
  {
   "cell_type": "code",
   "execution_count": null,
   "metadata": {},
   "outputs": [],
   "source": [
    "#Making mean squared error loss function\n",
    "LpNORM(x, p) = sum(x.^p)^(1/p) #This is a basic normalization of the data\n",
    "L2NORM(x) = LpNORM(x, 2) #This is the typical L2 Normalizations\n",
    "MSE(Ȳ, Y) = L2NORM(Ȳ - Y)/(length(Ȳ))"
   ]
  },
  {
   "cell_type": "code",
   "execution_count": null,
   "metadata": {},
   "outputs": [],
   "source": [
    "\"\"\"\n",
    "This function utilizes monte carlo simulations to stepwise optimize our model. \n",
    "\"\"\"\n",
    "to_optimize = [\"alpha\", \"beta\", \"tau_B\", \"tau_A\"]\n",
    "function param_optimizer(data, params; step_size = 100.0, dt = 5e-5, n_sims = 100, pars_to_opt = to_optimize, verbose = true)\n",
    "    @assert step_size > dt\n",
    "    n_steps = data |> length\n",
    "    v_i = data[1] #This begins the initial simulated point. Each simulation begins here\n",
    "    \n",
    "    #define initial conditions\n",
    "    xᵢ = [v_i, 0.0, 0.0, 0.0, 0.0, 0.0]\n",
    "    θᵢ = copy(params) \n",
    "    lossᵢ = Inf\n",
    "    for i = 1:step_size:n_steps-step_size\n",
    "        xᵢ[1] = v_i\n",
    "        model = init_model(i, θᵢ; wu_tmax = 0.0, initial_x = xᵢ)\n",
    "        sol, _ = model(alg = Rosenbrock23(), save_everystep = false)\n",
    "        lossᵢ = MSE(data[Int(i/dt)], sol[end][1])\n",
    "         \n",
    "        #println(\"Initial loss = $lossᵢ\") \n",
    "                             \n",
    "        for sim = 1:n_sims\n",
    "            #Randomize initial points\n",
    "            x₀ = xᵢ#map(x -> x>=0 ? rand(truncated(Normal(x), 0, 1)) : x, xᵢ)\n",
    "            θ₀ = copy(θᵢ);\n",
    "            #Randomize parameters\n",
    "            for p in θᵢ\n",
    "                if (findall(x -> x == p[1], pars_to_opt) |> length) <= 0\n",
    "                    if p[2] > 0\n",
    "                        θ₀[p[1]] = rand(Gamma(p[2]))\n",
    "                    else\n",
    "                        θ₀[p[1]] = rand(Normal(p[2]))\n",
    "                    end\n",
    "                else\n",
    "                    θ₀[p[1]] = p[2]\n",
    "                end\n",
    "            end\n",
    "            \n",
    "            #Calculate the loss on the model\n",
    "            model = init_model(i, θ₀; wu_tmax = 0.0, initial_x = x₀)\n",
    "            sol, _ = model(alg = Rosenbrock23(), save_everystep = false)\n",
    "            loss₀ = MSE(data[Int(i/dt)], sol[end][1])\n",
    "            \n",
    "            if loss₀ < lossᵢ\n",
    "                #println(\"Loss has improved $loss₀\") \n",
    "                lossᵢ = loss₀\n",
    "                θᵢ = θ₀\n",
    "                xᵢ = x₀                \n",
    "            end\n",
    "        end\n",
    "        #println(\"Best loss of step $i: $lossᵢ\") \n",
    "    end\n",
    "    println(\"Optimal Loss: $lossᵢ\")\n",
    "    return θᵢ, xᵢ\n",
    "end"
   ]
  },
  {
   "cell_type": "code",
   "execution_count": null,
   "metadata": {},
   "outputs": [],
   "source": [
    "@time pars_opt, x_opt = param_optimizer(vm_sec, params)"
   ]
  },
  {
   "cell_type": "code",
   "execution_count": null,
   "metadata": {},
   "outputs": [],
   "source": [
    "tmax = 120e3;\n",
    "dt_model = 10.0\n",
    "println(\"Warming model up:\");\n",
    "@time model= init_model(tmax, params; model = RetinalChaos.V1_Tarchick_1D, name = \"Vector\");\n",
    "println(\"Running simulation for 60s:\");\n",
    "@time traj, data = model(alg = Rosenbrock23(), saveat = dt_model);"
   ]
  },
  {
   "cell_type": "code",
   "execution_count": null,
   "metadata": {},
   "outputs": [],
   "source": [
    "plot(data)"
   ]
  },
  {
   "cell_type": "code",
   "execution_count": null,
   "metadata": {},
   "outputs": [],
   "source": [
    "using Distributions"
   ]
  },
  {
   "cell_type": "markdown",
   "metadata": {},
   "source": [
    "### Bayesian Model Estimation"
   ]
  },
  {
   "cell_type": "code",
   "execution_count": null,
   "metadata": {},
   "outputs": [],
   "source": [
    "f1 = @ode_def begin\n",
    "  dx = a*x - b*x*y\n",
    "  dy = -c*y + d*x*y\n",
    "    end a b c d;"
   ]
  },
  {
   "cell_type": "code",
   "execution_count": null,
   "metadata": {},
   "outputs": [],
   "source": [
    "p_tru = [1.5,1.0,3.0,1.0];\n",
    "p = rand(4)\n",
    "u0 = [1.0,1.0];\n",
    "tspan = (0.0,10.0);\n",
    "prob1 = ODEProblem(f1,u0,tspan,p);\n",
    "sol = solve(prob1,Tsit5());"
   ]
  },
  {
   "cell_type": "code",
   "execution_count": null,
   "metadata": {},
   "outputs": [],
   "source": [
    "σ = 0.01 ;                        # noise, fixed for now\n",
    "t = collect(range(1,stop=10,length=10)); # observation times"
   ]
  },
  {
   "cell_type": "code",
   "execution_count": null,
   "metadata": {},
   "outputs": [],
   "source": [
    "#randomized = VectorOfArray([(sol(t[i]) + σ * randn(2)) for i in 1:length(t)]);\n",
    "#data = convert(Array,randomized);"
   ]
  },
  {
   "cell_type": "code",
   "execution_count": null,
   "metadata": {},
   "outputs": [],
   "source": [
    "plot(sol)\n",
    "plot!(data', seriestype = :scatter)"
   ]
  },
  {
   "cell_type": "code",
   "execution_count": null,
   "metadata": {},
   "outputs": [],
   "source": [
    "#priors = [Gamma(p[1],0.1),truncated(Normal(p[2],0.1),0,1.5),\n",
    "#          truncated(Normal(p[3],0.1),0,4),truncated(Normal(p[4],0.1),0,2)];\n",
    "priors = [Gamma(p[1]),Gamma(p[2]), Gamma(p[3]), Gamma(p[4])];"
   ]
  },
  {
   "cell_type": "code",
   "execution_count": null,
   "metadata": {},
   "outputs": [],
   "source": []
  },
  {
   "cell_type": "code",
   "execution_count": null,
   "metadata": {},
   "outputs": [],
   "source": [
    "println(\"True parameters : $p_tru\")\n",
    "println(\"Initial Parameters : $p\")\n",
    "result_abc = abc_inference(prob1, Tsit5(), t, data, priors;\n",
    "                                num_samples=1000, ϵ = 0.001);\n",
    "\n",
    "p_opt = mean(result_abc.parameters, weights(result_abc.weights), dims = 1)"
   ]
  },
  {
   "cell_type": "code",
   "execution_count": null,
   "metadata": {},
   "outputs": [],
   "source": []
  },
  {
   "cell_type": "code",
   "execution_count": null,
   "metadata": {},
   "outputs": [],
   "source": [
    "plot(sol)\n",
    "plot!(sol_opt)\n",
    "plot!(data', seriestype = :scatter)"
   ]
  },
  {
   "cell_type": "code",
   "execution_count": null,
   "metadata": {},
   "outputs": [],
   "source": [
    "g_leak = 2.0\n",
    "E_leak = -70.0\n",
    "\n",
    "g_Ca = 10.0\n",
    "E_Ca = 40.0\n",
    "V1 = -20.0\n",
    "V2 = 20.0\n",
    "\n",
    "g_K = 7.0\n",
    "E_K = -90.0\n",
    "V3 = -25.0\n",
    "V4 = 7.0 \n",
    "τn = 5.0 \n",
    "\n",
    "C_0 = 88.0\n",
    "λ = 2.702\n",
    "δ = 10.503\n",
    "τc = 2000.0\n",
    "\n",
    "\n",
    "I_app = 0.0;\n",
    "C_m = 22.0;\n",
    "α  = 6.25e-10\n",
    "β = 4.25\n",
    "τa = 8300.0;\n",
    "τb = 8300.0;\n",
    "g_sAHP = 2.0\n",
    "\n",
    "ρ = 1.0\n",
    "τACh = 200.0\n",
    "κ = 0.2\n",
    "V0 = -40.0"
   ]
  },
  {
   "cell_type": "code",
   "execution_count": null,
   "metadata": {},
   "outputs": [],
   "source": [
    "minf(v::T where T, V_1::T where T, V_2::T where T) = (1 + tanh((v - V_1)/V_2))/2\n",
    "ninf(v::T where T, V_3::T where T, V_4::T where T) = (1 + tanh((v - V_3)/V_4))/2\n",
    "Φ(v::T where T, κ::T where T, V_0::T where T)     = 1/(1 + exp(-κ * (v - V_0)))\n",
    "Λ(v::T where T, V_3::T where T, V_4::T where T)   = cosh((v - V_3)/(2 * V_4))"
   ]
  },
  {
   "cell_type": "code",
   "execution_count": null,
   "metadata": {},
   "outputs": [],
   "source": [
    "full_model = @ode_def begin\n",
    "    dv = ((-g_leak * (v - E_leak)) + (-g_Ca * minf(v, V1, V2) * (v - E_Ca)) + (-g_K * n * (v - E_K)) + (-g_sAHP * b * (v - E_K)) + I_app)/C_m\n",
    "    dn = (Λ(v, V3, V4) * ((ninf(v, V3, V4) - n)))/τn\n",
    "    dc = (C_0 + δ*(-g_Ca * minf(v, V1, V2)* (v - E_Ca)) - λ*c)/τc\n",
    "    da =  (α*c^4*(1-a) - a)/τa\n",
    "    db =  (β*a^4*(1-b) - b)/τb\n",
    "    dACh = (ρ*Φ(v, κ, V0) - ACh)/τACh\n",
    "end g_leak E_leak g_Ca E_Ca V1 V2 g_K E_K V3 V4 τn g_sAHP I_app C_m  C_0 λ δ τc α τa β τb κ V0 ρ τACh;"
   ]
  },
  {
   "cell_type": "code",
   "execution_count": null,
   "metadata": {},
   "outputs": [],
   "source": [
    "#Define the white noise process\n",
    "g()"
   ]
  },
  {
   "cell_type": "code",
   "execution_count": null,
   "metadata": {},
   "outputs": [],
   "source": [
    "u0 = [-70.0, 0.0, 0.0, 0.0, 0.0, 0.0];\n",
    "pars = [g_leak, E_leak, g_Ca, E_Ca, V1, V2,  g_K, E_K, V3, V4, τn, g_sAHP, I_app, C_m,  C_0, λ, δ, τc, α, τa, β, τb, κ, V0, ρ, τACh];\n",
    "tspan = (0.0, 30e3);\n",
    "prob = ODEProblem(secondary_model, u0, tspan, pars);\n",
    "println(\"Time it took to simulate 200ms:\")\n",
    "@time sol = solve(prob);"
   ]
  },
  {
   "cell_type": "code",
   "execution_count": null,
   "metadata": {},
   "outputs": [],
   "source": [
    "plot(sol, vars = [:v, :n, :c, :a, :b, :ACh], layout = grid(6, 1), size = (1000, 750))"
   ]
  },
  {
   "cell_type": "code",
   "execution_count": null,
   "metadata": {},
   "outputs": [],
   "source": [
    "u0 = [-70.0, 0.0, 0.0, 0.0, 0.0, 0.0];\n",
    "pars = [g_leak, E_leak, g_Ca, E_Ca, V1, V2,  g_K, E_K, V3, V4, τn, g_sAHP, I_app, C_m,  C_0, λ, δ, τc, α, τa, β, τb, κ, V0, ρ, τACh];\n",
    "tspan = (0.0, 30e3);\n",
    "prob = RODEProblem(secondary_model, u0, tspan, pars);\n",
    "println(\"Time it took to simulate 200ms:\")\n",
    "@time sol = solve(prob);"
   ]
  },
  {
   "cell_type": "markdown",
   "metadata": {},
   "source": [
    "#### We can use a combination of Principal Component analysis and Particle Swarm Analysis to optimize the parameters\n",
    "#### We can define the basic L2Norm and MeanSquaredError (MSE) loss functions "
   ]
  },
  {
   "cell_type": "code",
   "execution_count": null,
   "metadata": {},
   "outputs": [],
   "source": [
    "#These are our loss functions \n",
    "LpNORM(x, p) = sum(x.^p)^(1/p) #This is a basic normalization of the data\n",
    "L2NORM(x) = LpNORM(x, 2) #This is the typical L2 Normalizations\n",
    "MSE(Ȳ, Y) = L2NORM(Ȳ - Y)/(length(Ȳ))"
   ]
  },
  {
   "cell_type": "markdown",
   "metadata": {},
   "source": [
    "#### We implement the loss function we have constructed ourselves"
   ]
  },
  {
   "cell_type": "code",
   "execution_count": null,
   "metadata": {},
   "outputs": [],
   "source": [
    "#This is a more detailed aggregate loss function\n",
    "function loss_func(ȳ, y) \n",
    "    v̄ = ȳ.trace_mat[:, 1];\n",
    "    c̄ = ȳ.trace_mat[:, 5];\n",
    "    ā = ȳ.trace_mat[:, 3];\n",
    "    b̄ = ȳ.trace_mat[:, 4];\n",
    "    mse_v = MSE(v̄, y[1,:])       * 1\n",
    "    mse_c = MSE(c̄, y[3,:])       * 1/6\n",
    "    mse_a = MSE(ā, 1 .- y[26,:]) * 100  #a represents the ratio of cAMP gen/decay, so it is inverse\n",
    "    mse_b = MSE(b̄, y[33,:])      * 100  #b is related to TREK amount\n",
    "    #We add magnitudes to each mean squared error, because a and b are just as important as v and c\n",
    "    \n",
    "    #println(\"Loss = ($mse_v, $mse_c, $mse_a, $mse_b)\")\n",
    "    mse_v + mse_c + mse_a + mse_b\n",
    "end\n",
    "\n",
    "losses(sim) = map(x -> loss_func(data, x), sim[:])\n",
    "mean_loss(sim) = sum(losses(sim))/length(sim)\n",
    "min_loss(sim) = sim |> losses |> minimum "
   ]
  },
  {
   "cell_type": "markdown",
   "metadata": {},
   "source": [
    "###### First we construct an Ensemble (Monte Carlo) problem and simulate 100 trajectories"
   ]
  },
  {
   "cell_type": "code",
   "execution_count": null,
   "metadata": {},
   "outputs": [],
   "source": [
    "using DiffEqParamEstim, Optim\n",
    "using MultivariateStats, RDatasets, Plots"
   ]
  },
  {
   "cell_type": "code",
   "execution_count": null,
   "metadata": {},
   "outputs": [],
   "source": [
    "M = fit(PCA, xtr, maxoutdim = 2)"
   ]
  },
  {
   "cell_type": "code",
   "execution_count": null,
   "metadata": {},
   "outputs": [],
   "source": []
  }
 ],
 "metadata": {
  "kernelspec": {
   "display_name": "Julia 1.3.0",
   "language": "julia",
   "name": "julia-1.3"
  },
  "language_info": {
   "file_extension": ".jl",
   "mimetype": "application/julia",
   "name": "julia",
   "version": "1.3.0"
  }
 },
 "nbformat": 4,
 "nbformat_minor": 4
}
