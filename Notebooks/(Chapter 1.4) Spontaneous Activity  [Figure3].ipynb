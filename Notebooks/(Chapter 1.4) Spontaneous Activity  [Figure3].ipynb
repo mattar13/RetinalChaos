{
 "cells": [
  {
   "cell_type": "code",
   "execution_count": null,
   "metadata": {},
   "outputs": [],
   "source": [
    "#using DifferentialEquations\n",
    "using Plots, Colors, LaTeXStrings\n",
    "using Plots.Measures\n",
    "font_title = Plots.font(\"Arial\", 24)\n",
    "font_axis = Plots.font(\"Arial\", 12)\n",
    "font_legend = Plots.font(\"Arial\", 8)\n",
    "pyplot(titlefont=font_title, guidefont = font_axis, legendfont = font_legend)\n",
    "\n",
    "#Define different symbols used in the plotting\n",
    "delta = latexstring(\"\\$\\\\delta\\$\")\n",
    "micro = latexstring(\"\\$\\\\mu\\$\")\n",
    "vt = latexstring(\"\\$V_t\\$\")\n",
    "nt = latexstring(\"\\$N_t\\$\")\n",
    "bt = latexstring(\"\\$B_t\\$\")\n",
    "wt = latexstring(\"\\$W_t\\$\")\n",
    "i_ach = latexstring(\"\\$I_{ACh}\\$\")\n",
    "\n",
    "v_color = :deepskyblue\n",
    "n_color = :magenta\n",
    "c_color = :green\n",
    "a_color = :purple\n",
    "b_color = :red\n",
    "e_color = :blue\n",
    "w_color = :gray\n",
    "\n",
    "figure_path = \"C:/users/mtarc/JuliaScripts/RetinalChaos/Notebooks/Figures\""
   ]
  },
  {
   "cell_type": "code",
   "execution_count": null,
   "metadata": {},
   "outputs": [],
   "source": [
    "using StatsBase, Statistics, Distributions, StatsPlots"
   ]
  },
  {
   "cell_type": "markdown",
   "metadata": {},
   "source": [
    "# RetinalChaos.jl: An introduction\n",
    "### In order to understand the code published here, these notebooks will act as simple tutorials on both how the model was designed. \n",
    "\n",
    "## Table of contents:\n",
    "\n",
    "### _**[1] Introduction, Motivation, and Components**_\n",
    "#### [1.1] Voltage and Potassium gating components of the model\n",
    "#### [1.2] Calcium and the Biochemical Reactions of the sAHP\n",
    "#### [1.3] Acetylcholine Diffusion and Dynamics\n",
    "#### **[1.4] Gaussian White noise and dynamics**\n",
    "\n",
    "### [2] Analyzing Data Output of the model\n",
    "#### [2.1] Dynamical Analysis\n",
    "#### [2.2] Fitting Experimental Data (Patch)\n",
    "#### [2.3] Fitting Experimental Data (Multi-electrode array)\n",
    "#### [2.4] Fitting Experimental Data (Calcium Imageing) \n",
    "\n",
    "### [3] Experiments\n",
    "#### [3.1] Dual Eye Correlations\n",
    "#### [3.2] Recapitulations of older papers\n",
    "\n",
    "# Just to recap the model in full is \n",
    "\\begin{align}\n",
    "   C_m\\frac{dV}{dt} &= I_{leak}(V_t) + I_{Ca}(V_t) + I_K(V_t, N_t) + I_{TREK}(V_t, B_t) + I_{ACh}(V_t, A_t) + I_{app} + \\sigma W_t\\\\\n",
    "   \\tau_N\\frac{dN}{dt} &= \\Lambda(V_t)(N_\\infty(V_t) - N_t)\\\\\n",
    "   \\tau_C\\frac{dC}{dt} &= C_0 + \\delta I_{Ca}(V_t) -\\lambda  C_t\\\\\n",
    "   \\tau_A\\frac{dA}{dt} &= \\alpha * C_t^4 * \\left(1- A_t\\right) - A_t\\\\\n",
    "   \\tau_B\\frac{dB}{dt} &= \\beta * A_t^4 * (1 - B_t) - B_t\\\\\n",
    "   \\tau_E\\frac{dE}{dt} &=  D\\nabla^2 E_t + \\rho \\Phi(V_t) - E_t\\\\\n",
    "   \\tau_W\\frac{dW}{dt} &= -W_t\n",
    "\\end{align}\n"
   ]
  },
  {
   "cell_type": "markdown",
   "metadata": {},
   "source": [
    "### Adding In noise to the model"
   ]
  },
  {
   "cell_type": "code",
   "execution_count": null,
   "metadata": {},
   "outputs": [],
   "source": [
    "import RetinalChaos: read_JSON, extract_dict\n",
    "import RetinalChaos: T_sde\n",
    "import RetinalChaos: SDEProblem, solve, SOSRI"
   ]
  },
  {
   "cell_type": "code",
   "execution_count": null,
   "metadata": {},
   "outputs": [],
   "source": [
    "import RetinalChaos: ODEProblem, T_ode, codim_map"
   ]
  },
  {
   "cell_type": "code",
   "execution_count": null,
   "metadata": {},
   "outputs": [],
   "source": [
    "p_dict = read_JSON(\"params.json\");\n",
    "p_dict[:σ] = 0.1\n",
    "p_dict[:τw] = 1000.0\n",
    "p = p_dict |> extract_dict;\n",
    "u0 = read_JSON(\"conds.json\") |> extract_dict;\n",
    "tspan = (0.0, 300e3);\n",
    "dt = 1.0\n",
    "SDEprob = SDEProblem(T_sde, u0, tspan, p)\n",
    "println(\"Time it took to simulate 200ms:\")\n",
    "@time SDEsol = solve(SDEprob, SOSRI(), abstol = 2e-2, reltol = 2e-2, maxiters = 1e7, saveat = dt); "
   ]
  },
  {
   "cell_type": "code",
   "execution_count": null,
   "metadata": {},
   "outputs": [],
   "source": [
    "xlims = (100e3, 160e3) \n",
    "xticks = (collect(xlims[1]:5000:xlims[2]), collect(0:5.0:(xlims[1]-xlims[2]/1000)))\n",
    "fig3_A = plot(SDEsol,\n",
    "    xticks = xticks, \n",
    "    xlims = xlims,\n",
    "    vars = [:v, :b, :W], \n",
    "    xlabel = [\"\" \"\" \"Time (s)\"],\n",
    "    ylabel = [\"$vt (mV)\" \"$bt\" \"$wt (pA)\"],\n",
    "    labels = [\"\" \"\" \"\"],\n",
    "    c = [v_color b_color w_color], \n",
    "    lw = 2.0,\n",
    "    layout = grid(3, 1))\n",
    "title!(fig3_A[1], \"A\", title_location = :left);"
   ]
  },
  {
   "cell_type": "code",
   "execution_count": null,
   "metadata": {},
   "outputs": [],
   "source": [
    "xlims = (-15.0, 15.0); \n",
    "Wt = map(t->SDEsol(t)[7], SDEsol.t);\n",
    "fig3_B = histogram(Wt, c = :gray, \n",
    "    xlabel = \"Noise (pA)\", \n",
    "    ylabel = \"Probability of occurance\", \n",
    "    label = \"\", \n",
    "    normalize = :pdf, \n",
    "    xlims = xlims\n",
    "    #orientation = :h\n",
    ")\n",
    "noise_fit = fit(Normal, Wt)\n",
    "mu = round(noise_fit.μ, digits = 2)\n",
    "sig = round(noise_fit.σ, digits = 2)\n",
    "plot!(fig3_B, noise_fit, c = :black, \n",
    "    #orientation = :h,\n",
    "    label = \"Fit (μ = $mu pA σ = $sig pA)\",\n",
    "    linestyle = :dash, lw = 4.0, size = (500,500))\n",
    "title!(fig3_B, \"B\", title_location = :left);"
   ]
  },
  {
   "cell_type": "code",
   "execution_count": null,
   "metadata": {},
   "outputs": [],
   "source": [
    "#Make a problem, specifying all parameters\n",
    "p_dict = read_JSON(\"params.json\") \n",
    "p_dict[:I_app] = 10.0\n",
    "p_dict[:g_ACh] = 0.0 #Remove g_ACh influence\n",
    "p_dict[:g_TREK] = 0.0 #Remove g_TREK influence\n",
    "p = p_dict |> extract_dict;\n",
    "u0 = read_JSON(\"conds.json\") |> extract_dict;\n",
    "tspan = (0.0, 30000);\n",
    "prob = ODEProblem(T_ode, u0, tspan, p)\n",
    "codim1 = (:I_app)\n",
    "\n",
    "@time c1_map = codim_map(prob, codim1, c1_lims = xlims, eq_res = 10);\n",
    "fit_rng = collect(xlims[1]:0.1:xlims[2]);\n",
    "vline(fit_rng, line_z = pdf.(noise_fit, fit_rng).*100, c = :YlOrBr_8, lw = 10.0, alpha = 0.5, label = \"Noise Probability\", ylims = (-80.0, -20.0), cbar = false)\n",
    "plot!(c1_map, markersize = 10, xlabel = \"\\$I_{App}\\$ (pA)\", ylabel = \"\\$V_t\\$ (mV)\", grid = false)\n",
    "fig3_C = title!(\"C\", title_location = :left);"
   ]
  },
  {
   "cell_type": "code",
   "execution_count": null,
   "metadata": {},
   "outputs": [],
   "source": [
    "fig3 = plot(fig3_A, fig3_B, fig3_C, grid = false, layout = grid(3,1), size = (1000,1000))"
   ]
  },
  {
   "cell_type": "code",
   "execution_count": null,
   "metadata": {},
   "outputs": [],
   "source": [
    "savefig(fig3, \"$(figure_path)/Figure3_Gaussian_White_Noise.png\")"
   ]
  },
  {
   "cell_type": "code",
   "execution_count": null,
   "metadata": {},
   "outputs": [],
   "source": [
    "import RetinalChaos: ensemble_func, EnsembleProblem, EnsembleThreads"
   ]
  },
  {
   "cell_type": "code",
   "execution_count": null,
   "metadata": {},
   "outputs": [],
   "source": [
    "n_sims = 5\n",
    "par_sym = :τw\n",
    "par = findall(isequal(par_sym), Symbol.(T_sde.ps))[1]\n",
    "#or \n",
    "#This is just a repeated measures trial\n",
    "par = :none\n",
    "p_range = LinRange(0.01, 5.0, n_sims)\n",
    "println(par)"
   ]
  },
  {
   "cell_type": "code",
   "execution_count": null,
   "metadata": {},
   "outputs": [],
   "source": [
    "prob_func(prob, i, repτ = ensemble_func(prob, i, repeat; pars = par, rng = p_range)\n",
    "ensemble_prob = EnsembleProblem(SDEprob, prob_func = prob_func)"
   ]
  },
  {
   "cell_type": "code",
   "execution_count": null,
   "metadata": {},
   "outputs": [],
   "source": [
    "@time sim = solve(ensemble_prob, SOSRI(), abstol = 0.2, reltol = 2e-2, maxiters = 1e7, saveat = 100.0, trajectories = n_sims, EnsembleThreads());"
   ]
  },
  {
   "cell_type": "code",
   "execution_count": null,
   "metadata": {},
   "outputs": [],
   "source": [
    "vars = [:v :b :W]\n",
    "xlims = (0.0, 60e3) \n",
    "xticks = (collect(xlims[1]:5000:xlims[2]), collect(0:5.0:(xlims[1]-xlims[2]/1000)))\n",
    "p = plot(layout = grid(length(vars),1), xlims = (0, 60e3), size = (800, 800))\n",
    "for (idx, traj) in enumerate(sim)\n",
    "    val = p_range[idx]\n",
    "    plot!(p, traj, vars = vars, lw = 1.0, \n",
    "        c = :delta, line_z = val, clim = (p_range[1], p_range[end]), legend = :none, \n",
    "        xticks = xticks, \n",
    "        xlims = xlims\n",
    "    )\n",
    "    #plot(p, )\n",
    "end\n",
    "p"
   ]
  },
  {
   "cell_type": "code",
   "execution_count": null,
   "metadata": {},
   "outputs": [],
   "source": []
  }
 ],
 "metadata": {
  "kernelspec": {
   "display_name": "Julia 1.4.2",
   "language": "julia",
   "name": "julia-1.4"
  },
  "language_info": {
   "file_extension": ".jl",
   "mimetype": "application/julia",
   "name": "julia",
   "version": "1.4.2"
  }
 },
 "nbformat": 4,
 "nbformat_minor": 4
}
